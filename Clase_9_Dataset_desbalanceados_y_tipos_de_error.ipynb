{
  "nbformat": 4,
  "nbformat_minor": 0,
  "metadata": {
    "colab": {
      "name": "Clase 9: Dataset desbalanceados y tipos de error.ipynb",
      "provenance": [],
      "toc_visible": true,
      "include_colab_link": true
    },
    "kernelspec": {
      "name": "python3",
      "display_name": "Python 3"
    },
    "language_info": {
      "name": "python"
    }
  },
  "cells": [
    {
      "cell_type": "markdown",
      "metadata": {
        "id": "view-in-github",
        "colab_type": "text"
      },
      "source": [
        "<a href=\"https://colab.research.google.com/github/MTracchia/Laboratorio-de-Datos/blob/main/Clase_9_Dataset_desbalanceados_y_tipos_de_error.ipynb\" target=\"_parent\"><img src=\"https://colab.research.google.com/assets/colab-badge.svg\" alt=\"Open In Colab\"/></a>"
      ]
    },
    {
      "cell_type": "markdown",
      "metadata": {
        "id": "FV_CU9J4mtqZ"
      },
      "source": [
        "# Atacando un problema de clasificación: predicción de días lluviosos (primera parte)\n",
        "\n",
        "En este primer notebook vamos a investigar cómo podemos mejorar las predicciones que hicimos en la clase pasada con regresión logística. En particular, vamos a investigar el efecto de los datos desbalanceados.\n",
        "\n",
        "Recordemos de la clase pasa que cargamos un archivo de INTA con distintos campos asociados a observaciones metereológicas."
      ]
    },
    {
      "cell_type": "code",
      "metadata": {
        "id": "wtosfPWZmmov"
      },
      "source": [
        "# Como siempre, tratamos de traer todos los paquetes al ppio\n",
        "from google.colab import drive # Para montar nuestro drive en la consola\n",
        "import matplotlib.pylab as plt # Para gráficos\n",
        "import numpy as np # Para manejo de arrays, operaciones matemáticas, etc.\n",
        "from sklearn.linear_model import LogisticRegression # El método de regresión logística que vamos a usar\n",
        "import pandas as pd # Para manejo de base de datos\n",
        "\n",
        "# Traemos los datos\n",
        "drive.mount('/content/drive') # Montamos nuestra unidad de Google Drive\n",
        "\n",
        "filename = '/content/drive/My Drive/LaboDatos2021/datosDiariosSanFernandoINTA.xls'\n",
        "\n",
        "d = pd.read_excel(filename) # Levantamos los datos, en este caso, con el método pd.read_excel\n",
        "d.head() # Mostramos las primeras líneas, para darnos una idea"
      ],
      "execution_count": null,
      "outputs": []
    },
    {
      "cell_type": "markdown",
      "metadata": {
        "id": "kcZNPzxInby5"
      },
      "source": [
        "Luego, filtramos el dataframe descartando columnas con datos faltantes,  seleccionamos un subconjunto de columnas, y las renombramos."
      ]
    },
    {
      "cell_type": "code",
      "metadata": {
        "id": "6vpHNedNno2L"
      },
      "source": [
        "d_filtrado = d[['Temperatura_Abrigo_150cm_Maxima',\n",
        "                'Temperatura_Abrigo_150cm_Minima',\n",
        "                'Precipitacion_Pluviometrica',\n",
        "                'Velocidad_Viento_Maxima',\n",
        "                'Rocio_Medio',\n",
        "                'Humedad_Media']].dropna().copy() # Nos quedamos con ciertos campos del data set, para facilitar el trabajo. Y para limitarlo.\n",
        "                                                  # Notar que primero aplicamos el método .dropna() para eliminar filas que tengan alguna columna con NaN \n",
        "                                                  # Ademas, el metodo copy() nos asegura que estemos creando un nuevo dataframe \n",
        "d_filtrado.rename({'Temperatura_Abrigo_150cm_Maxima' : 'temperaturaMaxima',\n",
        "                   'Temperatura_Abrigo_150cm_Minima' : 'temperaturaMinima',\n",
        "                   'Precipitacion_Pluviometrica' : 'precipitacion',\n",
        "                   'Humedad_Media' : 'humedad',\n",
        "                   'Rocio_Medio' : 'rocio',\n",
        "                   'Velocidad_Viento_Maxima' : 'viento'},\n",
        "                  axis = 1,\n",
        "                  inplace = True) # Esto toma como input un diccionario en el cual las llaves son los nombres actuales de columnas, y los valores los nombres nuevos (a los que queremos renombrar)\n",
        "                                  # axis = 1 es porque queremos renombrar columnas, y inplace=True es porque queremos \"pisar\" el dataframe al renombrarlo"
      ],
      "execution_count": null,
      "outputs": []
    },
    {
      "cell_type": "markdown",
      "metadata": {
        "id": "lPqDRP2knuWR"
      },
      "source": [
        "Finalmente, construimos una variable con las etiquetas de los días lluviosos."
      ]
    },
    {
      "cell_type": "code",
      "metadata": {
        "id": "6dXtXjb7nytN"
      },
      "source": [
        "d_filtrado['llueveNollueve'] = 0 # empezamos con una columna llena de 0. \n",
        "indice =  d_filtrado['precipitacion'] > 0  # esto me da los valores del indice para los cuales hay precipitacion mayor a 0\n",
        "d_filtrado.loc[indice, 'llueveNollueve'] = 1 # entonces para esos valores del indice pongo 1, porque en el dia correspondiente, llovio\n",
        "\n",
        "d_filtrado['llueveNollueve'].value_counts()"
      ],
      "execution_count": null,
      "outputs": []
    },
    {
      "cell_type": "markdown",
      "metadata": {
        "id": "fYXbOp0tn1uE"
      },
      "source": [
        "# Mejorando cómo medimos el score de clasificación"
      ]
    },
    {
      "cell_type": "markdown",
      "metadata": {
        "id": "rkbz4Achn5JB"
      },
      "source": [
        "Empecemos a partir del intento por predecir los días de lluvia en base a dos variables: temperatura mínima y humedad. \n",
        "\n",
        "Esto lo realizabamos mediante el siguiente código:"
      ]
    },
    {
      "cell_type": "code",
      "metadata": {
        "id": "Ks9hH4HGoHLD"
      },
      "source": [
        "# Definamos la matriz X\n",
        "campos = ['temperaturaMinima',\n",
        "          'humedad'] # Lista que contiene las features de interés\n",
        "X = d_filtrado[campos].values # En este caso no hace falta reshapear, porque ya tiene la forma que queremos\n",
        "y = d_filtrado['llueveNollueve'] # Nuestra etiqueta sigue siende la misma de antes\n",
        "\n",
        "regLog = LogisticRegression(penalty = 'none') # Inicializamos nuevamente el modelo\n",
        "regLog.fit(X, y) # Ajustamos el modelo con los parámetros\n",
        "score = regLog.score(X,y) # Calculamos el score\n",
        "\n",
        "print('El score del modelo es de: {}'.format(round(score,4))) # Le pido que printee el score del modelo. Le pido que lo haga con 4 cifras significativas"
      ],
      "execution_count": null,
      "outputs": []
    },
    {
      "cell_type": "markdown",
      "metadata": {
        "id": "sJDp85HkDy91"
      },
      "source": [
        "Obtuvimos un score de 0.7125. Recordemos que el score es simplemente la cantidad de aciertos que obtuvimos dividido por la cantidad total de casos. En esta oportunidad, acertamos aproximadamente a un 70% de los casos. Al principio podría parecer que no está tan mal, pero esto es engañoso. El score con el que tenemos que comparar no es 50%, porque el dataset no está balanceado. Por ejemplo, el clasificador trivial que dice que nunca llueve, tiene una precisión de aproximadamente 0.68.\n",
        "\n",
        "En realidad, nos gustaría tener una idea más detallada de en cuántos días que llovía nuestro clasificador dio el resultado correcto, y lo mismo para días que no llovío. \n",
        "\n",
        "Digamos que los días sin lluvias son **negativos** y los días con lluva son **positivos**. \n",
        "\n",
        "1.   Si el clasificador dice que no llueve y no llueve, es un **verdadero negativo**\n",
        "2.   Si el clasificador dice que no llueve y llueve, es un **falso negativos**\n",
        "3.   Si el clasificador dice que llueve y llueve, es un **verdadero positivo**\n",
        "4.   Si el clasificador dice que llueve y no llueve, es un **falso positivo**\n",
        "\n",
        "Esto se puede resumir en la **matriz de confusión**:\n",
        "\n",
        "\n",
        "![mc.png](data:image/png;base64,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)"
      ]
    },
    {
      "cell_type": "code",
      "metadata": {
        "id": "TXAOUqvdpfXP"
      },
      "source": [
        "from sklearn.metrics import confusion_matrix\n",
        "\n",
        "ypred = regLog.predict(X) # con esto obtengo la predicción de las etiquetas en base a mis datos\n",
        "\n",
        "cm = confusion_matrix(ypred, y) # primera entrada son las etiquetas predichas, segunda son las reales\n",
        "\n",
        "print(cm)"
      ],
      "execution_count": null,
      "outputs": []
    },
    {
      "cell_type": "markdown",
      "metadata": {
        "id": "iTopg2ZOqRmk"
      },
      "source": [
        "Podemos armar una versión normalizada por filas, para independizarnos de los números y hablar de las tasas de clasificación."
      ]
    },
    {
      "cell_type": "code",
      "metadata": {
        "id": "MF1uYJ37qVuQ"
      },
      "source": [
        "cm = confusion_matrix(ypred, y, normalize='true') # primera entrada son las etiquetas predichas, segunda son las reales\n",
        "\n",
        "print(cm)"
      ],
      "execution_count": null,
      "outputs": []
    },
    {
      "cell_type": "markdown",
      "metadata": {
        "id": "UfyZHDEzGT_9"
      },
      "source": [
        "Es decir que en un 73% de las veces, si el algoritmo dijo no que llovía le pegó, y en 59% de las veces cuando dijo que llovía. \n",
        "\n",
        "La matriz de confusión tiene 4 entradas. Podríamos querer resumir la performance con un único número. Ya vimos que el score estándar (\"accuracy\") no es tan buena medida para datasets desbalanceados. Hay muchas formas de definir números que reflejen la performance del algoritmo, incluso en datasets no balanceados. \n",
        "\n",
        "Antes de hacerlo, introducimos dos métricas conocidas como sensibilidad y especificidad:\n",
        "\n",
        "![metrics.png](data:image/png;base64,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)\n",
        "\n",
        "Este diagrama ilustra como se computan ambos a partir de la matriz de confusión. \n",
        "\n",
        "La sensibilidad responde la pregunta, ¿qué proporción de los casos positivos pude detectar realmente?\n",
        "\n",
        "La especificidad responde la pregunta, ¿qué proporción de los casos negativos pude detectar realmente?\n",
        "\n",
        "Introducimos entonces la \"accuracy\" balanceada como el promedio de estas dos métricas.\n",
        "\n",
        "![download (3).png](data:image/png;base64,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)"
      ]
    },
    {
      "cell_type": "code",
      "metadata": {
        "id": "Q0zhI6RFrqyQ"
      },
      "source": [
        "cm = confusion_matrix(ypred, y) \n",
        "\n",
        "def balanced_accuracy(cm):\n",
        "  sensibilidad = cm[1,1]/(cm[1,1]+cm[0,1])\n",
        "  especificidad = cm[0,0]/(cm[1,0]+cm[0,0])\n",
        "  return [sensibilidad, especificidad, (sensibilidad + especificidad)/2]\n",
        "\n",
        "metricas = balanced_accuracy(cm)\n",
        "\n",
        "print('Matriz de confusion del modelo es:')\n",
        "print(cm)\n",
        "print('Sensibilidad del modelo es de: {}'.format(round(metricas[0],4)))  \n",
        "print('Especificidad del modelo es de: {}'.format(round(metricas[1],4)))  \n",
        "print('BA del modelo es de: {}'.format(round(metricas[2],4))) "
      ],
      "execution_count": null,
      "outputs": []
    },
    {
      "cell_type": "markdown",
      "metadata": {
        "id": "PEzgHyjWr9-k"
      },
      "source": [
        "# Balanceando por subsampleado\n",
        "\n",
        "Volvamos a graficar el espacio bidimensional de temperatura mínima vs. presión, tal como hicimos al final de la clase anterior, excepto que ahora vamos a definir una función para hacerlo, porque vamos a tener que hacerlo muchas veces:\n",
        "\n",
        "\n"
      ]
    },
    {
      "cell_type": "code",
      "metadata": {
        "id": "ddfW9o1NsQed"
      },
      "source": [
        "def grafica_logred_2D(X,y,regLog):\n",
        "\n",
        "  beta_0 = regLog.intercept_ # El beta 0\n",
        "  beta_1 = regLog.coef_[0][0] # El coeficiente beta_1\n",
        "  beta_2 = regLog.coef_[0][1] # El coeficiente beta_2\n",
        "\n",
        "  fig, ax = plt.subplots(figsize = (10,7))\n",
        "\n",
        "  ax.set_title('Mi Regresión Logística')\n",
        "  ax.scatter(X[:,0], # Ploteamos la primera columna de nuestra matriz X. Osea, la temperaturaMinima\n",
        "            X[:,1], # Ploteamos la segunda columna de nuestra matriz X. Osea, la humedad\n",
        "            c = y, # Les damos color a los puntos según la etiqueta real\n",
        "            cmap = 'Set3', # El mapa de color\n",
        "            )\n",
        "  ax.set_xlabel('Temperatura Mínima') # Etiqueta del eje x\n",
        "  ax.set_ylabel('Humedad') # Etiqueta del eje y\n",
        "\n",
        "  # Plotear la curva acá, no sería de mucho interés. Sí podríamos colorear un área como representación de la función P: R² ---> R\n",
        "  # Plotiemos la frontera de decisión\n",
        "\n",
        "  x_1_test = np.arange(-20,30,0.5) # Generamos unas temperaturas de prueba, para plotear la definición de frontera en el caso de dos features como vimos en la teórica\n",
        "  ax.plot(x_1_test,\n",
        "          - (beta_0 + x_1_test * beta_1) / beta_2, # Generamos el la recta que calculamos en la teórica\n",
        "          linestyle = 'dashed',\n",
        "          color = 'k')\n",
        "  #ax.legend()\n",
        "  ax.axis([-20,30,50,105]) # Seteamos los límites de los ejes\n",
        "  plt.show()\n",
        "\n",
        "\n",
        "# ahora si, llamamos la funcion\n",
        "grafica_logred_2D(X,y,regLog)"
      ],
      "execution_count": null,
      "outputs": []
    },
    {
      "cell_type": "markdown",
      "metadata": {
        "id": "m3dzhX1zsX9g"
      },
      "source": [
        "Vemos inmediatamente un problema: la recta tiende a asegurarse que los puntos celestes (días sin lluvia) esten bien clasificados, a expensas de los días amarillos (con lluvia). **Esto es porque hay muchos más días sin lluvia en el dataset y por lo tanto es una mejor estrategía clasificarlos correctamente para reducir la función de pérdida.**\n",
        "\n",
        "Empecemos con una forma ingenua de atacar este problema: descartemos aleatoriamente datos de días sin lluvia hasta que la cantidad de etiquetas sea la misma en los dos grupos."
      ]
    },
    {
      "cell_type": "code",
      "metadata": {
        "id": "uq7HjpGDst_n"
      },
      "source": [
        "import numpy as np\n",
        "\n",
        "# indices de cada una de las clases\n",
        "i_class0 = np.where(y == 0)[0]\n",
        "i_class1 = np.where(y == 1)[0]\n",
        "\n",
        "# numero de observaciones en cada una de las clases\n",
        "n_class0 = len(i_class0)\n",
        "n_class1 = len(i_class1)\n",
        "\n",
        "# seleccionar un subconjunto de indices de clase 0 (dias sin lluvia) del tamaño del indice de clase 1 (dias con lluvia) al azar\n",
        "i_class0_downsampled = np.random.choice(i_class0, size=n_class1, replace=False)\n",
        "\n",
        "indices_row = np.concatenate((i_class0_downsampled, i_class1), axis=0) # armo los indices finales concatenando todo de nuevo\n",
        "X_balance = X[indices_row, 0:] # selecciono en base a esos indices las filas correspondientes\n",
        "y_balance = np.asarray(y)[indices_row] # lo mismo con el vector de targers\n",
        "\n",
        "print(len(y_balance[y_balance==0])) # veo que efectivamente tengo la misma cantidad de 0 que 1\n",
        "print(len(y_balance[y_balance==1]))"
      ],
      "execution_count": null,
      "outputs": []
    },
    {
      "cell_type": "markdown",
      "metadata": {
        "id": "NNQ7afBQw_2Z"
      },
      "source": [
        "Ahora, vuelvo a entrenar y evaluar el modelo con los datos balanceados."
      ]
    },
    {
      "cell_type": "code",
      "metadata": {
        "id": "IpI0AoSXxDcf"
      },
      "source": [
        "regLog = LogisticRegression(penalty = 'none') # Inicializamos nuevamente el modelo\n",
        "regLog.fit(X_balance, y_balance) # Ajustamos el modelo cnon los datos balanceados\n",
        "score = regLog.score(X_balance,y_balance) # Calculamos el score con los datos balanceados\n",
        "beta_0 = regLog.intercept_ # El beta 0\n",
        "beta_1 = regLog.coef_[0][0] # El coeficiente beta_1\n",
        "beta_2 = regLog.coef_[0][1] # El coeficiente beta_2\n",
        "\n",
        "ypred_balance = regLog.predict(X_balance) # con esto obtengo la predicción de las etiquetas en base a mis datos\n",
        "cm = confusion_matrix(ypred_balance, y_balance) # primera entrada son las etiquetas predichas, segunda son las reales\n",
        "metricas = balanced_accuracy(cm)\n",
        "\n",
        "print('El score del modelo es de: {}'.format(round(score,4))) # Le pido que printee el score del modelo. Le pido que lo haga con 4 cifras significativas\n",
        "print('Matriz de confusion del modelo es:')\n",
        "print(cm)\n",
        "print('Sensibilidad del modelo es de: {}'.format(round(metricas[0],4)))  \n",
        "print('Especificidad del modelo es de: {}'.format(round(metricas[1],4)))  \n",
        "print('BA del modelo es de: {}'.format(round(metricas[2],4))) "
      ],
      "execution_count": null,
      "outputs": []
    },
    {
      "cell_type": "markdown",
      "metadata": {
        "id": "eFIqxySZxjiR"
      },
      "source": [
        "Observemos que como balanceamos los datos, ahora BA y \"accuracy\" son iguales. Ademas, cometemos la misma cantidad de errores en ambas categorias (dias con y sin lluvia).\n",
        "\n",
        "Veamos como se ve la recta de decision:"
      ]
    },
    {
      "cell_type": "code",
      "metadata": {
        "id": "sd_Hzy2pyCDW"
      },
      "source": [
        "# Miremos esto en un gráfico\n",
        "\n",
        "grafica_logred_2D(X_balance,y_balance,regLog)"
      ],
      "execution_count": null,
      "outputs": []
    },
    {
      "cell_type": "markdown",
      "metadata": {
        "id": "Zl76-To3yTjG"
      },
      "source": [
        "Claramente la frontera ahora pasa por el centro de la nube de puntos."
      ]
    },
    {
      "cell_type": "markdown",
      "metadata": {
        "id": "kjs1v9K_yZCh"
      },
      "source": [
        "# Balanceando por frecuencia de clases\n",
        "\n",
        "El problema con la forma anterior de balancear el dataset es que tuvimos que tirar datos a la basura (y esto tuvimos que hacerlo al azar). \n",
        "\n",
        "Hay una  mejor forma de hacer esto, que es adaptar la penalización por clasificación incorrecta dependiendo de la frecuencia con la que aparece cada etiqueta. Es decir, que si una etiqueta es más frecuente que la otra, hay menor penalización asociada. Esto lo hacemos con la variable class_weight del objeto de regresión logística de scikit-learn."
      ]
    },
    {
      "cell_type": "code",
      "metadata": {
        "id": "ZkuFJiaKy78r"
      },
      "source": [
        "regLog = LogisticRegression(penalty = 'none', class_weight='balanced') # Inicializamos nuevamente el modelo. Pedimos balancear las clases.\n",
        "regLog.fit(X, y) # Ajustamos el modelo con los parámetros\n",
        "score = regLog.score(X,y) # Calculamos el score\n",
        "beta_0 = regLog.intercept_ # El beta 0\n",
        "beta_1 = regLog.coef_[0][0] # El coeficiente beta_1\n",
        "beta_2 = regLog.coef_[0][1] # El coeficiente beta_2\n",
        "\n",
        "ypred = regLog.predict(X) # con esto obtengo la predicción de las etiquetas en base a mis datos\n",
        "cm = confusion_matrix(ypred, y) # primera entrada son las etiquetas predichas, segunda son las reales\n",
        "metricas = balanced_accuracy(cm)\n",
        "\n",
        "print('El score del modelo es de: {}'.format(round(score,4))) # Le pido que printee el score del modelo. Le pido que lo haga con 4 cifras significativas\n",
        "print('Matriz de confusion del modelo es:')\n",
        "print(cm)\n",
        "print('Sensibilidad del modelo es de: {}'.format(round(metricas[0],4)))  \n",
        "print('Especificidad del modelo es de: {}'.format(round(metricas[1],4)))  \n",
        "print('BA del modelo es de: {}'.format(round(metricas[2],4))) "
      ],
      "execution_count": null,
      "outputs": []
    },
    {
      "cell_type": "markdown",
      "metadata": {
        "id": "gBGBTffm1t-j"
      },
      "source": [
        "En este caso, nuevamente son similares la \"balanced accuracy\" el score del modelo (\"accuracy\" a secas)."
      ]
    },
    {
      "cell_type": "code",
      "metadata": {
        "id": "vFVqX_SR12Bb"
      },
      "source": [
        "# Miremos esto en un gráfico\n",
        "\n",
        "grafica_logred_2D(X,y,regLog)"
      ],
      "execution_count": null,
      "outputs": []
    },
    {
      "cell_type": "markdown",
      "metadata": {
        "id": "EgNh6h6J2DM5"
      },
      "source": [
        "Esto fuerza a la recta a pasar por entre la nube de puntos debido a la importancia relativa que le da a los errores de clasficación de cada una de las clases."
      ]
    },
    {
      "cell_type": "markdown",
      "metadata": {
        "id": "mV_0tS552yob"
      },
      "source": [
        "# Tipos de error\n",
        "\n",
        "Empezamos a darnos cuenta de algo: la forma en que la recta atraviesa la nube de puntos no refleja un único concepto de *performance* del algoritmo, porque ese concepto *no existe* \n",
        "\n",
        "Supongamos que es muy importante detectar todos los días de lluvia, es decir, si va a llovar es muy importante que el pronóstico diga que hay lluvia (por ejemplo, podemos imaginar un futuro con una lluvia radioactiva que mata a las personas).\n",
        "\n",
        "Entonces podemos lograr esto poniendo un peso comparativamente más grande a la etiqueta 1 (día con lluvia)\n",
        "\n"
      ]
    },
    {
      "cell_type": "code",
      "metadata": {
        "id": "3Q0koh_BfOEp"
      },
      "source": [
        "pesos = {0:0.1, 1:1} # armamos un diccionario donde las llaves son los labels y los valores los pesos para esos labels\n",
        "\n",
        "regLog = LogisticRegression(penalty = 'none', class_weight=pesos) # Inicializamos nuevamente el modelo. \n",
        "regLog.fit(X, y) # Ajustamos el modelo con los parámetros\n",
        "score = regLog.score(X,y) # Calculamos el score\n",
        "beta_0 = regLog.intercept_ # El beta 0\n",
        "beta_1 = regLog.coef_[0][0] # El coeficiente beta_1\n",
        "beta_2 = regLog.coef_[0][1] # El coeficiente beta_2\n",
        "\n",
        "ypred = regLog.predict(X) # con esto obtengo la predicción de las etiquetas en base a mis datos\n",
        "cm = confusion_matrix(ypred, y) # primera entrada son las etiquetas predichas, segunda son las reales\n",
        "metricas = balanced_accuracy(cm)\n",
        "\n",
        "print('El score del modelo es de: {}'.format(round(score,4))) # Le pido que printee el score del modelo. Le pido que lo haga con 4 cifras significativas\n",
        "print('Matriz de confusion del modelo es:')\n",
        "print(cm)\n",
        "print('Sensibilidad del modelo es de: {}'.format(round(metricas[0],4)))  \n",
        "print('Especificidad del modelo es de: {}'.format(round(metricas[1],4)))  \n",
        "print('BA del modelo es de: {}'.format(round(metricas[2],4))) \n",
        "\n",
        "grafica_logred_2D(X,y,regLog)"
      ],
      "execution_count": null,
      "outputs": []
    },
    {
      "cell_type": "markdown",
      "metadata": {
        "id": "V9Lw7tqQi5eg"
      },
      "source": [
        "Vemos de la matriz de confusión únicamente 2 de los días de lluvia son clasificados erróneamente como días sin lluvia. Por el contrario, dentro de los días de no lluvia, una cantidad muy grande es clasificada como lluvia. Cuando vemos la figura entendemos que pasa: la linea de división está sesgada para que todos los ejemplos de lluvia queden siempre del mismo lado, casi sin clasificaciones equivocadas.\n",
        "\n",
        "Este clasificador no es muy útil. Es verdad que es muy poco probable que llueva un día y no lo detectemos, pero también es cierto que vamos a estar repletos de falsos positivos, que en la jerga se lo conoce como error **tipo 1**.\n",
        "\n",
        "Podemos pensar en la posición opuesta: queremos jamás fallar en detectar un día sin lluvia."
      ]
    },
    {
      "cell_type": "code",
      "metadata": {
        "id": "L9Sdh3WekUGq"
      },
      "source": [
        "pesos = {0:1, 1:0.4} # armamos un diccionario donde las llaves son los labels y los valores los pesos para esos labels\n",
        "\n",
        "regLog = LogisticRegression(penalty = 'none', class_weight=pesos) # Inicializamos nuevamente el modelo. \n",
        "regLog.fit(X, y) # Ajustamos el modelo con los parámetros\n",
        "score = regLog.score(X,y) # Calculamos el score\n",
        "beta_0 = regLog.intercept_ # El beta 0\n",
        "beta_1 = regLog.coef_[0][0] # El coeficiente beta_1\n",
        "beta_2 = regLog.coef_[0][1] # El coeficiente beta_2\n",
        "\n",
        "ypred = regLog.predict(X) # con esto obtengo la predicción de las etiquetas en base a mis datos\n",
        "cm = confusion_matrix(ypred, y) # primera entrada son las etiquetas predichas, segunda son las reales\n",
        "metricas = balanced_accuracy(cm)\n",
        "\n",
        "print('El score del modelo es de: {}'.format(round(score,4))) # Le pido que printee el score del modelo. Le pido que lo haga con 4 cifras significativas\n",
        "print('Matriz de confusion del modelo es:')\n",
        "print(cm)\n",
        "print('Sensibilidad del modelo es de: {}'.format(round(metricas[0],4)))  \n",
        "print('Especificidad del modelo es de: {}'.format(round(metricas[1],4)))  \n",
        "print('BA del modelo es de: {}'.format(round(metricas[2],4))) \n",
        "\n",
        "grafica_logred_2D(X,y,regLog)"
      ],
      "execution_count": null,
      "outputs": []
    },
    {
      "cell_type": "markdown",
      "metadata": {
        "id": "bRBS7Htlkg-2"
      },
      "source": [
        "Esta situación es similar a la anterior. Ahora la tasa de verdaderos negativos es muy alta, pero a expensas de que también lo sea la tasa de falsos negativos. Esto se conoce en la jerga como **error tipo 2.**\n",
        "\n",
        "En resúmen, dependiendo de como peso los errores asociados a distintas etiquetas, puedo tratar de que no se me escape ningún caso positivo, pero eso tenderá a aumentar el error **tipo 1**\n",
        "\n",
        "Alternativamente, puedo tratar de que no se me escape ningún negativo, pero eso tenderá a aumentar el error **tipo 2**"
      ]
    },
    {
      "cell_type": "markdown",
      "metadata": {
        "id": "hrHg9Z66pIGc"
      },
      "source": [
        "# Para llevarse de este notebook\n",
        "\n",
        "\n",
        "\n",
        "*   El score por defecto (\"accuracy\") puede no ser muy bueno para medir la performance de un clasificador si los datos no están balanceados. En ese caso, recomendamos visualizar la matriz de confusión:\n",
        "\n",
        "\n",
        "\n",
        "```\n",
        "from sklearn.metrics import confusion_matrix\n",
        "\n",
        "ypred = regLog.predict(X) # con esto obtengo la predicción de las etiquetas en base a mis datos\n",
        "\n",
        "cm = confusion_matrix(ypred, y) # primera entrada son las etiquetas predichas, segunda son las reales\n",
        "\n",
        "print(cm)\n",
        "```\n",
        "\n",
        "*   Si queremos resumir la performance en un único número, podemos considerar el promedio de la especificidad y la sensibilidad:\n",
        "\n",
        "```\n",
        "def balanced_accuracy(cm):\n",
        "  sensibilidad = cm[0,0]/(cm[0,0]+cm[1,0])\n",
        "  especificidad = cm[1,1]/(cm[1,1]+cm[0,1])\n",
        "  return [sensibilidad, especificidad, (sensibilidad + especificidad)/2]\n",
        "```\n",
        "\n",
        "*   Si tenemos datos no balanceados, una opción es subsamplear la clase más prevalente. Pero tiene la desventaja de que perdemos datos. Otra forma de hacerlo es penalizando las clasificaciones erróneas de distinta forma dependiendo de la clase. Se puede hacer tanto balanceado:\n",
        "\n",
        "\n",
        "```\n",
        "regLog = LogisticRegression(penalty = 'none', class_weight='balanced') #\n",
        "```\n",
        "\n",
        "*   Como por pesos especificados a mano para cada una de las clases:\n",
        "\n",
        "```\n",
        "peso = {0:0.5, 1:1}\n",
        "\n",
        "regLog = LogisticRegression(penalty = 'none', class_weight=pesos) #\n",
        "```\n",
        "\n",
        "*   Vimos que hay dos tipos de errores que puedo cometer, asociados a la cantidad de falsos positivos (tipo 1) y falsos negativos (tipo 2).\n",
        "\n",
        "\n",
        "\n",
        "\n",
        "\n",
        "\n"
      ]
    },
    {
      "cell_type": "markdown",
      "metadata": {
        "id": "BapAkHQVqzAQ"
      },
      "source": [
        "# Preguntas extra\n",
        "\n",
        "1.   Supongamos que desarrollás un método para diagnosticar una enfermedad grave, por ejemplo, HIV (la presencia de HIV cuenta  como \"positivo\"). ¿Qué error te parece más grave: tipo 1 (falsos positivos), tipo 2 (falsos negativos), o ambos por igual?\n",
        "2.   Supongamos que trabajás programando drones letales dedicados a identificar y asesinar a ciertos criminales prófugos (detectar a un criminal cuenta como \"positivo\"). ¿Qué error te parece más grave: tipo 1 (falsos positivos), tipo 2 (falsos negativos), o ambos por igual?\n",
        "3.   Supongamos que desarrollás un sistema automático para detectar y responder a ataques termonucleares a partir de datos de radar (un ataque cuenta como \"positivo\"). ¿Qué error te parece más grave: tipo 1 (falsos positivos), tipo 2 (falsos negativos), o ambos por igual?\n",
        "\n"
      ]
    }
  ]
}