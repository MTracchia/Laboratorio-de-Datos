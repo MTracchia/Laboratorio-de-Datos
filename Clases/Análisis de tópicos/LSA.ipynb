{
  "nbformat": 4,
  "nbformat_minor": 0,
  "metadata": {
    "colab": {
      "name": "LSA.ipynb",
      "provenance": [],
      "collapsed_sections": [],
      "include_colab_link": true
    },
    "kernelspec": {
      "name": "python3",
      "display_name": "Python 3"
    },
    "language_info": {
      "name": "python"
    }
  },
  "cells": [
    {
      "cell_type": "markdown",
      "metadata": {
        "id": "view-in-github",
        "colab_type": "text"
      },
      "source": [
        "<a href=\"https://colab.research.google.com/github/MTracchia/Laboratorio-de-Datos/blob/main/Clases/An%C3%A1lisis%20de%20t%C3%B3picos/LSA.ipynb\" target=\"_parent\"><img src=\"https://colab.research.google.com/assets/colab-badge.svg\" alt=\"Open In Colab\"/></a>"
      ]
    },
    {
      "cell_type": "markdown",
      "metadata": {
        "id": "_x6t9L4YDtwr"
      },
      "source": [
        "# Latent Semantic Analysis (LSA)\n",
        "\n",
        "En esta notebook vamos a reducir la dimensionalidad de un conjunto de textos mediante LSA, que consiste en encontrar las componentes singulares de la matriz de documentos por términos. \n",
        "La decomposición en valores singulares se conoce como SVD (*Singular Value Decomposition*) y es prácticamente igual al análisis de componentes principales (PCA), salvo en algunos detalles sobre el escaleo o no de las variables, y en la matriz sobre la cual se aplica cada método (en SVD se trabaja sobre la matriz de instancias en el espacio de features mientras que PCA trabaja sobre la matriz de covarianza de los features).\n",
        "Muchos conceptos vistos en PCA se aplican acá también:\n",
        "\n",
        "- los valores singulares nos dicen cuánta información está contenida en cada componente.\n",
        "- las componentes vienen ordenadas de la más informativa a la menos.\n",
        "\n",
        "Reducir la dimensión suele ser una buena práctica a la hora de medir distancias (comparar) entre datos: en vez de hacerlo en el espacio original es mejor operar en el espacio reducido.\n",
        "\n"
      ]
    },
    {
      "cell_type": "code",
      "metadata": {
        "colab": {
          "base_uri": "https://localhost:8080/"
        },
        "id": "mDeRzgMhgDEH",
        "outputId": "909ad254-d11f-4c94-8c3b-c7fd77dd6007"
      },
      "source": [
        "# Importamos las librerías habituales\n",
        "import pandas as pd \n",
        "from google.colab import drive\n",
        "drive.mount('/content/drive')\n",
        "\n",
        "import matplotlib.pylab as plt\n",
        "import numpy as np"
      ],
      "execution_count": null,
      "outputs": [
        {
          "output_type": "stream",
          "text": [
            "Drive already mounted at /content/drive; to attempt to forcibly remount, call drive.mount(\"/content/drive\", force_remount=True).\n"
          ],
          "name": "stdout"
        }
      ]
    },
    {
      "cell_type": "code",
      "metadata": {
        "colab": {
          "base_uri": "https://localhost:8080/"
        },
        "id": "_4WWHyU0Mlga",
        "outputId": "8ea77eab-5836-4e34-f8d1-f6d719ce2c96"
      },
      "source": [
        "# Importamos nltk para extraer stopwords \n",
        "import nltk \n",
        "nltk.download('stopwords')\n",
        "\n",
        "# Librería para hacer wordclouds\n",
        "from wordcloud import WordCloud"
      ],
      "execution_count": null,
      "outputs": [
        {
          "output_type": "stream",
          "text": [
            "[nltk_data] Downloading package stopwords to /root/nltk_data...\n",
            "[nltk_data]   Package stopwords is already up-to-date!\n"
          ],
          "name": "stdout"
        }
      ]
    },
    {
      "cell_type": "code",
      "metadata": {
        "id": "szvl8tlaGep0"
      },
      "source": [
        "# Objetos de sklearn para hacer LSA\n",
        "from sklearn.feature_extraction.text import CountVectorizer # Contador de frecuencia\n",
        "from sklearn.feature_extraction.text import TfidfTransformer # Creador de tf-idf\n",
        "from sklearn.decomposition import TruncatedSVD # Singular Value Decomposition"
      ],
      "execution_count": null,
      "outputs": []
    },
    {
      "cell_type": "markdown",
      "metadata": {
        "id": "SYlUvRe9FHTC"
      },
      "source": [
        "Cargamos el dataset con el que vamos a trabajar desde la carpeta de la materia. Vamos a utilizar el dataset de la clase de *sentiment* sobre letras de distintos ritmos musicales:"
      ]
    },
    {
      "cell_type": "code",
      "metadata": {
        "id": "9Azi0G_Ngztg",
        "colab": {
          "base_uri": "https://localhost:8080/",
          "height": 293
        },
        "outputId": "3a935315-46df-4d8b-c37e-0962f9e28d38"
      },
      "source": [
        "# Path de nuestro dataset\n",
        "filename = '/content/drive/My Drive/LaboDatos2021/todo_tangos.csv'\n",
        "\n",
        "# Carga del dataset\n",
        "df = pd.read_csv(filename)\n",
        "\n",
        "# Vemos las primeras filas \n",
        "df.head()"
      ],
      "execution_count": null,
      "outputs": [
        {
          "output_type": "execute_result",
          "data": {
            "text/html": [
              "<div>\n",
              "<style scoped>\n",
              "    .dataframe tbody tr th:only-of-type {\n",
              "        vertical-align: middle;\n",
              "    }\n",
              "\n",
              "    .dataframe tbody tr th {\n",
              "        vertical-align: top;\n",
              "    }\n",
              "\n",
              "    .dataframe thead th {\n",
              "        text-align: right;\n",
              "    }\n",
              "</style>\n",
              "<table border=\"1\" class=\"dataframe\">\n",
              "  <thead>\n",
              "    <tr style=\"text-align: right;\">\n",
              "      <th></th>\n",
              "      <th>url</th>\n",
              "      <th>titulo</th>\n",
              "      <th>ritmo</th>\n",
              "      <th>autor_letra</th>\n",
              "      <th>autor_musica</th>\n",
              "      <th>letra</th>\n",
              "      <th>ano</th>\n",
              "    </tr>\n",
              "  </thead>\n",
              "  <tbody>\n",
              "    <tr>\n",
              "      <th>0</th>\n",
              "      <td>https://www.todotango.com/musica/tema/130/A-ba...</td>\n",
              "      <td>A bailar</td>\n",
              "      <td>Tango</td>\n",
              "      <td>Homero Expósito</td>\n",
              "      <td>Domingo Federico</td>\n",
              "      <td>¡A bailar a bailar que la orquesta se va! Sobr...</td>\n",
              "      <td>1943.0</td>\n",
              "    </tr>\n",
              "    <tr>\n",
              "      <th>1</th>\n",
              "      <td>https://www.todotango.com/musica/tema/7866/A-b...</td>\n",
              "      <td>A bailar el tango</td>\n",
              "      <td>Tango</td>\n",
              "      <td>Leopoldo Díaz Vélez</td>\n",
              "      <td>Leopoldo Díaz Vélez</td>\n",
              "      <td>Este tango nació para bailarse y así hamacarse...</td>\n",
              "      <td>1962.0</td>\n",
              "    </tr>\n",
              "    <tr>\n",
              "      <th>2</th>\n",
              "      <td>https://www.todotango.com/musica/tema/3647/A-B...</td>\n",
              "      <td>A Beba Bidart</td>\n",
              "      <td>Poemalunfardo</td>\n",
              "      <td>Alberto Uemura</td>\n",
              "      <td>NaN</td>\n",
              "      <td>Nació en la calle Quito entre Boedo y Colombre...</td>\n",
              "      <td>NaN</td>\n",
              "    </tr>\n",
              "    <tr>\n",
              "      <th>3</th>\n",
              "      <td>https://www.todotango.com/musica/tema/2864/A-b...</td>\n",
              "      <td>A bordo de mis zapatos</td>\n",
              "      <td>Milonga</td>\n",
              "      <td>Eugenio Majul</td>\n",
              "      <td>César Isella</td>\n",
              "      <td>Caminé todas las calles de Buenos Aires y es c...</td>\n",
              "      <td>NaN</td>\n",
              "    </tr>\n",
              "    <tr>\n",
              "      <th>4</th>\n",
              "      <td>https://www.todotango.com/musica/tema/3843/A-B...</td>\n",
              "      <td>A Buenos Aires</td>\n",
              "      <td>Milonga</td>\n",
              "      <td>Edmundo Rivero</td>\n",
              "      <td>Edmundo Rivero</td>\n",
              "      <td>En tu baraje gringo ciudad mía vas perdiendo t...</td>\n",
              "      <td>NaN</td>\n",
              "    </tr>\n",
              "  </tbody>\n",
              "</table>\n",
              "</div>"
            ],
            "text/plain": [
              "                                                 url  ...     ano\n",
              "0  https://www.todotango.com/musica/tema/130/A-ba...  ...  1943.0\n",
              "1  https://www.todotango.com/musica/tema/7866/A-b...  ...  1962.0\n",
              "2  https://www.todotango.com/musica/tema/3647/A-B...  ...     NaN\n",
              "3  https://www.todotango.com/musica/tema/2864/A-b...  ...     NaN\n",
              "4  https://www.todotango.com/musica/tema/3843/A-B...  ...     NaN\n",
              "\n",
              "[5 rows x 7 columns]"
            ]
          },
          "metadata": {
            "tags": []
          },
          "execution_count": 16
        }
      ]
    },
    {
      "cell_type": "markdown",
      "metadata": {
        "id": "Mg46yWvJFOBj"
      },
      "source": [
        "Vamos a quedarnos con canciones pertenecientes al tango y con datos donde haya información de la letra:"
      ]
    },
    {
      "cell_type": "code",
      "metadata": {
        "id": "FTwOKV3ehFIv",
        "colab": {
          "base_uri": "https://localhost:8080/",
          "height": 206
        },
        "outputId": "596a51c5-e968-45a4-fbe1-e867bef60bd9"
      },
      "source": [
        "# Nos quedamos solo con los datos pertenecientes al tango\n",
        "df = df[df['ritmo'] == 'Tango'].copy()\n",
        "\n",
        "# Nos quedamos con solo las datos donde esté especificada la letra\n",
        "df.dropna(subset = ['letra'], inplace = True)\n",
        "\n",
        "# Reseteamos el índice\n",
        "df.reset_index(drop = True, inplace = True)\n",
        "\n",
        "# Vemos las primeras filas \n",
        "df.head()"
      ],
      "execution_count": null,
      "outputs": [
        {
          "output_type": "execute_result",
          "data": {
            "text/html": [
              "<div>\n",
              "<style scoped>\n",
              "    .dataframe tbody tr th:only-of-type {\n",
              "        vertical-align: middle;\n",
              "    }\n",
              "\n",
              "    .dataframe tbody tr th {\n",
              "        vertical-align: top;\n",
              "    }\n",
              "\n",
              "    .dataframe thead th {\n",
              "        text-align: right;\n",
              "    }\n",
              "</style>\n",
              "<table border=\"1\" class=\"dataframe\">\n",
              "  <thead>\n",
              "    <tr style=\"text-align: right;\">\n",
              "      <th></th>\n",
              "      <th>url</th>\n",
              "      <th>titulo</th>\n",
              "      <th>ritmo</th>\n",
              "      <th>autor_letra</th>\n",
              "      <th>autor_musica</th>\n",
              "      <th>letra</th>\n",
              "      <th>ano</th>\n",
              "    </tr>\n",
              "  </thead>\n",
              "  <tbody>\n",
              "    <tr>\n",
              "      <th>0</th>\n",
              "      <td>https://www.todotango.com/musica/tema/130/A-ba...</td>\n",
              "      <td>A bailar</td>\n",
              "      <td>Tango</td>\n",
              "      <td>Homero Expósito</td>\n",
              "      <td>Domingo Federico</td>\n",
              "      <td>¡A bailar a bailar que la orquesta se va! Sobr...</td>\n",
              "      <td>1943.0</td>\n",
              "    </tr>\n",
              "    <tr>\n",
              "      <th>1</th>\n",
              "      <td>https://www.todotango.com/musica/tema/7866/A-b...</td>\n",
              "      <td>A bailar el tango</td>\n",
              "      <td>Tango</td>\n",
              "      <td>Leopoldo Díaz Vélez</td>\n",
              "      <td>Leopoldo Díaz Vélez</td>\n",
              "      <td>Este tango nació para bailarse y así hamacarse...</td>\n",
              "      <td>1962.0</td>\n",
              "    </tr>\n",
              "    <tr>\n",
              "      <th>2</th>\n",
              "      <td>https://www.todotango.com/musica/tema/6354/A-c...</td>\n",
              "      <td>A cara limpia</td>\n",
              "      <td>Tango</td>\n",
              "      <td>Nolo López</td>\n",
              "      <td>Anselmo Aieta</td>\n",
              "      <td>No te demores que se hace tarde ponete pronto ...</td>\n",
              "      <td>NaN</td>\n",
              "    </tr>\n",
              "    <tr>\n",
              "      <th>3</th>\n",
              "      <td>https://www.todotango.com/musica/tema/6455/A-c...</td>\n",
              "      <td>A cara o cruz</td>\n",
              "      <td>Tango</td>\n",
              "      <td>Agustín Irusta</td>\n",
              "      <td>Agustín Irusta</td>\n",
              "      <td>A cara o cruz le dije un día y a cara cruz jug...</td>\n",
              "      <td>NaN</td>\n",
              "    </tr>\n",
              "    <tr>\n",
              "      <th>4</th>\n",
              "      <td>https://www.todotango.com/musica/tema/33/A-Cat...</td>\n",
              "      <td>A Cátulo Castillo</td>\n",
              "      <td>Tango</td>\n",
              "      <td>Eladia Blázquez</td>\n",
              "      <td>Eladia Blázquez</td>\n",
              "      <td>Tu muerte fue una tarde muy cálida de Octubre ...</td>\n",
              "      <td>NaN</td>\n",
              "    </tr>\n",
              "  </tbody>\n",
              "</table>\n",
              "</div>"
            ],
            "text/plain": [
              "                                                 url  ...     ano\n",
              "0  https://www.todotango.com/musica/tema/130/A-ba...  ...  1943.0\n",
              "1  https://www.todotango.com/musica/tema/7866/A-b...  ...  1962.0\n",
              "2  https://www.todotango.com/musica/tema/6354/A-c...  ...     NaN\n",
              "3  https://www.todotango.com/musica/tema/6455/A-c...  ...     NaN\n",
              "4  https://www.todotango.com/musica/tema/33/A-Cat...  ...     NaN\n",
              "\n",
              "[5 rows x 7 columns]"
            ]
          },
          "metadata": {
            "tags": []
          },
          "execution_count": 17
        }
      ]
    },
    {
      "cell_type": "markdown",
      "metadata": {
        "id": "Lx_Gl_NeN9B1"
      },
      "source": [
        "### Construcción de la matriz documentos-términos\n",
        "\n",
        "Vamos a construir esta matriz con valorización tf-idf, es decir, además de la frecuencia del término vamos a ponderar la especificidad. \n",
        "Esto lo hacemos en dos pasos: primero, describimos nuestros datos mediante frecuencia de términos; luego, le agregamos la valorización de la especificidad. \n",
        "Vamos además a remover las *stopwords* obtenidas de *nltk*."
      ]
    },
    {
      "cell_type": "code",
      "metadata": {
        "id": "-EgNSzJ2itUT",
        "colab": {
          "base_uri": "https://localhost:8080/"
        },
        "outputId": "7d755aa3-b8cc-4d10-edc8-d3ba0faf44c6"
      },
      "source": [
        "# Lista de stopwords\n",
        "stopwords = nltk.corpus.stopwords.words('spanish')\n",
        "\n",
        "# Creamos el objeto contador de palabras, pidiéndole que remueve\n",
        "# las stopwords, los términos que aparecen en un único documento (min_df)\n",
        "# y los términos que aparecen en más del 70% de los documentos (max_df).\n",
        "# Esto es para eliminar palabras raras (o errores de tipeo) y \n",
        "# términos que seguramente son stopwords no incluídos en la lista\n",
        "count = CountVectorizer(min_df = 2, max_df = 0.70, stop_words = stopwords)\n",
        "\n",
        "# Ajustamos con los datos. Acá especificamente creamos una matriz documentos-términos\n",
        "x_count = count.fit_transform(df['letra'])\n",
        "\n",
        "# Dimensions de la matriz doc-tér\n",
        "print(x_count.shape)"
      ],
      "execution_count": null,
      "outputs": [
        {
          "output_type": "stream",
          "text": [
            "(3981, 16661)\n"
          ],
          "name": "stdout"
        }
      ]
    },
    {
      "cell_type": "markdown",
      "metadata": {
        "id": "8k6PZomjPuJm"
      },
      "source": [
        "Podemos tranquilamente trabajar sobre la matriz de documentos descritos a través de la frecuencia de las palabras o bien, como es habitual, ponderar la especificidad de los términos mediante tf-idf. Esto lo hacemos de la siguiente manera:"
      ]
    },
    {
      "cell_type": "code",
      "metadata": {
        "id": "hZQUTM2zi_zg"
      },
      "source": [
        "# Creamos el objeto tf-idf. Le decimos además que devuelva los\n",
        "# vectores documento con norma euclídea igual a 1 (norm = 'l2')\n",
        "tfidf = TfidfTransformer(norm = 'l2')\n",
        "\n",
        "# Creamos la matriz tf-idf a partir de la matriz de frecuencias\n",
        "x_tfidf = tfidf.fit_transform(x_count)"
      ],
      "execution_count": null,
      "outputs": []
    },
    {
      "cell_type": "markdown",
      "metadata": {
        "id": "5f74iv87QVo1"
      },
      "source": [
        "### Aplicación de LSA sobre el corpus\n",
        "\n",
        "Reduzcamos la dimensionalidad de nuestro corpus de textos a través de hallar los valores singulares. Elijamos por ejemplo 300 dimensiones:"
      ]
    },
    {
      "cell_type": "code",
      "metadata": {
        "id": "e2fJEzL_jFRv"
      },
      "source": [
        "# Dimensión del espacio reducido \n",
        "n_components = 300\n",
        "\n",
        "# Creación del objeto SVD\n",
        "svd = TruncatedSVD(n_components = n_components)"
      ],
      "execution_count": null,
      "outputs": []
    },
    {
      "cell_type": "markdown",
      "metadata": {
        "id": "h5Y6tg3cjsBc"
      },
      "source": [
        "Sigamos el mismo procedimiento del [paper original de LSA](https://mainline.brynmawr.edu/Courses/cs380/fall2006/intro_to_LSA.pdf) (o al menos uno de los mas citados), en el cual en vez de disponer la matriz de los datos como documentos en las filas y términos en las columnas, la disponen traspuesta (cada término es una fila y cada documento es una columna). Ver al final un pequeño comentario sobre esto.\n",
        "\n",
        "Para hacer esto, simplemente trasponemos la matriz antes de buscar valores singulares:"
      ]
    },
    {
      "cell_type": "code",
      "metadata": {
        "colab": {
          "base_uri": "https://localhost:8080/"
        },
        "id": "R16JjFxHjrZU",
        "outputId": "6681aa46-ddbd-4498-9dc9-c57af44ba55a"
      },
      "source": [
        "# Ajuste con los datos y descripción en el espacio reducido\n",
        "# Trabajamos con la matriz traspuesta\n",
        "x_svd = svd.fit_transform(x_tfidf.T)\n",
        "\n",
        "# Dimensión de la matriz de datos en el espacio reducido\n",
        "print(x_svd.shape)"
      ],
      "execution_count": null,
      "outputs": [
        {
          "output_type": "stream",
          "text": [
            "(16661, 300)\n"
          ],
          "name": "stdout"
        }
      ]
    },
    {
      "cell_type": "markdown",
      "metadata": {
        "id": "S4Qs8hnBlJ90"
      },
      "source": [
        "Notemos que la matriz transformada tiene tantos términos por la cantidad de componentes singulares."
      ]
    },
    {
      "cell_type": "markdown",
      "metadata": {
        "id": "GHmxGCZYU_Gx"
      },
      "source": [
        "Al igual que con PCA podemos ver la cantidad de información que retuvimos al hacer la reducción dimensional:"
      ]
    },
    {
      "cell_type": "code",
      "metadata": {
        "colab": {
          "base_uri": "https://localhost:8080/",
          "height": 298
        },
        "id": "vJ8xKEiUVCjT",
        "outputId": "3bed9f4c-79e1-41e3-ae55-1a9888d5d7f6"
      },
      "source": [
        "# con .explained_variance_ratio_ vemos la fracción de información que aporta cada componente\n",
        "evr = svd.explained_variance_ratio_\n",
        "\n",
        "# Graficamos la fracción de varianza que aporta cada componente\n",
        "# y la información acumulada\n",
        "fig, ax = plt.subplots(1, 2, figsize = (12, 4))\n",
        "\n",
        "ax[0].plot(range(1, len(evr) + 1), evr, '-', linewidth = 3)\n",
        "ax[0].set_ylabel('Fracción de varianza explicada')\n",
        "ax[0].set_xlabel('Número de valor singular')\n",
        "\n",
        "# Calculamos el acumulado con la función cumsum de numpy \n",
        "varianza_acumulada = np.cumsum(evr)\n",
        "\n",
        "ax[1].plot(range(1, len(evr) + 1), varianza_acumulada, '-', linewidth = 3)\n",
        "ax[1].set_ylabel('Fracción acumulada de varianza explicada')\n",
        "ax[1].set_xlabel('Cantidad de valores singulares')"
      ],
      "execution_count": null,
      "outputs": [
        {
          "output_type": "execute_result",
          "data": {
            "text/plain": [
              "Text(0.5, 0, 'Cantidad de valores singulares')"
            ]
          },
          "metadata": {
            "tags": []
          },
          "execution_count": 26
        },
        {
          "output_type": "display_data",
          "data": {
            "image/png": "[encoded data removed]",
            "text/plain": [
              "<Figure size 864x288 with 2 Axes>"
            ]
          },
          "metadata": {
            "tags": [],
            "needs_background": "light"
          }
        }
      ]
    },
    {
      "cell_type": "markdown",
      "metadata": {
        "id": "QmC_U09IlZRP"
      },
      "source": [
        "Así vemos que con 300 dimensiones captamos alrededor del 30% de la información."
      ]
    },
    {
      "cell_type": "markdown",
      "metadata": {
        "id": "jK4R62yNU86u"
      },
      "source": [
        "### Operaciones en el espacio reducido. Términos similares.\n",
        "\n",
        "Descrito los términos en el espacio reducido podemos ver la similitud entre ellos. Lo que hicimos al reducir la dimensión fue identificar términos que aparecen en contextos similares, lo cual resalta cuándo dos términos estan relacionados. Veamos un ejemplo:"
      ]
    },
    {
      "cell_type": "code",
      "metadata": {
        "id": "a2Yipn4Jm9br"
      },
      "source": [
        "# Identifiquemos el índice de alguna palabra de referencia\n",
        "index_word = count.vocabulary_['parís']"
      ],
      "execution_count": null,
      "outputs": []
    },
    {
      "cell_type": "markdown",
      "metadata": {
        "id": "mGukYxqSpiAx"
      },
      "source": [
        "En *count.vocabulary_* nos encontramos un diccionario que linkea un dado término con el índice correspondiente. Algo que nos va a ser útil es hacer el proceso inverso: a partir de un índice, obtener el término correspondiente. Esto lo hacemos con el siguiente objeto:"
      ]
    },
    {
      "cell_type": "code",
      "metadata": {
        "id": "y8f86JStp-7_"
      },
      "source": [
        "# Diccionario índice: término\n",
        "vocabulary = {item: key for key, item in count.vocabulary_.items()}"
      ],
      "execution_count": null,
      "outputs": []
    },
    {
      "cell_type": "markdown",
      "metadata": {
        "id": "8MlobLNsUikH"
      },
      "source": [
        "Por otro lado, vamos a tomar como medida de similaridad a la distancia coseno, definida como:\n",
        "\n",
        "$$ d(\\bar u,\\bar v) = 1 - \\frac{\\bar u \\cdot \\bar v}{|u|_2|v|_2}$$\n",
        "\n",
        "que vale 0 si los vectores son apuntan en la misma dirección y 1 si son ortogonales. Definamos la similaridad como 1 menos la distancia coseno:"
      ]
    },
    {
      "cell_type": "code",
      "metadata": {
        "id": "EMY3XKJ1XoFK"
      },
      "source": [
        "from scipy.spatial.distance import cosine as cosine_distance\n",
        "\n",
        "# Calculo las distancia coseno del término de referencia respecto de los otros\n",
        "similarities = [1.00 - cosine_distance(x_svd[index_word], x_svd[i]) for i in range(x_svd.shape[0])]"
      ],
      "execution_count": null,
      "outputs": []
    },
    {
      "cell_type": "markdown",
      "metadata": {
        "id": "Rbvb2UdGXGXp"
      },
      "source": [
        "Ahora nos interesa encontrar los terminos más similares. Esto lo hacemos con la librería *heapq* que nos permite encontrarlas rápidamente:"
      ]
    },
    {
      "cell_type": "code",
      "metadata": {
        "colab": {
          "base_uri": "https://localhost:8080/"
        },
        "id": "aRPZMOHvnVTP",
        "outputId": "b068a123-7b0a-4045-b694-2f8b8048f87a"
      },
      "source": [
        "import heapq\n",
        "\n",
        "# Encuentra las 10 similaridades más grande\n",
        "max_matching = heapq.nlargest(10, similarities)\n",
        "\n",
        "# Encuentra los índices correspondiente a las similaridades más altas\n",
        "max_matching_index = [np.where(similarities == m)[0][0] for m in max_matching]\n",
        "\n",
        "# Devuelve los términos correspondientes a cada índice\n",
        "for i in max_matching_index:\n",
        "  print(vocabulary[i])"
      ],
      "execution_count": null,
      "outputs": [
        {
          "output_type": "stream",
          "text": [
            "parís\n",
            "boulevard\n",
            "barbudos\n",
            "bulevar\n",
            "navaja\n",
            "aime\n",
            "quemarse\n",
            "montmartre\n",
            "bois\n",
            "piantate\n"
          ],
          "name": "stdout"
        }
      ]
    },
    {
      "cell_type": "markdown",
      "metadata": {
        "id": "tRLnxmgrnfW6"
      },
      "source": [
        "#### Relaciones entre documentos\n",
        "\n",
        "Una vez que estamos en un espacio de dimensión reducida podemos tratar de buscar similitud entre documentos. Por ejemplo, podemos ver cuales son las letras más similares a \"Volver\", de Gardel y Lepera (que dúo, no?)."
      ]
    },
    {
      "cell_type": "code",
      "metadata": {
        "id": "rHV4c2QkU8Rr",
        "colab": {
          "base_uri": "https://localhost:8080/"
        },
        "outputId": "e3348c17-2939-455e-ad06-6ea1882e5005"
      },
      "source": [
        "# Buscamos el índice de la canción Volver\n",
        "track_index = df[df['titulo'] == 'Volver'].index[0]"
      ],
      "execution_count": null,
      "outputs": [
        {
          "output_type": "stream",
          "text": [
            "3811\n"
          ],
          "name": "stdout"
        }
      ]
    },
    {
      "cell_type": "markdown",
      "metadata": {
        "id": "pFcIbyVwoSgu"
      },
      "source": [
        "¿Dónde encontramos información de los documentos? Recordemos de PCA que podíamos obtener las componentes principales, aquí lo mismo. Vemos las dimensiones:"
      ]
    },
    {
      "cell_type": "code",
      "metadata": {
        "colab": {
          "base_uri": "https://localhost:8080/"
        },
        "id": "j4DSGLqVosEL",
        "outputId": "a80769fc-94d6-4a6d-9c78-e97a6da7ee14"
      },
      "source": [
        "# Dimensiones de las componentes singulares\n",
        "print(svd.components_.shape)"
      ],
      "execution_count": null,
      "outputs": [
        {
          "output_type": "stream",
          "text": [
            "(300, 3981)\n"
          ],
          "name": "stdout"
        }
      ]
    },
    {
      "cell_type": "markdown",
      "metadata": {
        "id": "SG34Nv7goy6b"
      },
      "source": [
        "Al ver las dimensiones nos damos cuenta que trasponer esta matriz obtenemos los documentos en el espacio de dimensión reducida. Podemos calcular la similitud entre ellos o respecto de un tema de referencia:"
      ]
    },
    {
      "cell_type": "code",
      "metadata": {
        "id": "awSefLlGnwyY"
      },
      "source": [
        "# Calculo las distancia coseno de la canción respecto de todas las demás canciones\n",
        "similarities = [1.00 - cosine_distance(svd.components_.T[track_index], svd.components_.T[i]) for i in range(svd.components_.shape[1])]"
      ],
      "execution_count": null,
      "outputs": []
    },
    {
      "cell_type": "code",
      "metadata": {
        "colab": {
          "base_uri": "https://localhost:8080/",
          "height": 294
        },
        "id": "3r4kYPoZWpnD",
        "outputId": "82b070b9-070f-459b-f37c-7e95dffb6c4f"
      },
      "source": [
        "# Buscamos las 5 similaridades más grandes\n",
        "max_matching = heapq.nlargest(5, similarities)\n",
        "\n",
        "# Printemos las similaridades\n",
        "print(max_matching)\n",
        "\n",
        "# Encuentra los índices correspondiente a las similaridades más altas\n",
        "max_matching_index = [np.where(similarities == m)[0][0] for m in max_matching]\n",
        "\n",
        "# Imprimimos los datos de las canciones más similares\n",
        "df.iloc[max_matching_index]"
      ],
      "execution_count": null,
      "outputs": [
        {
          "output_type": "stream",
          "text": [
            "[1.0, 0.30025589756872406, 0.2830760328807056, 0.2718076001460855, 0.25318585917846237]\n"
          ],
          "name": "stdout"
        },
        {
          "output_type": "execute_result",
          "data": {
            "text/html": [
              "<div>\n",
              "<style scoped>\n",
              "    .dataframe tbody tr th:only-of-type {\n",
              "        vertical-align: middle;\n",
              "    }\n",
              "\n",
              "    .dataframe tbody tr th {\n",
              "        vertical-align: top;\n",
              "    }\n",
              "\n",
              "    .dataframe thead th {\n",
              "        text-align: right;\n",
              "    }\n",
              "</style>\n",
              "<table border=\"1\" class=\"dataframe\">\n",
              "  <thead>\n",
              "    <tr style=\"text-align: right;\">\n",
              "      <th></th>\n",
              "      <th>url</th>\n",
              "      <th>titulo</th>\n",
              "      <th>ritmo</th>\n",
              "      <th>autor_letra</th>\n",
              "      <th>autor_musica</th>\n",
              "      <th>letra</th>\n",
              "      <th>ano</th>\n",
              "    </tr>\n",
              "  </thead>\n",
              "  <tbody>\n",
              "    <tr>\n",
              "      <th>3811</th>\n",
              "      <td>https://www.todotango.com/musica/tema/31/Volver/</td>\n",
              "      <td>Volver</td>\n",
              "      <td>Tango</td>\n",
              "      <td>Alfredo Le Pera</td>\n",
              "      <td>Carlos Gardel</td>\n",
              "      <td>Yo adivino el parpadeo de las luces que a lo l...</td>\n",
              "      <td>1935.0</td>\n",
              "    </tr>\n",
              "    <tr>\n",
              "      <th>3459</th>\n",
              "      <td>https://www.todotango.com/musica/tema/101/Teng...</td>\n",
              "      <td>Tengo miedo</td>\n",
              "      <td>Tango</td>\n",
              "      <td>Celedonio Flores</td>\n",
              "      <td>José María Aguilar</td>\n",
              "      <td>En la timba de la vida me planté con siete y m...</td>\n",
              "      <td>1928.0</td>\n",
              "    </tr>\n",
              "    <tr>\n",
              "      <th>3834</th>\n",
              "      <td>https://www.todotango.com/musica/tema/2926/Vue...</td>\n",
              "      <td>Vuelve amor</td>\n",
              "      <td>Tango</td>\n",
              "      <td>Reinaldo Yiso</td>\n",
              "      <td>Roberto Rufino</td>\n",
              "      <td>¡Vuelve! Que mi mal es mal de ausencia necesit...</td>\n",
              "      <td>NaN</td>\n",
              "    </tr>\n",
              "    <tr>\n",
              "      <th>1226</th>\n",
              "      <td>https://www.todotango.com/musica/tema/4002/El-...</td>\n",
              "      <td>El miedo de vivir</td>\n",
              "      <td>Tango</td>\n",
              "      <td>Eladia Blázquez</td>\n",
              "      <td>Eladia Blázquez</td>\n",
              "      <td>El miedo de vivir es el señor y dueño de mucho...</td>\n",
              "      <td>1973.0</td>\n",
              "    </tr>\n",
              "    <tr>\n",
              "      <th>953</th>\n",
              "      <td>https://www.todotango.com/musica/tema/690/De-i...</td>\n",
              "      <td>De igual a igual</td>\n",
              "      <td>Tango</td>\n",
              "      <td>Rodolfo Sciammarella</td>\n",
              "      <td>Rodolfo Sciammarella</td>\n",
              "      <td>De tanto y tanto quererla me ha entrado miedo ...</td>\n",
              "      <td>1944.0</td>\n",
              "    </tr>\n",
              "  </tbody>\n",
              "</table>\n",
              "</div>"
            ],
            "text/plain": [
              "                                                    url  ...     ano\n",
              "3811   https://www.todotango.com/musica/tema/31/Volver/  ...  1935.0\n",
              "3459  https://www.todotango.com/musica/tema/101/Teng...  ...  1928.0\n",
              "3834  https://www.todotango.com/musica/tema/2926/Vue...  ...     NaN\n",
              "1226  https://www.todotango.com/musica/tema/4002/El-...  ...  1973.0\n",
              "953   https://www.todotango.com/musica/tema/690/De-i...  ...  1944.0\n",
              "\n",
              "[5 rows x 7 columns]"
            ]
          },
          "metadata": {
            "tags": []
          },
          "execution_count": 41
        }
      ]
    },
    {
      "cell_type": "markdown",
      "metadata": {
        "id": "2FUSteRKrjDO"
      },
      "source": [
        "### Cosas para llevarse de esta notebook\n",
        "\n",
        "LSA es una técnica de reducción dimensional, prácticamente igual a PCA, que consiste en descomponer en valores singulares la matriz de documentos por términos. Esto tiene la ventaja de poder encontrar términos o documentos similares más fácil que en el espacio original.\n",
        "\n",
        "En el paper original se trabaja con la matriz de términos por documentos, buscando hallar términos similares por contexto similar. Pueden probar que trabajar al revés da prácticamente los mismos resultados, solo cambia donde ver la información de los documentos y los términos (si en la matriz transformada o en la información de las componentes)."
      ]
    }
  ]
}