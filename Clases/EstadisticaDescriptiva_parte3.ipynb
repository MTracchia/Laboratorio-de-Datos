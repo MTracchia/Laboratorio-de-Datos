{
  "nbformat": 4,
  "nbformat_minor": 0,
  "metadata": {
    "colab": {
      "name": "EstadisticaDescriptiva_parte3.ipynb",
      "provenance": [],
      "collapsed_sections": [],
      "include_colab_link": true
    },
    "kernelspec": {
      "name": "python3",
      "display_name": "Python 3"
    },
    "language_info": {
      "name": "python"
    }
  },
  "cells": [
    {
      "cell_type": "markdown",
      "metadata": {
        "id": "view-in-github",
        "colab_type": "text"
      },
      "source": [
        "<a href=\"https://colab.research.google.com/github/MTracchia/Laboratorio-de-Datos/blob/main/EstadisticaDescriptiva_parte3.ipynb\" target=\"_parent\"><img src=\"https://colab.research.google.com/assets/colab-badge.svg\" alt=\"Open In Colab\"/></a>"
      ]
    },
    {
      "cell_type": "markdown",
      "metadata": {
        "id": "kTTgTpQX2V2i"
      },
      "source": [
        "### Exploración del dataset \n",
        "\n",
        "Veamos algunas observables e histogramas de participantes de los experimentos coronadélicos y OCEAN.\n",
        "\n",
        "Comenzamos cargando y mergeando ambos datasets, conservando aquellos participantes de ambos experimentos."
      ]
    },
    {
      "cell_type": "code",
      "metadata": {
        "colab": {
          "base_uri": "https://localhost:8080/"
        },
        "id": "xhu-qDW315jy",
        "outputId": "89923641-fffe-467a-94ca-e8ad1be4610b"
      },
      "source": [
        "import numpy as np \n",
        "import pandas as pd\n",
        "import matplotlib.pyplot as plt \n",
        "from google.colab import drive\n",
        "drive.mount('/content/drive')"
      ],
      "execution_count": null,
      "outputs": [
        {
          "output_type": "stream",
          "text": [
            "Mounted at /content/drive\n"
          ],
          "name": "stdout"
        }
      ]
    },
    {
      "cell_type": "code",
      "metadata": {
        "id": "tRpzLDGkaiE3"
      },
      "source": [
        "# Dataset OCEAN\n",
        "filename = '/content/drive/My Drive/LaboDatos2021/ocean_safe.csv' \n",
        "\n",
        "# Cargamos de base solo aquellas columnas que nos interesa (útil para df grandes)\n",
        "columnas_ocean = ['1_extraversion', '1_agreeableness', '1_conscientiousness', '1_neuroticism', '1_openness', '2_edad', '2_genero', 'hash']\n",
        "df_ocean = pd.read_csv(filename, usecols = columnas_ocean)"
      ],
      "execution_count": null,
      "outputs": []
    },
    {
      "cell_type": "code",
      "metadata": {
        "colab": {
          "base_uri": "https://localhost:8080/",
          "height": 204
        },
        "id": "7crrKgm278U7",
        "outputId": "51a162bf-5c1d-4ba1-fe1f-3b00809d7061"
      },
      "source": [
        "df_ocean.head()"
      ],
      "execution_count": null,
      "outputs": [
        {
          "output_type": "execute_result",
          "data": {
            "text/html": [
              "<div>\n",
              "<style scoped>\n",
              "    .dataframe tbody tr th:only-of-type {\n",
              "        vertical-align: middle;\n",
              "    }\n",
              "\n",
              "    .dataframe tbody tr th {\n",
              "        vertical-align: top;\n",
              "    }\n",
              "\n",
              "    .dataframe thead th {\n",
              "        text-align: right;\n",
              "    }\n",
              "</style>\n",
              "<table border=\"1\" class=\"dataframe\">\n",
              "  <thead>\n",
              "    <tr style=\"text-align: right;\">\n",
              "      <th></th>\n",
              "      <th>1_extraversion</th>\n",
              "      <th>1_agreeableness</th>\n",
              "      <th>1_conscientiousness</th>\n",
              "      <th>1_neuroticism</th>\n",
              "      <th>1_openness</th>\n",
              "      <th>2_edad</th>\n",
              "      <th>2_genero</th>\n",
              "      <th>hash</th>\n",
              "    </tr>\n",
              "  </thead>\n",
              "  <tbody>\n",
              "    <tr>\n",
              "      <th>0</th>\n",
              "      <td>27</td>\n",
              "      <td>31</td>\n",
              "      <td>31</td>\n",
              "      <td>37</td>\n",
              "      <td>32</td>\n",
              "      <td>21</td>\n",
              "      <td>1</td>\n",
              "      <td>-423577603735016669</td>\n",
              "    </tr>\n",
              "    <tr>\n",
              "      <th>1</th>\n",
              "      <td>16</td>\n",
              "      <td>37</td>\n",
              "      <td>26</td>\n",
              "      <td>31</td>\n",
              "      <td>45</td>\n",
              "      <td>33</td>\n",
              "      <td>2</td>\n",
              "      <td>-464971106993132614</td>\n",
              "    </tr>\n",
              "    <tr>\n",
              "      <th>2</th>\n",
              "      <td>23</td>\n",
              "      <td>33</td>\n",
              "      <td>38</td>\n",
              "      <td>22</td>\n",
              "      <td>44</td>\n",
              "      <td>29</td>\n",
              "      <td>1</td>\n",
              "      <td>8850189905759099157</td>\n",
              "    </tr>\n",
              "    <tr>\n",
              "      <th>3</th>\n",
              "      <td>20</td>\n",
              "      <td>25</td>\n",
              "      <td>25</td>\n",
              "      <td>20</td>\n",
              "      <td>18</td>\n",
              "      <td>24</td>\n",
              "      <td>2</td>\n",
              "      <td>8502285657236737218</td>\n",
              "    </tr>\n",
              "    <tr>\n",
              "      <th>4</th>\n",
              "      <td>22</td>\n",
              "      <td>34</td>\n",
              "      <td>24</td>\n",
              "      <td>35</td>\n",
              "      <td>42</td>\n",
              "      <td>35</td>\n",
              "      <td>2</td>\n",
              "      <td>5668714742513791951</td>\n",
              "    </tr>\n",
              "  </tbody>\n",
              "</table>\n",
              "</div>"
            ],
            "text/plain": [
              "   1_extraversion  1_agreeableness  ...  2_genero                 hash\n",
              "0              27               31  ...         1  -423577603735016669\n",
              "1              16               37  ...         2  -464971106993132614\n",
              "2              23               33  ...         1  8850189905759099157\n",
              "3              20               25  ...         2  8502285657236737218\n",
              "4              22               34  ...         2  5668714742513791951\n",
              "\n",
              "[5 rows x 8 columns]"
            ]
          },
          "metadata": {
            "tags": []
          },
          "execution_count": 3
        }
      ]
    },
    {
      "cell_type": "code",
      "metadata": {
        "id": "ppJj9Yrz3fme"
      },
      "source": [
        "# Coronadelicos\n",
        "filename = '/content/drive/My Drive/LaboDatos2021/coronadelicos_safe.csv' \n",
        "df_coronadelicos = pd.read_csv(filename)"
      ],
      "execution_count": null,
      "outputs": []
    },
    {
      "cell_type": "code",
      "metadata": {
        "id": "6v0S1X084RkJ"
      },
      "source": [
        "# Interseccion\n",
        "df_combinado = pd.merge(df_coronadelicos, df_ocean, how='inner', on='hash')"
      ],
      "execution_count": null,
      "outputs": []
    },
    {
      "cell_type": "markdown",
      "metadata": {
        "id": "RiEihKXqWBwC"
      },
      "source": [
        "### Estadística de algunas características\n",
        "\n",
        "Estudiamos por ejemplo las edades de los participantes y el índice de religiosidad."
      ]
    },
    {
      "cell_type": "code",
      "metadata": {
        "id": "JpgX_TryuKhr"
      },
      "source": [
        "# Edades de los participantes del experimento\n",
        "edades = df_combinado['2_edad']"
      ],
      "execution_count": null,
      "outputs": []
    },
    {
      "cell_type": "code",
      "metadata": {
        "colab": {
          "base_uri": "https://localhost:8080/",
          "height": 387
        },
        "id": "Bnoq68oJ4sXh",
        "outputId": "1e89b02c-fece-427e-96a5-0e8e733e07c4"
      },
      "source": [
        "# Histograma\n",
        "ax = edades.hist(bins = 20, grid = False, rwidth = 0.80, cumulative = False, density = True)\n",
        "ax.set_xlabel('Edad')\n",
        "ax.set_ylabel('Frecuencia')\n",
        "plt.show()\n",
        "\n",
        "# Observables\n",
        "print('Media: {:3f}'.format(edades.mean()))\n",
        "print('Varianza: {:.3f}'.format(edades.var()))\n",
        "print('Desviacion: {:.3f}'.format(edades.std()))\n",
        "print('90% central: {} - {}'.format(*edades.quantile([0.05, 0.95])))\n",
        "print('Mediana: {}'.format(edades.median()))\n",
        "print('Moda: {}'.format(edades.mode().values))"
      ],
      "execution_count": null,
      "outputs": [
        {
          "output_type": "display_data",
          "data": {
            "image/png": "[encoded data removed]",
            "text/plain": [
              "<Figure size 432x288 with 1 Axes>"
            ]
          },
          "metadata": {
            "tags": [],
            "needs_background": "light"
          }
        },
        {
          "output_type": "stream",
          "text": [
            "Media: 28.099806\n",
            "Varianza: 90.598\n",
            "Desviacion: 9.518\n",
            "90% central: 18.0 - 48.0\n",
            "Mediana: 26.0\n",
            "Moda: [22]\n"
          ],
          "name": "stdout"
        }
      ]
    },
    {
      "cell_type": "markdown",
      "metadata": {
        "id": "WF9vicxUd2p7"
      },
      "source": [
        "Esto es bastante informativo: el 90% de los participantes están entre 18 y 48 años, pero la mayor cantidad de los participantes tienen 22 años. "
      ]
    },
    {
      "cell_type": "code",
      "metadata": {
        "colab": {
          "base_uri": "https://localhost:8080/",
          "height": 369
        },
        "id": "waUADwWZ4w5M",
        "outputId": "63398973-f4ac-40a7-d098-bde612e60e86"
      },
      "source": [
        "# Religiosidad\n",
        "religiosidad = df_combinado['0_religiosidad']\n",
        "\n",
        "# Histograma. La frecuencia en escala logaritmica es una buena opcion.\n",
        "#ax = religiosidad.hist(bins = 20, grid = False, rwidth = 0.80)\n",
        "ax = religiosidad.hist(bins = 20, grid = False, rwidth = 0.80, log = True)\n",
        "ax.set_xlabel('Religiosidad')\n",
        "ax.set_ylabel('Frecuencia')\n",
        "\n",
        "# Observables\n",
        "print('Media: {:3f}'.format(religiosidad.mean()))\n",
        "print('Desviacion: {:.3f}'.format(religiosidad.std()))\n",
        "print('90% central: {} - {}'.format(*religiosidad.quantile([0.05, 0.95])))\n",
        "print('Mediana: {}'.format(religiosidad.median()))\n",
        "print('Moda: {}'.format(religiosidad.mode().values))"
      ],
      "execution_count": null,
      "outputs": [
        {
          "output_type": "stream",
          "text": [
            "Media: 16.326979\n",
            "Desviacion: 23.563\n",
            "90% central: 0.0 - 70.0\n",
            "Mediana: 5.0\n",
            "Moda: [0]\n"
          ],
          "name": "stdout"
        },
        {
          "output_type": "display_data",
          "data": {
            "image/png": "[encoded data removed]",
            "text/plain": [
              "<Figure size 432x288 with 1 Axes>"
            ]
          },
          "metadata": {
            "tags": [],
            "needs_background": "light"
          }
        }
      ]
    },
    {
      "cell_type": "markdown",
      "metadata": {
        "id": "Hd6-peRudsms"
      },
      "source": [
        "Notar que en el caso de la religiosidad, la media y la desviación no son muy buenos descriptores de la distribución."
      ]
    },
    {
      "cell_type": "markdown",
      "metadata": {
        "id": "PTX2xtnDjeSZ"
      },
      "source": [
        "Veamos los índices que hablan de la personalidad:"
      ]
    },
    {
      "cell_type": "code",
      "metadata": {
        "colab": {
          "base_uri": "https://localhost:8080/",
          "height": 227
        },
        "id": "9-NuC-7DiwTu",
        "outputId": "2465fbec-4fda-4038-c60b-438a695f168b"
      },
      "source": [
        "personalidades = ['1_extraversion', '1_agreeableness', '1_conscientiousness',\n",
        "       '1_neuroticism', '1_openness']\n",
        "\n",
        "fig, ax = plt.subplots(nrows = 1, ncols=5, figsize = (18, 3))\n",
        "for i in range(len(personalidades)):\n",
        "  ax[i].hist(df_combinado[personalidades[i]], bins = 20, rwidth = 0.80, density = True)\n",
        "  ax[i].set_title(personalidades[i])\n",
        "  ax[i].set_xlim([0, 50])\n",
        "plt.show()"
      ],
      "execution_count": null,
      "outputs": [
        {
          "output_type": "display_data",
          "data": {
            "image/png": "[encoded data removed]",
            "text/plain": [
              "<Figure size 1296x216 with 5 Axes>"
            ]
          },
          "metadata": {
            "tags": [],
            "needs_background": "light"
          }
        }
      ]
    },
    {
      "cell_type": "code",
      "metadata": {
        "colab": {
          "base_uri": "https://localhost:8080/"
        },
        "id": "wsnPR1Md9BlW",
        "outputId": "6c28be26-1302-4819-fde5-31fe97790bc4"
      },
      "source": [
        "# Observables las personalidades\n",
        "for p in personalidades:\n",
        "  print(p)\n",
        "  print('Media: {:3f}'.format(df_combinado[p].mean()))\n",
        "  print('Desviacion: {:.3f}'.format(df_combinado[p].std()))\n",
        "  print('90% central: {} - {}'.format(*df_combinado[p].quantile([0.05, 0.95])))\n",
        "  print('Mediana: {}'.format(df_combinado[p].median()))\n",
        "  print('Moda: {}'.format(df_combinado[p].mode().values))\n",
        "  print('\\n')"
      ],
      "execution_count": null,
      "outputs": [
        {
          "output_type": "stream",
          "text": [
            "1_extraversion\n",
            "Media: 25.731180\n",
            "Desviacion: 6.203\n",
            "90% central: 15.0 - 36.0\n",
            "Mediana: 26.0\n",
            "Moda: [25]\n",
            "\n",
            "\n",
            "1_agreeableness\n",
            "Media: 32.692933\n",
            "Desviacion: 5.118\n",
            "90% central: 24.0 - 41.0\n",
            "Mediana: 33.0\n",
            "Moda: [33]\n",
            "\n",
            "\n",
            "1_conscientiousness\n",
            "Media: 29.954832\n",
            "Desviacion: 6.690\n",
            "90% central: 19.0 - 41.0\n",
            "Mediana: 30.0\n",
            "Moda: [31]\n",
            "\n",
            "\n",
            "1_neuroticism\n",
            "Media: 25.952647\n",
            "Desviacion: 6.651\n",
            "90% central: 15.0 - 37.0\n",
            "Mediana: 26.0\n",
            "Moda: [28]\n",
            "\n",
            "\n",
            "1_openness\n",
            "Media: 38.543832\n",
            "Desviacion: 6.454\n",
            "90% central: 27.0 - 48.0\n",
            "Mediana: 39.0\n",
            "Moda: [43]\n",
            "\n",
            "\n"
          ],
          "name": "stdout"
        }
      ]
    },
    {
      "cell_type": "markdown",
      "metadata": {
        "id": "IC82Tm_NeWQz"
      },
      "source": [
        "### Correlaciones\n",
        "\n",
        "Con los coeficientes de correlación podemos ver comenzar a identificar relaciones entre distintas variables."
      ]
    },
    {
      "cell_type": "code",
      "metadata": {
        "id": "N1i3zPz08yWg",
        "colab": {
          "base_uri": "https://localhost:8080/",
          "height": 265
        },
        "outputId": "0126f519-a475-4373-c024-6c38a661d8b6"
      },
      "source": [
        "from scipy.stats import pearsonr, spearmanr \n",
        "\n",
        "# ¿Habrá alguna relación entre la religiosidad y edad de la persona?\n",
        "print('Pearson {}'.format(pearsonr(religiosidad, edades)[0]))\n",
        "print('Spearman {}'.format(spearmanr(religiosidad, edades)[0]))\n",
        "\n",
        "fig, ax = plt.subplots(nrows=1, ncols = 2, figsize = (12, 3))\n",
        "ax[0].scatter(edades, religiosidad)\n",
        "ax[1].hist2d(edades, religiosidad, bins = 20)\n",
        "\n",
        "ax[0].set_ylabel('Religiosidad')\n",
        "ax[0].set_xlabel('Edades')\n",
        "ax[1].set_xlabel('Edades')\n",
        "\n",
        "plt.show()"
      ],
      "execution_count": null,
      "outputs": [
        {
          "output_type": "stream",
          "text": [
            "Pearson 0.0413369057219645\n",
            "Spearman -0.0021008510640424297\n"
          ],
          "name": "stdout"
        },
        {
          "output_type": "display_data",
          "data": {
            "image/png": "[encoded data removed]",
            "text/plain": [
              "<Figure size 864x216 with 2 Axes>"
            ]
          },
          "metadata": {
            "tags": [],
            "needs_background": "light"
          }
        }
      ]
    },
    {
      "cell_type": "code",
      "metadata": {
        "colab": {
          "base_uri": "https://localhost:8080/"
        },
        "id": "d5325OuljN7G",
        "outputId": "61df9687-9293-400f-b0e6-19901f05069c"
      },
      "source": [
        "# ¿Habrá alguna relación entre la edad y las personalidades?\n",
        "\n",
        "personalidades = ['1_extraversion', '1_agreeableness', '1_conscientiousness',\n",
        "       '1_neuroticism', '1_openness']\n",
        "\n",
        "for personalidad in personalidades:\n",
        "  pear = pearsonr(df_combinado[personalidad], df_combinado['2_edad'])[0]\n",
        "  spear = spearmanr(df_combinado[personalidad], df_combinado['2_edad'])[0]\n",
        "\n",
        "  print('{} - Pearson {:.3f} - Spearman {:.3f}'.format(personalidad, pear, spear))"
      ],
      "execution_count": null,
      "outputs": [
        {
          "output_type": "stream",
          "text": [
            "1_extraversion - Pearson 0.036 - Spearman 0.038\n",
            "1_agreeableness - Pearson 0.092 - Spearman 0.072\n",
            "1_conscientiousness - Pearson 0.179 - Spearman 0.170\n",
            "1_neuroticism - Pearson -0.178 - Spearman -0.182\n",
            "1_openness - Pearson 0.082 - Spearman 0.086\n"
          ],
          "name": "stdout"
        }
      ]
    },
    {
      "cell_type": "code",
      "metadata": {
        "colab": {
          "base_uri": "https://localhost:8080/",
          "height": 342
        },
        "id": "yeHC1LWcrszG",
        "outputId": "2bb4c6db-b5d7-4139-e5aa-01a17882ea08"
      },
      "source": [
        "# Correlación entre personalidades?\n",
        "plt.matshow(df_combinado[personalidades].corr(method = 'spearman'))\n",
        "plt.yticks(range(len(personalidades)), personalidades)\n",
        "plt.xticks(range(len(personalidades)), personalidades, rotation = 90)\n",
        "plt.colorbar()\n",
        "plt.show()"
      ],
      "execution_count": null,
      "outputs": [
        {
          "output_type": "display_data",
          "data": {
            "image/png": "[encoded data removed]",
            "text/plain": [
              "<Figure size 288x288 with 2 Axes>"
            ]
          },
          "metadata": {
            "tags": [],
            "needs_background": "light"
          }
        }
      ]
    },
    {
      "cell_type": "code",
      "metadata": {
        "id": "yZ2-MGWWaNzx"
      },
      "source": [
        ""
      ],
      "execution_count": null,
      "outputs": []
    }
  ]
}
