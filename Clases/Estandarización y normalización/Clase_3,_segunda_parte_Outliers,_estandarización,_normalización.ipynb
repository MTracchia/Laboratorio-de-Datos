{
  "nbformat": 4,
  "nbformat_minor": 0,
  "metadata": {
    "colab": {
      "name": "Clase 3, segunda parte: Outliers, estandarización, normalización.ipynb",
      "provenance": [],
      "include_colab_link": true
    },
    "kernelspec": {
      "name": "python3",
      "display_name": "Python 3"
    },
    "language_info": {
      "name": "python"
    }
  },
  "cells": [
    {
      "cell_type": "markdown",
      "metadata": {
        "id": "view-in-github",
        "colab_type": "text"
      },
      "source": [
        "<a href=\"https://colab.research.google.com/github/MTracchia/Laboratorio-de-Datos/blob/main/Clase_3%2C_segunda_parte_Outliers%2C_estandarizaci%C3%B3n%2C_normalizaci%C3%B3n.ipynb\" target=\"_parent\"><img src=\"https://colab.research.google.com/assets/colab-badge.svg\" alt=\"Open In Colab\"/></a>"
      ]
    },
    {
      "cell_type": "markdown",
      "metadata": {
        "id": "ybPj3hG7N70z"
      },
      "source": [
        "Partimos de lo que hicimos en el notebook anterior para trabajar con las columnas de datos numéricos. \n",
        "\n",
        "Primero vamos a cargarlo nuevamente."
      ]
    },
    {
      "cell_type": "code",
      "metadata": {
        "id": "0RPMzvsmNzhk"
      },
      "source": [
        "import pandas as pd\n",
        "from google.colab import drive\n",
        "drive.mount('/content/drive')\n",
        "\n",
        "filename = '/content/drive/My Drive/LaboDatos2021/dataframe_clase_3_limpio.csv' \n",
        "\n",
        "df = pd.read_csv(filename)\n",
        "\n",
        "print(df)"
      ],
      "execution_count": null,
      "outputs": []
    },
    {
      "cell_type": "markdown",
      "metadata": {
        "id": "TYz-sM3lQTJH"
      },
      "source": [
        "En la clase vimos que hay distintas formas de remover outliers. En este caso, la columna peso tiene un outliner bastante claro que tiene sentido remover (índice 12), es más, podemos sospechar que alguien se equivocó cuando ingresó los datos. Hubiese pasado algo similar si encontrabamos alguien con edad -4 o 221 años. \n",
        "\n",
        "En este caso no vamos a remover datos usando criterios basados en el desvío estándar, aunque sería similar el procedimiento."
      ]
    },
    {
      "cell_type": "code",
      "metadata": {
        "id": "x6cCiPFHQu6D"
      },
      "source": [
        "indice = df[df['Peso']>400].index  # el indice donde esta la fila con un peso mayor a 400\n",
        "df_1 = df.drop(indice)\n",
        "print(df_1)\n"
      ],
      "execution_count": null,
      "outputs": []
    },
    {
      "cell_type": "markdown",
      "metadata": {
        "id": "AQ9FEJ1KRBAe"
      },
      "source": [
        "Ahora pensamos como estandarizar las columnas. Supongamos que no hay diferencias en la edad típica en la que se matriculan estudiantes a la Universidad. Entonces tiene sentido hablar del desvío de la media, en unidades de desvío estandar. Es decir, podemos transformar la columna \"Edad\" a z-scores:"
      ]
    },
    {
      "cell_type": "code",
      "metadata": {
        "id": "N-_c7n0VROYY"
      },
      "source": [
        "import scipy as sp\n",
        "df_1['Edad (z)'] = sp.stats.zscore(df_1['Edad'])\n",
        "print(df_1)"
      ],
      "execution_count": null,
      "outputs": []
    },
    {
      "cell_type": "markdown",
      "metadata": {
        "id": "3-Xorlz0Rzh8"
      },
      "source": [
        "¿Tiene sentido hacer lo mismo para la altura y el peso?\n",
        "La altura y el peso tienden a ser mayores en hombres que en mujeres. Tendría sentido normalizar cada uno por la media el desvío estandar de su población. O bien usar un método de normalización que no compare con el desvío estándar, por ejemplo, normalización min-max.\n",
        "\n",
        "Veamos ambos casos. Primero, z-score específico para cada grupo, computado para la altura."
      ]
    },
    {
      "cell_type": "code",
      "metadata": {
        "id": "DIJR0hF7SMu_"
      },
      "source": [
        "import numpy as np\n",
        "\n",
        "indice_h = df_1['Sexo']=='h'\n",
        "indice_m = df_1['Sexo']=='m'\n",
        "\n",
        "df_1['Altura (z)'] = np.zeros(len(df_1))  # ponemos 0 para despues poder modificarla\n",
        "print(df_1)\n",
        "df_1['Altura (z)'][indice_h] = sp.stats.zscore(df_1['Altura'][indice_h])\n",
        "print(df_1)\n",
        "df_1['Altura (z)'][indice_m] = sp.stats.zscore(df_1['Altura'][indice_m])\n",
        "print(df_1)\n"
      ],
      "execution_count": null,
      "outputs": []
    },
    {
      "cell_type": "markdown",
      "metadata": {
        "id": "iDxy1QD2Try7"
      },
      "source": [
        "Por supuesto, queda el problema de que hacer con el caso 'nb'.\n",
        "Para eso podemos consultar una fuente separada de datos y hacer una modificacion ad-hoc."
      ]
    },
    {
      "cell_type": "code",
      "metadata": {
        "id": "iG2XFQ_DTzsb"
      },
      "source": [
        "df_1['Altura (z)'][10]= 0.59"
      ],
      "execution_count": null,
      "outputs": []
    },
    {
      "cell_type": "markdown",
      "metadata": {
        "id": "Wg8oQbLlUKs6"
      },
      "source": [
        "Ahora podemos aplicar la normalizacion min-max al peso.\n",
        "\n",
        "Notemos que para poder hacer esto necesitamos haber removido el outlier en el peso, de lo contrario, se arruina el procedimiento."
      ]
    },
    {
      "cell_type": "code",
      "metadata": {
        "id": "5O4NmdFzUpkS"
      },
      "source": [
        "df_1['Peso (norm)'] = (df_1['Peso'] - df_1['Peso'].min())/(df_1['Peso'].max() - df_1['Peso'].min())\n",
        "\n",
        "print(df_1)"
      ],
      "execution_count": null,
      "outputs": []
    },
    {
      "cell_type": "markdown",
      "metadata": {
        "id": "xmBJd1MbVQPm"
      },
      "source": [
        "Por último, puede que nos interesa calcular alguna normalización especial dependiendo de la aplicación. Quizás queremos comparar el promedio de los alumnos con su promedio histórico, y para eso simplemente lo restamos. "
      ]
    },
    {
      "cell_type": "code",
      "metadata": {
        "id": "DKD7IThJVeBY"
      },
      "source": [
        "historico=8.23\n",
        "df_1['Promedio (historico)'] = df_1['Promedio'] - historico\n",
        "print(df_1)"
      ],
      "execution_count": null,
      "outputs": []
    }
  ]
}
