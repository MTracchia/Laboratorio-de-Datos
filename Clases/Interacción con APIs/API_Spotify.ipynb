{
  "nbformat": 4,
  "nbformat_minor": 0,
  "metadata": {
    "colab": {
      "name": "API_Spotify.ipynb",
      "provenance": [],
      "collapsed_sections": [],
      "include_colab_link": true
    },
    "kernelspec": {
      "name": "python3",
      "display_name": "Python 3"
    },
    "language_info": {
      "name": "python"
    }
  },
  "cells": [
    {
      "cell_type": "markdown",
      "metadata": {
        "id": "view-in-github",
        "colab_type": "text"
      },
      "source": [
        "<a href=\"https://colab.research.google.com/github/MTracchia/Laboratorio-de-Datos/blob/main/Clases/Interacci%C3%B3n%20con%20APIs/API_Spotify.ipynb\" target=\"_parent\"><img src=\"https://colab.research.google.com/assets/colab-badge.svg\" alt=\"Open In Colab\"/></a>"
      ]
    },
    {
      "cell_type": "markdown",
      "metadata": {
        "id": "HIIDP4grbrX6"
      },
      "source": [
        "# API Spotify\n",
        "\n",
        "A modo de ejemplo de obtener información a través de APIs vamos a usar la de Spotify. \n",
        "\n",
        "El universo de APIs es bastante grande, por lo que puede haber varios detalles propios de cada una que no vamos a poder cubrir. Sin embargo, hay ciertas cosas que vamos a ver aplicadas aquí que van a ser muy similares en otras aplicaciones y por lo tanto se puede ver a grandes rasgos cómo funciona una API."
      ]
    },
    {
      "cell_type": "code",
      "metadata": {
        "id": "fo8LbqJEmDdN"
      },
      "source": [
        "# Importamos la librería requests para hacer peticiones a la API \n",
        "# y json para manipular ese tipo de datos\n",
        "import requests \n",
        "import json"
      ],
      "execution_count": null,
      "outputs": []
    },
    {
      "cell_type": "markdown",
      "metadata": {
        "id": "No9YxcW9dBUM"
      },
      "source": [
        "### Requisitos preliminares para usar la API de Spotify\n",
        "\n",
        "Estos son los pasos que vamos a seguir para obtener las claves que nos van a permitir interactuar con la API. Es requisito tener una cuenta (gratis o premium) en la plataforma. Los pasos son bastante sencillos:\n",
        "\n",
        "- Ir a https://developer.spotify.com/dashboard/applications y loggearse.\n",
        "\n",
        "Este punto se puede generalizar: para familiarizarse con las APIs hay que buscar la sección de desarrolladores (*developers*) de las distintas plataformas. En general, tienen una guía de cómo arrancar.\n",
        "\n",
        "- Dentro del *Dashboard*, creamos una nueva aplicación. Ahí nos va a pedir que le demos un nombre y una descripción.\n",
        "\n",
        "En muchos lados vamos a hacer justamente esto: lo que estaríamos creando es una aplicación dentro de la plataforma. Esta aplicación va a tener distintos permisos y claves para ejecutarlos.\n",
        "\n",
        "- Dentro de la aplicación vamos a obtener un primer conjunto de identificadores y claves. En este caso obtenemos el *client-id* y el *client-secret*. \n",
        "\n",
        "Como dijimos antes, la creación de la aplicación va a venir con un conjunto de claves. A veces estas no son las únicas que vamos a necesitar y vamos a tener que pedir otras (como el *bearer token* que vamos a pedir luego). La forma en la cual se obtienen más claves depende de cada plataforma. \n",
        "\n",
        "Por último, otra cosa general que tenemos que hacer siempre es familiarizarnos con la documentación. Muchas veces esta no es fácil de leer y hay que tener un poco de paciencia y mucha prueba y error. La documentación de la API de Spotify está [aquí](https://developer.spotify.com/documentation/web-api/).\n"
      ]
    },
    {
      "cell_type": "markdown",
      "metadata": {
        "id": "labC7KlWgEu4"
      },
      "source": [
        "#### Primeros pasos: generación del bearer token\n",
        "\n",
        "Como mencionamos, las claves que vienen con la app no son las únicas que vamos a tener que usar. Para usar la API de Spotify vamos a tener que solicitarle una más que se denomina *bearer token*. Se hace de la siguiente manera, usando la librería *requets* para hacer un *post* con las claves de la aplicación:"
      ]
    },
    {
      "cell_type": "code",
      "metadata": {
        "id": "dMimW6kFaJF5"
      },
      "source": [
        "# Claves obtenidas de la app. Estas varían para cada aplicación que crean. \n",
        "# En particular, la aplicación va a ser borrada pronto, con lo cual van a tener \n",
        "# que crear sus propias claves\n",
        "CLIENT_ID = '443b515a44c7481c883ae25f747e80ca'\n",
        "CLIENT_SECRET = 'ba66f38946774f079d64671db8ffca2f'\n",
        "\n",
        "# POST donde le pasamos las clave de la app\n",
        "response = requests.post('https://accounts.spotify.com/api/token', data = {'grant_type': 'client_credentials', 'client_id': CLIENT_ID, 'client_secret': CLIENT_SECRET})"
      ],
      "execution_count": null,
      "outputs": []
    },
    {
      "cell_type": "markdown",
      "metadata": {
        "id": "tzsSDtrA_ari"
      },
      "source": [
        "Podemos ver el status_code a ver si el request fue exitoso o bien hubo algún error o warning:"
      ]
    },
    {
      "cell_type": "code",
      "metadata": {
        "colab": {
          "base_uri": "https://localhost:8080/"
        },
        "id": "a-4BxaQgs3_F",
        "outputId": "d73d2379-9412-404e-cf89-4457adbba0d2"
      },
      "source": [
        "# Code del response \n",
        "print(response.status_code)"
      ],
      "execution_count": null,
      "outputs": [
        {
          "output_type": "stream",
          "text": [
            "200\n"
          ],
          "name": "stdout"
        }
      ]
    },
    {
      "cell_type": "markdown",
      "metadata": {
        "id": "D-LwkGJXhNrv"
      },
      "source": [
        "Veamos qué nos devolvió el response en formato json:"
      ]
    },
    {
      "cell_type": "code",
      "metadata": {
        "colab": {
          "base_uri": "https://localhost:8080/"
        },
        "id": "ugRJ61PWhROQ",
        "outputId": "4b7cf780-8cbb-413e-95f0-e40f45eb618f"
      },
      "source": [
        "print(response.json())"
      ],
      "execution_count": null,
      "outputs": [
        {
          "output_type": "stream",
          "text": [
            "{'access_token': 'BQB4y51pADQxzwMdpiRWIwvJ6JEum9RSZ3IC_TvnxoI7hPLpYXXBGCij8T3ubyPxO44Ts4WJ4R4-FJON4PM', 'token_type': 'Bearer', 'expires_in': 3600}\n"
          ],
          "name": "stdout"
        }
      ]
    },
    {
      "cell_type": "markdown",
      "metadata": {
        "id": "I0KMP1ZmhckE"
      },
      "source": [
        "Aquí vemos que el nos devolvió un *token* y nos dice que precisamente es el *bearer token*. Guardamos estos datos para usarlos después en cada petición a la API. Con este *token* ya estamos!"
      ]
    },
    {
      "cell_type": "code",
      "metadata": {
        "id": "i0FyZCYHamKv"
      },
      "source": [
        "# Guardamos el bearer token para usarlo en las peticiones de la API\n",
        "access_token = response.json()['access_token']"
      ],
      "execution_count": null,
      "outputs": []
    },
    {
      "cell_type": "markdown",
      "metadata": {
        "id": "b3jglvZOh71y"
      },
      "source": [
        "### Petición de datos\n",
        "\n",
        "Listo, acá arranca lo divertido! Vamos a pedirle datos a la API! Esto lo vamos a hacer con método *get* de *requests*. En todos los casos le vamos a pasar el *access_token* como un encabezado y los parámetros necesarios para hacer la petición. Lo único que tenemos que tener presente es cómo se llaman los puntos a los que les vamos a pedir la información. Esto nuevamente lo tienen que sacar de la documentación, en particular de [acá](https://developer.spotify.com/documentation/web-api/reference/)."
      ]
    },
    {
      "cell_type": "markdown",
      "metadata": {
        "id": "KXDN7mo2lsdI"
      },
      "source": [
        "#### Datos de una canción \n",
        "\n",
        "Veamos cómo pedirle datos de una canción cuyo *id* conocemos. "
      ]
    },
    {
      "cell_type": "code",
      "metadata": {
        "colab": {
          "base_uri": "https://localhost:8080/"
        },
        "id": "w3JtKbVZlxfR",
        "outputId": "d380b5cb-2eae-4fde-dae9-ce66d258d3ad"
      },
      "source": [
        "# Acá le pasamos el token que obtuvimos antes. Lo demás son algunas cosas generales que suelen ir \n",
        "headers = {'Authorization': 'Bearer {}'.format(access_token), 'Accept': 'application/json', 'Content-Type': 'application/json'}\n",
        "\n",
        "# Este id corresponde a \"Promesas sobre el bidet - Charly García\"\n",
        "# https://open.spotify.com/album/17utekM9a95MchXbkbh47k?highlight=spotify:track:2MXqrO1RBfek6RoijghYYp\n",
        "# Ver que el id del track aparece en la url de la canción \n",
        "track_id = '2MXqrO1RBfek6RoijghYYp'\n",
        "\n",
        "# End point para obtener información de la canción. Esto se saca de la referencia de la documentación\n",
        "url = 'https://api.spotify.com/v1/tracks/{}'.format(track_id)\n",
        "\n",
        "# En este caso no lleva ningún parámetro, el id de la canción va directamente en el url\n",
        "response = requests.get(url, params = {}, headers = headers)\n",
        "\n",
        "# Vemos el json de la respuesta\n",
        "json_data = response.json()\n",
        "\n",
        "# Esto lo devuelve en un formato más fácil de leer\n",
        "print(json.dumps(json_data, indent = 4))"
      ],
      "execution_count": null,
      "outputs": [
        {
          "output_type": "stream",
          "text": [
            "{\n",
            "    \"album\": {\n",
            "        \"album_type\": \"album\",\n",
            "        \"artists\": [\n",
            "            {\n",
            "                \"external_urls\": {\n",
            "                    \"spotify\": \"https://open.spotify.com/artist/3jO7X5KupvwmWTHGtHgcgo\"\n",
            "                },\n",
            "                \"href\": \"https://api.spotify.com/v1/artists/3jO7X5KupvwmWTHGtHgcgo\",\n",
            "                \"id\": \"3jO7X5KupvwmWTHGtHgcgo\",\n",
            "                \"name\": \"Charly Garc\\u00eda\",\n",
            "                \"type\": \"artist\",\n",
            "                \"uri\": \"spotify:artist:3jO7X5KupvwmWTHGtHgcgo\"\n",
            "            }\n",
            "        ],\n",
            "        \"available_markets\": [\n",
            "            \"AD\",\n",
            "            \"AE\",\n",
            "            \"AG\",\n",
            "            \"AL\",\n",
            "            \"AM\",\n",
            "            \"AO\",\n",
            "            \"AR\",\n",
            "            \"AT\",\n",
            "            \"AU\",\n",
            "            \"AZ\",\n",
            "            \"BA\",\n",
            "            \"BB\",\n",
            "            \"BD\",\n",
            "            \"BE\",\n",
            "            \"BF\",\n",
            "            \"BG\",\n",
            "            \"BH\",\n",
            "            \"BI\",\n",
            "            \"BJ\",\n",
            "            \"BN\",\n",
            "            \"BO\",\n",
            "            \"BR\",\n",
            "            \"BS\",\n",
            "            \"BT\",\n",
            "            \"BW\",\n",
            "            \"BY\",\n",
            "            \"BZ\",\n",
            "            \"CA\",\n",
            "            \"CH\",\n",
            "            \"CI\",\n",
            "            \"CL\",\n",
            "            \"CM\",\n",
            "            \"CO\",\n",
            "            \"CR\",\n",
            "            \"CV\",\n",
            "            \"CW\",\n",
            "            \"CY\",\n",
            "            \"CZ\",\n",
            "            \"DE\",\n",
            "            \"DJ\",\n",
            "            \"DK\",\n",
            "            \"DM\",\n",
            "            \"DO\",\n",
            "            \"DZ\",\n",
            "            \"EC\",\n",
            "            \"EE\",\n",
            "            \"EG\",\n",
            "            \"ES\",\n",
            "            \"FI\",\n",
            "            \"FJ\",\n",
            "            \"FM\",\n",
            "            \"FR\",\n",
            "            \"GA\",\n",
            "            \"GB\",\n",
            "            \"GD\",\n",
            "            \"GE\",\n",
            "            \"GH\",\n",
            "            \"GM\",\n",
            "            \"GN\",\n",
            "            \"GQ\",\n",
            "            \"GR\",\n",
            "            \"GT\",\n",
            "            \"GW\",\n",
            "            \"GY\",\n",
            "            \"HK\",\n",
            "            \"HN\",\n",
            "            \"HR\",\n",
            "            \"HT\",\n",
            "            \"HU\",\n",
            "            \"ID\",\n",
            "            \"IE\",\n",
            "            \"IL\",\n",
            "            \"IN\",\n",
            "            \"IS\",\n",
            "            \"IT\",\n",
            "            \"JM\",\n",
            "            \"JO\",\n",
            "            \"JP\",\n",
            "            \"KE\",\n",
            "            \"KG\",\n",
            "            \"KH\",\n",
            "            \"KI\",\n",
            "            \"KM\",\n",
            "            \"KN\",\n",
            "            \"KR\",\n",
            "            \"KW\",\n",
            "            \"KZ\",\n",
            "            \"LA\",\n",
            "            \"LB\",\n",
            "            \"LC\",\n",
            "            \"LI\",\n",
            "            \"LK\",\n",
            "            \"LR\",\n",
            "            \"LS\",\n",
            "            \"LT\",\n",
            "            \"LU\",\n",
            "            \"LV\",\n",
            "            \"MA\",\n",
            "            \"MC\",\n",
            "            \"MD\",\n",
            "            \"ME\",\n",
            "            \"MG\",\n",
            "            \"MH\",\n",
            "            \"MK\",\n",
            "            \"ML\",\n",
            "            \"MN\",\n",
            "            \"MO\",\n",
            "            \"MR\",\n",
            "            \"MT\",\n",
            "            \"MU\",\n",
            "            \"MV\",\n",
            "            \"MW\",\n",
            "            \"MX\",\n",
            "            \"MY\",\n",
            "            \"MZ\",\n",
            "            \"NA\",\n",
            "            \"NE\",\n",
            "            \"NG\",\n",
            "            \"NI\",\n",
            "            \"NL\",\n",
            "            \"NO\",\n",
            "            \"NP\",\n",
            "            \"NR\",\n",
            "            \"NZ\",\n",
            "            \"OM\",\n",
            "            \"PA\",\n",
            "            \"PE\",\n",
            "            \"PG\",\n",
            "            \"PH\",\n",
            "            \"PK\",\n",
            "            \"PL\",\n",
            "            \"PS\",\n",
            "            \"PT\",\n",
            "            \"PW\",\n",
            "            \"PY\",\n",
            "            \"QA\",\n",
            "            \"RO\",\n",
            "            \"RS\",\n",
            "            \"RU\",\n",
            "            \"RW\",\n",
            "            \"SA\",\n",
            "            \"SB\",\n",
            "            \"SC\",\n",
            "            \"SE\",\n",
            "            \"SG\",\n",
            "            \"SI\",\n",
            "            \"SK\",\n",
            "            \"SL\",\n",
            "            \"SM\",\n",
            "            \"SN\",\n",
            "            \"SR\",\n",
            "            \"ST\",\n",
            "            \"SV\",\n",
            "            \"SZ\",\n",
            "            \"TD\",\n",
            "            \"TG\",\n",
            "            \"TH\",\n",
            "            \"TL\",\n",
            "            \"TN\",\n",
            "            \"TO\",\n",
            "            \"TR\",\n",
            "            \"TT\",\n",
            "            \"TV\",\n",
            "            \"TW\",\n",
            "            \"TZ\",\n",
            "            \"UA\",\n",
            "            \"UG\",\n",
            "            \"US\",\n",
            "            \"UY\",\n",
            "            \"UZ\",\n",
            "            \"VC\",\n",
            "            \"VN\",\n",
            "            \"VU\",\n",
            "            \"WS\",\n",
            "            \"XK\",\n",
            "            \"ZA\",\n",
            "            \"ZM\",\n",
            "            \"ZW\"\n",
            "        ],\n",
            "        \"external_urls\": {\n",
            "            \"spotify\": \"https://open.spotify.com/album/17utekM9a95MchXbkbh47k\"\n",
            "        },\n",
            "        \"href\": \"https://api.spotify.com/v1/albums/17utekM9a95MchXbkbh47k\",\n",
            "        \"id\": \"17utekM9a95MchXbkbh47k\",\n",
            "        \"images\": [\n",
            "            {\n",
            "                \"height\": 640,\n",
            "                \"url\": \"https://i.scdn.co/image/ab67616d0000b273a89f53c13537b933a43d2600\",\n",
            "                \"width\": 640\n",
            "            },\n",
            "            {\n",
            "                \"height\": 300,\n",
            "                \"url\": \"https://i.scdn.co/image/ab67616d00001e02a89f53c13537b933a43d2600\",\n",
            "                \"width\": 300\n",
            "            },\n",
            "            {\n",
            "                \"height\": 64,\n",
            "                \"url\": \"https://i.scdn.co/image/ab67616d00004851a89f53c13537b933a43d2600\",\n",
            "                \"width\": 64\n",
            "            }\n",
            "        ],\n",
            "        \"name\": \"Piano Bar\",\n",
            "        \"release_date\": \"1984-01-01\",\n",
            "        \"release_date_precision\": \"day\",\n",
            "        \"total_tracks\": 11,\n",
            "        \"type\": \"album\",\n",
            "        \"uri\": \"spotify:album:17utekM9a95MchXbkbh47k\"\n",
            "    },\n",
            "    \"artists\": [\n",
            "        {\n",
            "            \"external_urls\": {\n",
            "                \"spotify\": \"https://open.spotify.com/artist/3jO7X5KupvwmWTHGtHgcgo\"\n",
            "            },\n",
            "            \"href\": \"https://api.spotify.com/v1/artists/3jO7X5KupvwmWTHGtHgcgo\",\n",
            "            \"id\": \"3jO7X5KupvwmWTHGtHgcgo\",\n",
            "            \"name\": \"Charly Garc\\u00eda\",\n",
            "            \"type\": \"artist\",\n",
            "            \"uri\": \"spotify:artist:3jO7X5KupvwmWTHGtHgcgo\"\n",
            "        }\n",
            "    ],\n",
            "    \"available_markets\": [\n",
            "        \"AD\",\n",
            "        \"AE\",\n",
            "        \"AG\",\n",
            "        \"AL\",\n",
            "        \"AM\",\n",
            "        \"AO\",\n",
            "        \"AR\",\n",
            "        \"AT\",\n",
            "        \"AU\",\n",
            "        \"AZ\",\n",
            "        \"BA\",\n",
            "        \"BB\",\n",
            "        \"BD\",\n",
            "        \"BE\",\n",
            "        \"BF\",\n",
            "        \"BG\",\n",
            "        \"BH\",\n",
            "        \"BI\",\n",
            "        \"BJ\",\n",
            "        \"BN\",\n",
            "        \"BO\",\n",
            "        \"BR\",\n",
            "        \"BS\",\n",
            "        \"BT\",\n",
            "        \"BW\",\n",
            "        \"BY\",\n",
            "        \"BZ\",\n",
            "        \"CA\",\n",
            "        \"CH\",\n",
            "        \"CI\",\n",
            "        \"CL\",\n",
            "        \"CM\",\n",
            "        \"CO\",\n",
            "        \"CR\",\n",
            "        \"CV\",\n",
            "        \"CW\",\n",
            "        \"CY\",\n",
            "        \"CZ\",\n",
            "        \"DE\",\n",
            "        \"DJ\",\n",
            "        \"DK\",\n",
            "        \"DM\",\n",
            "        \"DO\",\n",
            "        \"DZ\",\n",
            "        \"EC\",\n",
            "        \"EE\",\n",
            "        \"EG\",\n",
            "        \"ES\",\n",
            "        \"FI\",\n",
            "        \"FJ\",\n",
            "        \"FM\",\n",
            "        \"FR\",\n",
            "        \"GA\",\n",
            "        \"GB\",\n",
            "        \"GD\",\n",
            "        \"GE\",\n",
            "        \"GH\",\n",
            "        \"GM\",\n",
            "        \"GN\",\n",
            "        \"GQ\",\n",
            "        \"GR\",\n",
            "        \"GT\",\n",
            "        \"GW\",\n",
            "        \"GY\",\n",
            "        \"HK\",\n",
            "        \"HN\",\n",
            "        \"HR\",\n",
            "        \"HT\",\n",
            "        \"HU\",\n",
            "        \"ID\",\n",
            "        \"IE\",\n",
            "        \"IL\",\n",
            "        \"IN\",\n",
            "        \"IS\",\n",
            "        \"IT\",\n",
            "        \"JM\",\n",
            "        \"JO\",\n",
            "        \"JP\",\n",
            "        \"KE\",\n",
            "        \"KG\",\n",
            "        \"KH\",\n",
            "        \"KI\",\n",
            "        \"KM\",\n",
            "        \"KN\",\n",
            "        \"KR\",\n",
            "        \"KW\",\n",
            "        \"KZ\",\n",
            "        \"LA\",\n",
            "        \"LB\",\n",
            "        \"LC\",\n",
            "        \"LI\",\n",
            "        \"LK\",\n",
            "        \"LR\",\n",
            "        \"LS\",\n",
            "        \"LT\",\n",
            "        \"LU\",\n",
            "        \"LV\",\n",
            "        \"MA\",\n",
            "        \"MC\",\n",
            "        \"MD\",\n",
            "        \"ME\",\n",
            "        \"MG\",\n",
            "        \"MH\",\n",
            "        \"MK\",\n",
            "        \"ML\",\n",
            "        \"MN\",\n",
            "        \"MO\",\n",
            "        \"MR\",\n",
            "        \"MT\",\n",
            "        \"MU\",\n",
            "        \"MV\",\n",
            "        \"MW\",\n",
            "        \"MX\",\n",
            "        \"MY\",\n",
            "        \"MZ\",\n",
            "        \"NA\",\n",
            "        \"NE\",\n",
            "        \"NG\",\n",
            "        \"NI\",\n",
            "        \"NL\",\n",
            "        \"NO\",\n",
            "        \"NP\",\n",
            "        \"NR\",\n",
            "        \"NZ\",\n",
            "        \"OM\",\n",
            "        \"PA\",\n",
            "        \"PE\",\n",
            "        \"PG\",\n",
            "        \"PH\",\n",
            "        \"PK\",\n",
            "        \"PL\",\n",
            "        \"PS\",\n",
            "        \"PT\",\n",
            "        \"PW\",\n",
            "        \"PY\",\n",
            "        \"QA\",\n",
            "        \"RO\",\n",
            "        \"RS\",\n",
            "        \"RU\",\n",
            "        \"RW\",\n",
            "        \"SA\",\n",
            "        \"SB\",\n",
            "        \"SC\",\n",
            "        \"SE\",\n",
            "        \"SG\",\n",
            "        \"SI\",\n",
            "        \"SK\",\n",
            "        \"SL\",\n",
            "        \"SM\",\n",
            "        \"SN\",\n",
            "        \"SR\",\n",
            "        \"ST\",\n",
            "        \"SV\",\n",
            "        \"SZ\",\n",
            "        \"TD\",\n",
            "        \"TG\",\n",
            "        \"TH\",\n",
            "        \"TL\",\n",
            "        \"TN\",\n",
            "        \"TO\",\n",
            "        \"TR\",\n",
            "        \"TT\",\n",
            "        \"TV\",\n",
            "        \"TW\",\n",
            "        \"TZ\",\n",
            "        \"UA\",\n",
            "        \"UG\",\n",
            "        \"US\",\n",
            "        \"UY\",\n",
            "        \"UZ\",\n",
            "        \"VC\",\n",
            "        \"VN\",\n",
            "        \"VU\",\n",
            "        \"WS\",\n",
            "        \"XK\",\n",
            "        \"ZA\",\n",
            "        \"ZM\",\n",
            "        \"ZW\"\n",
            "    ],\n",
            "    \"disc_number\": 1,\n",
            "    \"duration_ms\": 164360,\n",
            "    \"explicit\": false,\n",
            "    \"external_ids\": {\n",
            "        \"isrc\": \"ARF140300027\"\n",
            "    },\n",
            "    \"external_urls\": {\n",
            "        \"spotify\": \"https://open.spotify.com/track/2MXqrO1RBfek6RoijghYYp\"\n",
            "    },\n",
            "    \"href\": \"https://api.spotify.com/v1/tracks/2MXqrO1RBfek6RoijghYYp\",\n",
            "    \"id\": \"2MXqrO1RBfek6RoijghYYp\",\n",
            "    \"is_local\": false,\n",
            "    \"name\": \"Promesas Sobre El Bidet\",\n",
            "    \"popularity\": 57,\n",
            "    \"preview_url\": null,\n",
            "    \"track_number\": 2,\n",
            "    \"type\": \"track\",\n",
            "    \"uri\": \"spotify:track:2MXqrO1RBfek6RoijghYYp\"\n",
            "}\n"
          ],
          "name": "stdout"
        }
      ]
    },
    {
      "cell_type": "markdown",
      "metadata": {
        "id": "2sjknN7HmsI5"
      },
      "source": [
        "Vemos que obtenemos varias cosas: además de la información de la canción como la duración y el nombre, tenemos información del disco en qué mercado está, e información del artista."
      ]
    },
    {
      "cell_type": "markdown",
      "metadata": {
        "id": "-idVw_vZjAm8"
      },
      "source": [
        "#### Audio Features\n",
        "\n",
        "Características de las canciones analizadas con algún programa de la plataforma. Esto nos devuelve algunos *features* interesantes. Se hace especificando el *id* de una canción que podemos averiguar de reproducir la canción de Spotify al *end point* que especificamos abajo:"
      ]
    },
    {
      "cell_type": "code",
      "metadata": {
        "colab": {
          "base_uri": "https://localhost:8080/"
        },
        "id": "y9fHbsoqaxyi",
        "outputId": "898f07a5-681a-4e1d-9dbc-f6fbb813d4c5"
      },
      "source": [
        "# Acá le pasamos el token que obtuvimos antes. Lo demás son algunas cosas generales que suelen ir \n",
        "headers = {'Authorization': 'Bearer {}'.format(access_token), 'Accept': 'application/json', 'Content-Type': 'application/json'}\n",
        "\n",
        "# Este id corresponde a \"Promesas sobre el bidet - Charly García\"\n",
        "# https://open.spotify.com/album/17utekM9a95MchXbkbh47k?highlight=spotify:track:2MXqrO1RBfek6RoijghYYp\n",
        "# Ver que el id del track aparece en la url de la canción \n",
        "track_id = '2MXqrO1RBfek6RoijghYYp'\n",
        "\n",
        "# End point para obtener los audio features. Esto se saca de la referencia de la documentación\n",
        "url = 'https://api.spotify.com/v1/audio-features/{}'.format(track_id)\n",
        "\n",
        "# En este caso no lleva ningún parámetro, el id de la canción va directamente en el url\n",
        "response = requests.get(url, params = {}, headers = headers)\n",
        "\n",
        "# Vemos el json de la respuesta\n",
        "json_data = response.json()\n",
        "\n",
        "# Esto lo devuelve en un formato más fácil de leer\n",
        "print(json.dumps(json_data, indent = 4))"
      ],
      "execution_count": null,
      "outputs": [
        {
          "output_type": "stream",
          "text": [
            "{\n",
            "    \"danceability\": 0.786,\n",
            "    \"energy\": 0.621,\n",
            "    \"key\": 7,\n",
            "    \"loudness\": -9.805,\n",
            "    \"mode\": 0,\n",
            "    \"speechiness\": 0.0282,\n",
            "    \"acousticness\": 0.576,\n",
            "    \"instrumentalness\": 0.000403,\n",
            "    \"liveness\": 0.123,\n",
            "    \"valence\": 0.54,\n",
            "    \"tempo\": 111.459,\n",
            "    \"type\": \"audio_features\",\n",
            "    \"id\": \"2MXqrO1RBfek6RoijghYYp\",\n",
            "    \"uri\": \"spotify:track:2MXqrO1RBfek6RoijghYYp\",\n",
            "    \"track_href\": \"https://api.spotify.com/v1/tracks/2MXqrO1RBfek6RoijghYYp\",\n",
            "    \"analysis_url\": \"https://api.spotify.com/v1/audio-analysis/2MXqrO1RBfek6RoijghYYp\",\n",
            "    \"duration_ms\": 164360,\n",
            "    \"time_signature\": 4\n",
            "}\n"
          ],
          "name": "stdout"
        }
      ]
    },
    {
      "cell_type": "markdown",
      "metadata": {
        "id": "V278axrjnaeW"
      },
      "source": [
        "#### Búsqueda de un artista\n",
        "\n",
        "Podemos buscar información de un artista. Acá lo hacemos con el *end_point* \"search\"."
      ]
    },
    {
      "cell_type": "code",
      "metadata": {
        "colab": {
          "base_uri": "https://localhost:8080/"
        },
        "id": "L-SO6G3ha2zR",
        "outputId": "b92fafb5-86ba-4d34-db25-0dae34ff80a0"
      },
      "source": [
        "# Acá le pasamos el token que obtuvimos antes. Lo demás son algunas cosas generales que suelen ir \n",
        "headers = {'Authorization': 'Bearer {}'.format(access_token), 'Accept': 'application/json', 'Content-Type': 'application/json'}\n",
        "\n",
        "# End point para obtener los audio features. Esto se saca de la referencia de la documentación\n",
        "url = 'https://api.spotify.com/v1/search'\n",
        "\n",
        "# Búsqueda. Acá sí hay que pasarselo como parámetros\n",
        "# (Ven! ven! que no me quedé en los 80's!)\n",
        "params = {'q': 'Wos', 'type': 'artist', 'market': 'AR', 'limit': '5' }\n",
        "\n",
        "# En este caso no lleva ningún parámetro, el id de la canción va directamente en el url\n",
        "response = requests.get(url, params = params, headers = headers)\n",
        "\n",
        "# Vemos el json de la respuesta\n",
        "json_data = response.json()\n",
        "\n",
        "# Esto lo devuelve en un formato más fácil de leer\n",
        "print(json.dumps(json_data, indent = 4))"
      ],
      "execution_count": null,
      "outputs": [
        {
          "output_type": "stream",
          "text": [
            "{\n",
            "    \"artists\": {\n",
            "        \"href\": \"https://api.spotify.com/v1/search?query=Wos&type=artist&market=AR&offset=0&limit=5\",\n",
            "        \"items\": [\n",
            "            {\n",
            "                \"external_urls\": {\n",
            "                    \"spotify\": \"https://open.spotify.com/artist/5YCc6xS5Gpj3EkaYGdjyNK\"\n",
            "                },\n",
            "                \"followers\": {\n",
            "                    \"href\": null,\n",
            "                    \"total\": 1931572\n",
            "                },\n",
            "                \"genres\": [\n",
            "                    \"argentine indie\",\n",
            "                    \"trap argentino\"\n",
            "                ],\n",
            "                \"href\": \"https://api.spotify.com/v1/artists/5YCc6xS5Gpj3EkaYGdjyNK\",\n",
            "                \"id\": \"5YCc6xS5Gpj3EkaYGdjyNK\",\n",
            "                \"images\": [\n",
            "                    {\n",
            "                        \"height\": 640,\n",
            "                        \"url\": \"https://i.scdn.co/image/9e557e312db2fec6c81ef1e84bad2dc189dc0389\",\n",
            "                        \"width\": 640\n",
            "                    },\n",
            "                    {\n",
            "                        \"height\": 320,\n",
            "                        \"url\": \"https://i.scdn.co/image/9182f27c5438ee6fb18ad3dba8b07682d3c7ee87\",\n",
            "                        \"width\": 320\n",
            "                    },\n",
            "                    {\n",
            "                        \"height\": 160,\n",
            "                        \"url\": \"https://i.scdn.co/image/e9185c865c23ceada344aa8ccc282743a0bfda3c\",\n",
            "                        \"width\": 160\n",
            "                    }\n",
            "                ],\n",
            "                \"name\": \"WOS\",\n",
            "                \"popularity\": 71,\n",
            "                \"type\": \"artist\",\n",
            "                \"uri\": \"spotify:artist:5YCc6xS5Gpj3EkaYGdjyNK\"\n",
            "            },\n",
            "            {\n",
            "                \"external_urls\": {\n",
            "                    \"spotify\": \"https://open.spotify.com/artist/5Y0TnIYcAnOXX46KfFElq7\"\n",
            "                },\n",
            "                \"followers\": {\n",
            "                    \"href\": null,\n",
            "                    \"total\": 9\n",
            "                },\n",
            "                \"genres\": [],\n",
            "                \"href\": \"https://api.spotify.com/v1/artists/5Y0TnIYcAnOXX46KfFElq7\",\n",
            "                \"id\": \"5Y0TnIYcAnOXX46KfFElq7\",\n",
            "                \"images\": [],\n",
            "                \"name\": \"Wos\",\n",
            "                \"popularity\": 29,\n",
            "                \"type\": \"artist\",\n",
            "                \"uri\": \"spotify:artist:5Y0TnIYcAnOXX46KfFElq7\"\n",
            "            },\n",
            "            {\n",
            "                \"external_urls\": {\n",
            "                    \"spotify\": \"https://open.spotify.com/artist/3kdAt1M24OsazoncWOFlFf\"\n",
            "                },\n",
            "                \"followers\": {\n",
            "                    \"href\": null,\n",
            "                    \"total\": 363\n",
            "                },\n",
            "                \"genres\": [],\n",
            "                \"href\": \"https://api.spotify.com/v1/artists/3kdAt1M24OsazoncWOFlFf\",\n",
            "                \"id\": \"3kdAt1M24OsazoncWOFlFf\",\n",
            "                \"images\": [\n",
            "                    {\n",
            "                        \"height\": 640,\n",
            "                        \"url\": \"https://i.scdn.co/image/9c1c84274af1f73e7e49b57ff7819156a995e1ec\",\n",
            "                        \"width\": 640\n",
            "                    },\n",
            "                    {\n",
            "                        \"height\": 320,\n",
            "                        \"url\": \"https://i.scdn.co/image/a707dbc40b8147ea924903ba44905c278165cfbe\",\n",
            "                        \"width\": 320\n",
            "                    },\n",
            "                    {\n",
            "                        \"height\": 160,\n",
            "                        \"url\": \"https://i.scdn.co/image/fdd375b713d43a052698803e8d61d114e8fafeaa\",\n",
            "                        \"width\": 160\n",
            "                    }\n",
            "                ],\n",
            "                \"name\": \"WOST\",\n",
            "                \"popularity\": 39,\n",
            "                \"type\": \"artist\",\n",
            "                \"uri\": \"spotify:artist:3kdAt1M24OsazoncWOFlFf\"\n",
            "            },\n",
            "            {\n",
            "                \"external_urls\": {\n",
            "                    \"spotify\": \"https://open.spotify.com/artist/2Z3hX6FBCtTfjx8chQ6Mer\"\n",
            "                },\n",
            "                \"followers\": {\n",
            "                    \"href\": null,\n",
            "                    \"total\": 2159\n",
            "                },\n",
            "                \"genres\": [],\n",
            "                \"href\": \"https://api.spotify.com/v1/artists/2Z3hX6FBCtTfjx8chQ6Mer\",\n",
            "                \"id\": \"2Z3hX6FBCtTfjx8chQ6Mer\",\n",
            "                \"images\": [\n",
            "                    {\n",
            "                        \"height\": 640,\n",
            "                        \"url\": \"https://i.scdn.co/image/f024b9d3e753b9d7915edc45e0186abe3a4bffa4\",\n",
            "                        \"width\": 640\n",
            "                    },\n",
            "                    {\n",
            "                        \"height\": 320,\n",
            "                        \"url\": \"https://i.scdn.co/image/bc836b34c1b40dd5e4d356991ccee9b0789a6dfa\",\n",
            "                        \"width\": 320\n",
            "                    },\n",
            "                    {\n",
            "                        \"height\": 160,\n",
            "                        \"url\": \"https://i.scdn.co/image/1c1c421b9593ae38c05b92a4b18fc1aa331bffb0\",\n",
            "                        \"width\": 160\n",
            "                    }\n",
            "                ],\n",
            "                \"name\": \"Wos LasPalmas\",\n",
            "                \"popularity\": 33,\n",
            "                \"type\": \"artist\",\n",
            "                \"uri\": \"spotify:artist:2Z3hX6FBCtTfjx8chQ6Mer\"\n",
            "            },\n",
            "            {\n",
            "                \"external_urls\": {\n",
            "                    \"spotify\": \"https://open.spotify.com/artist/4NjspFnBDFVhbPDvwAbJHM\"\n",
            "                },\n",
            "                \"followers\": {\n",
            "                    \"href\": null,\n",
            "                    \"total\": 0\n",
            "                },\n",
            "                \"genres\": [],\n",
            "                \"href\": \"https://api.spotify.com/v1/artists/4NjspFnBDFVhbPDvwAbJHM\",\n",
            "                \"id\": \"4NjspFnBDFVhbPDvwAbJHM\",\n",
            "                \"images\": [\n",
            "                    {\n",
            "                        \"height\": 640,\n",
            "                        \"url\": \"https://i.scdn.co/image/ab67616d0000b2731aaf127aa5aabc045c2ff175\",\n",
            "                        \"width\": 640\n",
            "                    },\n",
            "                    {\n",
            "                        \"height\": 300,\n",
            "                        \"url\": \"https://i.scdn.co/image/ab67616d00001e021aaf127aa5aabc045c2ff175\",\n",
            "                        \"width\": 300\n",
            "                    },\n",
            "                    {\n",
            "                        \"height\": 64,\n",
            "                        \"url\": \"https://i.scdn.co/image/ab67616d000048511aaf127aa5aabc045c2ff175\",\n",
            "                        \"width\": 64\n",
            "                    }\n",
            "                ],\n",
            "                \"name\": \"Kevin Woshil\",\n",
            "                \"popularity\": 23,\n",
            "                \"type\": \"artist\",\n",
            "                \"uri\": \"spotify:artist:4NjspFnBDFVhbPDvwAbJHM\"\n",
            "            }\n",
            "        ],\n",
            "        \"limit\": 5,\n",
            "        \"next\": \"https://api.spotify.com/v1/search?query=Wos&type=artist&market=AR&offset=5&limit=5\",\n",
            "        \"offset\": 0,\n",
            "        \"previous\": null,\n",
            "        \"total\": 230\n",
            "    }\n",
            "}\n"
          ],
          "name": "stdout"
        }
      ]
    },
    {
      "cell_type": "markdown",
      "metadata": {
        "id": "QwXmIUWlp4TX"
      },
      "source": [
        "#### Breve, brevísima inspección de los datos\n",
        "\n",
        "Como ven la cantidad de cosas que se pueden hacer son varias. Manipulemos un poco los datos para ver cómo trabajaríamos:"
      ]
    },
    {
      "cell_type": "code",
      "metadata": {
        "colab": {
          "base_uri": "https://localhost:8080/"
        },
        "id": "ADa5kZtzodCz",
        "outputId": "846a5484-0507-4f8f-9571-498262b94ef5"
      },
      "source": [
        "# Tipo de dato del json \n",
        "print(type(json_data))"
      ],
      "execution_count": null,
      "outputs": [
        {
          "output_type": "stream",
          "text": [
            "<class 'dict'>\n"
          ],
          "name": "stdout"
        }
      ]
    },
    {
      "cell_type": "code",
      "metadata": {
        "colab": {
          "base_uri": "https://localhost:8080/"
        },
        "id": "FDXvsy2BozIE",
        "outputId": "c8ccf099-9d24-44c1-9572-a12721101985"
      },
      "source": [
        "# Keys del diccionario\n",
        "print(json_data.keys())"
      ],
      "execution_count": null,
      "outputs": [
        {
          "output_type": "stream",
          "text": [
            "dict_keys(['artists'])\n"
          ],
          "name": "stdout"
        }
      ]
    },
    {
      "cell_type": "code",
      "metadata": {
        "colab": {
          "base_uri": "https://localhost:8080/"
        },
        "id": "ij-ORqg7pGH6",
        "outputId": "b89e876e-3e11-4189-ccc8-4e3ce1de7f93"
      },
      "source": [
        "# Cantidad de artistas que encontró que coinciden con nuestra query\n",
        "print(len(json_data['artists']['items']))"
      ],
      "execution_count": null,
      "outputs": [
        {
          "output_type": "stream",
          "text": [
            "5\n"
          ],
          "name": "stdout"
        }
      ]
    },
    {
      "cell_type": "code",
      "metadata": {
        "colab": {
          "base_uri": "https://localhost:8080/"
        },
        "id": "_OpIFrILpKiw",
        "outputId": "452dee90-d651-4aa9-cd15-6f99bbafa0fa"
      },
      "source": [
        "# Nombre y género musical del primer artista\n",
        "print(json_data['artists']['items'][0]['name'])\n",
        "print(json_data['artists']['items'][0]['genres'])"
      ],
      "execution_count": null,
      "outputs": [
        {
          "output_type": "stream",
          "text": [
            "WOS\n",
            "['argentine indie', 'trap argentino']\n"
          ],
          "name": "stdout"
        }
      ]
    },
    {
      "cell_type": "markdown",
      "metadata": {
        "id": "zHuuoSkxqIk-"
      },
      "source": [
        "### Consejo final\n",
        "\n",
        "Para ver qué se puede extraer de Spotify vean las [referencias de las API](https://developer.spotify.com/documentation/web-api/reference/), que son bastante fácil de leer y claras en cómo se llamar a los diferentes puntos. Además una buena herramienta que tiene incorporada en la posibilidad de simular los diferentes *requests* en la página, lo cual nos da un buen feeling para armar nuestro código."
      ]
    }
  ]
}