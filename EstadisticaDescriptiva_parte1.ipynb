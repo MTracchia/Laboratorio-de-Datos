{
  "nbformat": 4,
  "nbformat_minor": 0,
  "metadata": {
    "colab": {
      "name": "EstadisticaDescriptiva_parte1.ipynb",
      "provenance": [],
      "collapsed_sections": [],
      "include_colab_link": true
    },
    "kernelspec": {
      "name": "python3",
      "display_name": "Python 3"
    }
  },
  "cells": [
    {
      "cell_type": "markdown",
      "metadata": {
        "id": "view-in-github",
        "colab_type": "text"
      },
      "source": [
        "<a href=\"https://colab.research.google.com/github/MTracchia/Laboratorio-de-Datos/blob/main/EstadisticaDescriptiva_parte1.ipynb\" target=\"_parent\"><img src=\"https://colab.research.google.com/assets/colab-badge.svg\" alt=\"Open In Colab\"/></a>"
      ]
    },
    {
      "cell_type": "markdown",
      "metadata": {
        "id": "1Lm41OahRVn0"
      },
      "source": [
        "# Estadística descriptiva, visualizaciones y experimentos numéricos\n",
        "\n",
        "En esta notebook vamos a aprender a trabajar con distribuciones de datos, computar distintos estadísticos tales como la media y la desviación, entre otros, como así también visualizar la distribución a partir de histogramas. Vamos a explorar estos puntos a partir de generar números aleatorios en python con distintas distribuciones.\n",
        "\n",
        "Por otro lado, generar números aleatorios nos permite jugar un poco y hacer experimentos numéricos que nos permiten entender un poco más resultados teóricos como el teorema central de límite o la ley de grandes números, comparar la performance de distintos coeficientes de correlación y ver la robustez de los observables que cuantificamos ante la presencia de outliers (ver parte 2)."
      ]
    },
    {
      "cell_type": "code",
      "metadata": {
        "id": "TyqRO3IebhgL"
      },
      "source": [
        "# Importamos las librerías más usadas, en el camino vemos si necesitamos algo más\n",
        "import numpy as np \n",
        "import matplotlib.pyplot as plt \n",
        "from scipy import stats"
      ],
      "execution_count": null,
      "outputs": []
    },
    {
      "cell_type": "markdown",
      "metadata": {
        "id": "kjNzQTflgS4Y"
      },
      "source": [
        "#### Breve, brevísimo comentario sobre generar números aleatorios\n",
        "\n",
        "Antes de ver distribuciones, veamos algo muy sencillo potencialmente útil: generar un único número aleatorio. Decirlo así es una tanto vago, siempre hay que específicar de qué distribución viene dicho número.\n",
        "A lo largo de esta notebook vamos a ver ejemplos realizados tanto con *numpy* como en *scipy.stats*.\n",
        "\n",
        "Por ejemplo, muchas veces podríamos querer un número uniformemente distribuido entre 0 y 1 (mediante una transformación lineal podemos generarlo en otro intervalo):\n",
        "\n",
        "\n"
      ]
    },
    {
      "cell_type": "code",
      "metadata": {
        "colab": {
          "base_uri": "https://localhost:8080/"
        },
        "id": "h18nyeZvhP1q",
        "outputId": "fde83ad8-c4e2-4854-8ea0-d7f9b908d728"
      },
      "source": [
        "rand = np.random.random()\n",
        "print(rand)"
      ],
      "execution_count": null,
      "outputs": [
        {
          "output_type": "stream",
          "text": [
            "0.20511661627454325\n"
          ],
          "name": "stdout"
        }
      ]
    },
    {
      "cell_type": "markdown",
      "metadata": {
        "id": "ubpW46tahHBc"
      },
      "source": [
        "Otra cosa muy común es generar números con una distribución normal de media $\\mu$ y desviación $\\sigma$:"
      ]
    },
    {
      "cell_type": "code",
      "metadata": {
        "colab": {
          "base_uri": "https://localhost:8080/"
        },
        "id": "w38y0WTof8DN",
        "outputId": "0835e92c-0620-45db-fa35-cb3aa7932a5e"
      },
      "source": [
        "mu = 0.00\n",
        "sigma = 1.00\n",
        "\n",
        "randn = np.random.normal(loc = mu, scale = sigma)\n",
        "print(randn)"
      ],
      "execution_count": null,
      "outputs": [
        {
          "output_type": "stream",
          "text": [
            "0.5377009236190232\n"
          ],
          "name": "stdout"
        }
      ]
    },
    {
      "cell_type": "markdown",
      "metadata": {
        "id": "uTLGGLcuhWft"
      },
      "source": [
        "##### Semilla\n",
        "\n",
        "Los números aleatorios generados por una computadora no son en realidad tan aleatorios, sino que vienen de un algoritmo que vilmente nos hace creer que sí. Sea como sea, éste recibe una condición inicial llamada semilla y a partir de ella genera el resto de los números. Si fijamos la semilla antes de cada experimento numérico podemos reproducir exactamente la misma salida de números aleatorios. Para fijar en numpy se hace con:\n",
        "~~~\n",
        "np.random.seed(semilla)\n",
        "~~~\n",
        "donde semilla es un número cualquiera."
      ]
    },
    {
      "cell_type": "code",
      "metadata": {
        "colab": {
          "base_uri": "https://localhost:8080/"
        },
        "id": "RT0AVuJhiUpw",
        "outputId": "7db38ea5-cbd4-4467-ab70-97acbced5b2b"
      },
      "source": [
        "# Ver que si la línea de la semilla está descomentada el resultado es siempre el mismo.\n",
        "# Al revés, si no fijamos la semilla, cada vez que comencemos esta notebook los resultados serán distintos.\n",
        "\n",
        "np.random.seed(123457)\n",
        "print(np.random.random())\n",
        "print(np.random.normal())"
      ],
      "execution_count": null,
      "outputs": [
        {
          "output_type": "stream",
          "text": [
            "0.4347450610414807\n",
            "-0.003031385471098537\n"
          ],
          "name": "stdout"
        }
      ]
    },
    {
      "cell_type": "markdown",
      "metadata": {
        "id": "30C-ZBQ2Vq6z"
      },
      "source": [
        "Conclusión, fijando la semilla todos los resultados que vienen a continuación se reproducen en forma exacta. Fijar la semilla en numpy también lo hace para las rutinas de scipy."
      ]
    },
    {
      "cell_type": "markdown",
      "metadata": {
        "id": "pTRBrBO4kpvV"
      },
      "source": [
        "#### Librería [scipy.stats](https://docs.scipy.org/doc/scipy/reference/stats.html).\n",
        "\n",
        "Dentro de scipy tenemos el modulo *stats* que tiene muchas funciones para trabajar con distintas distribuciones, generar números aleatorios de estas y cuantificar diferentes observables. Lo bueno es que una vez que aprendemos a llamar a los distintos métodos de una distribución, la extensión a otras es inmediata."
      ]
    },
    {
      "cell_type": "markdown",
      "metadata": {
        "id": "ttuijuij6eOl"
      },
      "source": [
        "##### Distribuciones de variable aleatoria continua"
      ]
    },
    {
      "cell_type": "code",
      "metadata": {
        "colab": {
          "base_uri": "https://localhost:8080/"
        },
        "id": "BuBORwvklRZ9",
        "outputId": "d11f17c9-6315-4bce-a21a-0289a0ed95ed"
      },
      "source": [
        "# Cambiar la distribucion aquí y la sintaxis de lo que sigue es la misma\n",
        "\n",
        "distribucion = stats.norm(loc = 0.00, scale = 1.00) #  Distribución normal\n",
        "# distribucion = stats.expon(scale = 2.00) #  Distribución exponencial\n",
        "# distribucion = stats.uniform(scale = 3.00) #  Distribución uniforme\n",
        "\n",
        "# Generar 10 numeros aleatorios con la distribucion dada (.rvs random variates)\n",
        "muestra = distribucion.rvs(size = 10)\n",
        "print('Muestra: {}'.format(muestra))"
      ],
      "execution_count": null,
      "outputs": [
        {
          "output_type": "stream",
          "text": [
            "Muestra: [-0.23857045  0.41835763 -0.13822687  0.62242402 -0.71301825  0.58860431\n",
            " -2.27057648 -0.96074158  0.63435966 -0.35066731]\n"
          ],
          "name": "stdout"
        }
      ]
    },
    {
      "cell_type": "code",
      "metadata": {
        "colab": {
          "base_uri": "https://localhost:8080/",
          "height": 243
        },
        "id": "F5wDPwLop3L5",
        "outputId": "90db6291-798e-41c7-b95e-d19bc2bf6b8e"
      },
      "source": [
        "\"\"\"\n",
        "Gráficos de la función densidad y acumulada de probabilidad\n",
        "\"\"\"\n",
        "fig, ax = plt.subplots(nrows = 1, ncols = 2, figsize = (15,3))\n",
        "\n",
        "# Rango de la variable aleatoria, tomamos un cuantil del 99% \n",
        "cuantil_99 = distribucion.interval(0.99)\n",
        "print('Cuantil 99%: [{}, {}]'.format(*cuantil_99))\n",
        "\n",
        "# Rango de la variable x \n",
        "x = np.linspace(cuantil_99[0], cuantil_99[1], 100)\n",
        "\n",
        "# .pdf probability density function\n",
        "densidad_proba = distribucion.pdf(x)\n",
        "ax[0].plot(x, densidad_proba)\n",
        "ax[0].set_xlabel('x')\n",
        "ax[0].set_ylabel('Densidad de probabilidad')\n",
        "ax[0].set_ylim(bottom = 0)\n",
        "\n",
        "# .cdf cumulative density function\n",
        "proba_acumulada = distribucion.cdf(x)\n",
        "ax[1].plot(x, proba_acumulada)\n",
        "ax[1].set_xlabel('x')\n",
        "ax[1].set_ylabel('Probabilidad acumulada')\n",
        "ax[1].set_ylim([0, 1.05])\n",
        "\n",
        "plt.show()"
      ],
      "execution_count": null,
      "outputs": [
        {
          "output_type": "stream",
          "text": [
            "Cuantil 99%: [-2.5758293035489004, 2.5758293035489004]\n"
          ],
          "name": "stdout"
        },
        {
          "output_type": "display_data",
          "data": {
            "image/png": "[encoded data removed]",
            "text/plain": [
              "<Figure size 1080x216 with 2 Axes>"
            ]
          },
          "metadata": {
            "tags": [],
            "needs_background": "light"
          }
        }
      ]
    },
    {
      "cell_type": "markdown",
      "metadata": {
        "id": "-HZnOMXV-VRq"
      },
      "source": [
        "**Observación**: el método .interval(alpha) permite tomar un intervalo que contenga un %alpha de la masa de probabilidad. Si lo piensan, al menos para una variable continua, hay infinitos intervalos de este tipo. Scipy no lo aclara, pero lo más probable es que esté tomando el intervalo más angosto, es decir, el que se queda con un %alpha de la masa de probabilidad, pero que a la vez es el más denso.\n",
        "Para captar un cuantil específico, usar el método distribucion.ppf(q), donde q puede ser por ejemplo [0.05, 0.95] para captar el cuantil 90% central."
      ]
    },
    {
      "cell_type": "markdown",
      "metadata": {
        "id": "S5G_Yx7P6nQv"
      },
      "source": [
        "##### Distribuciones de variable aleatoria discreta"
      ]
    },
    {
      "cell_type": "code",
      "metadata": {
        "colab": {
          "base_uri": "https://localhost:8080/",
          "height": 261
        },
        "id": "8HfzT5ctoBmw",
        "outputId": "9294596a-231f-496f-a94b-fd3c7f08f006"
      },
      "source": [
        "# Cambiar la distribucion aquí y la sintaxis de lo que sigue es la misma\n",
        "\n",
        "#distribucion = stats.binom(n = 10, p = 0.25) # Distribucion binomial\n",
        "distribucion = stats.poisson(mu = 2.00) # Distribucion de Poisson\n",
        "\n",
        "# Muestra de 10 numeros aleatorios (.rvs random variates)\n",
        "muestra = distribucion.rvs(size = 10)\n",
        "print('Muestra: {}'.format(muestra))\n",
        "\n",
        "fig, ax = plt.subplots(nrows = 1, ncols = 2, figsize = (15,3))\n",
        "\n",
        "# Rango de la variable x\n",
        "cuantil_99 = distribucion.interval(0.99)\n",
        "print('Cuantil 99%: [{}, {}]'.format(*cuantil_99))\n",
        "\n",
        "x = range(int(cuantil_99[0]), int(cuantil_99[1]))\n",
        "\n",
        "# .pmf probability mass function\n",
        "masa_proba = distribucion.pmf(x)\n",
        "ax[0].plot(x, masa_proba, '.-', markersize = 20)\n",
        "ax[0].set_xlabel('x')\n",
        "ax[0].set_ylabel('Probabilidad')\n",
        "ax[0].set_ylim(bottom = 0.00)\n",
        "\n",
        "# .cdf cumulative density function\n",
        "proba_acumulada = distribucion.cdf(x)\n",
        "ax[1].plot(x, proba_acumulada, '.-', markersize = 20)\n",
        "ax[1].set_xlabel('x')\n",
        "ax[1].set_ylabel('Probabilidad acumulada')\n",
        "ax[1].set_ylim([0, 1.05])\n",
        "\n",
        "plt.show()"
      ],
      "execution_count": null,
      "outputs": [
        {
          "output_type": "stream",
          "text": [
            "Muestra: [1 1 3 0 3 4 1 1 2 2]\n",
            "Cuantil 99%: [0.0, 6.0]\n"
          ],
          "name": "stdout"
        },
        {
          "output_type": "display_data",
          "data": {
            "image/png": "[encoded data removed]",
            "text/plain": [
              "<Figure size 1080x216 with 2 Axes>"
            ]
          },
          "metadata": {
            "tags": [],
            "needs_background": "light"
          }
        }
      ]
    },
    {
      "cell_type": "markdown",
      "metadata": {
        "id": "e5kvSe8pf1HJ"
      },
      "source": [
        "## Generación de números aleatorios e histogramas \n",
        "\n",
        "Acá comienza oficialmente la práctica de estadística descriptiva.\n",
        "Lo que vamos a hacer a continuación es simular una situación con la que nos vamos a encontrar día a día: tenemos un conjunto de datos y queremos representar gráficamente cómo se distribuyen y reportar ciertas medidas que nos den información y caractericen dicha distribución.\n",
        "\n",
        "Por el momento vamos a trabajar con un conjunto de datos ficticios, tomados de un generador de números aleatorios de una distribución conocida."
      ]
    },
    {
      "cell_type": "code",
      "metadata": {
        "id": "5rccnUzWChIS",
        "colab": {
          "base_uri": "https://localhost:8080/"
        },
        "outputId": "ba3c9109-ed62-4eef-be7a-386b2418f841"
      },
      "source": [
        "# Generemos 1000 datos dados por una distribucion normal\n",
        "# Por los valores elegidos podría representar la altura de un conjunto de personas adultas.\n",
        "\n",
        "N = 1000\n",
        "muestra = stats.norm.rvs(loc = 1.75, scale = 0.15, size = N)\n",
        "print(muestra)"
      ],
      "execution_count": null,
      "outputs": [
        {
          "output_type": "stream",
          "text": [
            "[1.96600268 1.68751729 1.64814537 1.54668259 1.71261557 1.56612139\n",
            " 1.86111127 1.67142673 1.75675353 1.654013   1.79049045 1.54754424\n",
            " 1.83608369 1.95946482 1.9087031  1.82974268 1.92241431 1.69146224\n",
            " 1.70271807 1.59764768 1.64673314 1.68475006 1.82005267 1.67534251\n",
            " 1.57094675 1.79250497 1.85626146 1.57792177 1.68358922 1.49976419\n",
            " 1.70871589 1.96647469 2.06943637 1.77282511 1.81640858 1.69620146\n",
            " 1.85592781 1.78305948 1.64089772 1.82694036 2.07590708 1.73300245\n",
            " 1.59626955 1.85546184 1.72071971 1.70084158 1.79022783 1.81928214\n",
            " 1.72761357 1.97997945 1.82746796 1.73976214 2.09773658 1.56721566\n",
            " 1.80802799 1.93693059 1.91294214 1.85626159 1.69923163 1.77071176\n",
            " 1.51348718 1.75719382 1.86098241 1.86937938 1.91182139 1.43869917\n",
            " 1.49318206 1.84255079 1.85511892 1.78202775 1.73920743 1.78877235\n",
            " 1.84032204 1.62297739 1.75910849 1.78237871 1.96138254 1.7570265\n",
            " 2.04977096 1.93291974 1.85578927 1.55723899 1.79843375 1.98822052\n",
            " 1.73297431 1.6658051  1.78294161 2.0365601  1.83503036 1.84579091\n",
            " 1.8521662  1.59976715 1.93288864 1.70444866 1.99924191 1.75044747\n",
            " 1.58844152 1.67086358 1.60853187 1.76198221 1.87772847 1.9541703\n",
            " 1.6668119  1.7794643  1.75445904 1.5012165  1.54885568 1.78705357\n",
            " 1.74425312 1.84988144 1.82055574 1.821972   1.71404729 1.84775808\n",
            " 1.69947492 1.8354304  1.85188504 1.46356801 1.58666792 1.82562079\n",
            " 1.63360163 1.56328543 1.57456397 1.87242488 1.60622338 2.01795536\n",
            " 1.65146047 1.73749742 1.80729103 1.59606396 1.80991985 1.58693397\n",
            " 1.8401404  1.61946483 1.85785896 1.61214362 1.76860803 1.61407616\n",
            " 1.64348634 1.65526515 1.59025428 1.78565925 1.91734931 1.87080119\n",
            " 1.53621349 1.67980791 1.94398533 1.31000726 1.70954063 1.81297007\n",
            " 1.61221772 1.80036093 1.54998647 1.91379073 1.75359246 1.77888975\n",
            " 1.77093612 1.59321149 1.84972133 1.74119253 1.846673   1.88327212\n",
            " 1.75228075 1.67197159 1.87469231 1.79683618 1.65797513 1.612404\n",
            " 1.81118572 2.00984988 1.86811535 1.83585192 1.71569347 1.93846616\n",
            " 1.98573849 1.64705076 1.67188979 1.83907704 1.48328098 1.7378308\n",
            " 1.72706165 1.97140948 1.70240862 1.91256511 1.75312777 1.70607269\n",
            " 1.91116238 1.77312166 1.80570595 1.74104592 1.78130951 1.80417245\n",
            " 1.82326726 1.8142016  1.92803244 1.74745521 1.99494682 1.88223302\n",
            " 1.90753199 1.65678861 1.90267265 1.93719887 1.87234377 1.88326613\n",
            " 1.6693094  1.7019713  1.61564273 1.6793205  1.61016623 1.56726035\n",
            " 1.8715654  1.64393221 1.81504003 1.8421811  1.63460685 2.02452534\n",
            " 1.79829193 1.80061067 1.89570316 1.71822703 1.86384924 1.7610843\n",
            " 1.85778814 2.07159817 1.729192   1.56281123 1.59731094 1.8178739\n",
            " 1.68579536 1.53782095 1.74788743 1.79650708 1.81324602 1.60000408\n",
            " 2.04538082 1.58193114 1.80512076 1.64243569 1.87739526 1.79312933\n",
            " 1.6904552  1.63170699 1.89807936 1.9448002  1.92679009 1.56956185\n",
            " 1.63304181 1.65153496 1.75710127 1.60743951 1.89892226 1.75579648\n",
            " 1.84825903 1.48133788 1.70797284 1.67888867 1.93725666 1.61364895\n",
            " 1.68477286 1.7680646  1.72922337 1.85405942 1.66622715 1.83068587\n",
            " 1.75408781 1.81597128 1.85349227 1.58732656 1.97953157 1.72507715\n",
            " 1.56519522 1.63403083 1.65884269 1.7754791  1.65425343 1.58734349\n",
            " 1.74313133 1.53047918 1.6498937  1.66963962 1.80750588 1.57773146\n",
            " 1.87035409 1.78024444 1.77931518 1.54854884 1.7471666  1.78250596\n",
            " 1.85252436 1.87320633 1.8573979  1.58378754 1.74179443 1.55724337\n",
            " 1.88782857 1.74358929 1.8045244  1.78774223 1.74052644 1.68047199\n",
            " 1.74385543 1.7626844  2.04550971 1.96771822 1.8226341  1.67668652\n",
            " 2.03221778 1.52708099 1.69070378 1.65297266 1.93134654 1.63467423\n",
            " 1.65051202 1.76736466 1.98721023 1.98811785 2.02570109 1.69211775\n",
            " 1.66833645 1.69117992 1.64397447 1.72499075 1.56985274 1.57438893\n",
            " 1.82483608 1.87431807 1.78354443 1.83900708 1.83747229 1.75286688\n",
            " 1.81316707 1.90102117 1.77562696 1.62933734 1.60460733 1.90505\n",
            " 1.77921818 1.72959788 1.76043561 1.72440223 1.67866428 1.73002965\n",
            " 1.54163852 1.81947121 1.91013813 1.62487166 1.58166964 1.64519189\n",
            " 1.61435486 1.53322616 1.88164889 1.53736968 1.99321277 1.89174266\n",
            " 1.79002065 2.10893146 1.90786875 1.707786   1.76865098 1.50270498\n",
            " 1.6895992  1.57061629 1.52716212 1.5687213  1.8172708  1.82282237\n",
            " 1.82747451 1.8048216  1.72817687 1.60416603 1.91883166 1.85548046\n",
            " 1.97492683 1.59746795 1.67383082 1.72442322 1.96906652 1.76115144\n",
            " 1.76235947 1.92141009 1.60930335 1.85746926 1.81868929 1.61462727\n",
            " 1.88077991 1.67225553 1.78604345 1.72229539 1.92438552 2.11204957\n",
            " 1.71632751 1.6219749  1.57518907 1.8719047  1.61592518 1.77391854\n",
            " 1.84397843 1.76498338 1.70935269 1.75275511 1.74861825 1.47705779\n",
            " 1.80444927 1.75404281 1.82068933 1.5753448  2.04797028 2.05147075\n",
            " 1.87186459 2.05177208 1.34729876 2.13757324 1.74403439 1.68292716\n",
            " 1.78545261 1.69500009 1.97243481 2.10244627 1.75980556 1.61439616\n",
            " 1.95178604 1.75621224 2.0766222  1.65411492 1.75495195 1.5949334\n",
            " 1.81729119 1.80308378 1.56793001 1.98324512 1.89595361 1.66570507\n",
            " 1.66323837 1.76419181 1.8028094  1.62456601 1.78943065 1.66231437\n",
            " 1.65222823 1.70451878 2.08745925 1.78359984 1.70407346 1.86017255\n",
            " 1.77605451 1.52340175 1.68593428 1.7284101  1.73560946 1.852855\n",
            " 1.59480528 1.9452108  1.82440659 1.77548382 1.73075752 1.65138174\n",
            " 1.71644969 1.51234786 1.87837979 1.8127918  1.83220037 1.66256707\n",
            " 1.79393603 1.65121739 1.55766128 1.82939486 2.05149019 1.65023358\n",
            " 1.50591377 1.75752641 1.72435792 1.5487597  1.82732369 1.74581864\n",
            " 2.14210679 1.84559696 1.52206463 1.86620335 1.79678423 1.64877382\n",
            " 1.68263531 1.70502149 1.54886074 1.63923487 1.61224551 1.6745001\n",
            " 1.78975022 2.00316896 1.23041026 1.83948178 1.96841677 1.75893678\n",
            " 1.84559847 1.34935459 1.46757724 1.6126415  1.82436046 1.65785697\n",
            " 1.93218318 1.94405455 1.70903387 1.69785462 1.82845663 1.66791571\n",
            " 1.88877763 1.87255644 1.84186769 1.63612362 1.97222879 1.75359937\n",
            " 1.54461383 1.85741467 1.45836396 1.7586922  1.93662633 1.60198643\n",
            " 1.65245398 1.77067595 1.89719758 1.77921154 2.01670358 1.66936953\n",
            " 1.75978039 1.80331824 1.76258703 1.48996064 1.55988171 1.95607959\n",
            " 1.83371522 1.80205804 1.51618242 1.73307166 1.71758123 1.81489882\n",
            " 1.83068728 1.64987065 1.64392091 1.84514953 1.95871676 1.76368082\n",
            " 2.02714087 1.46449638 1.7435211  2.03965386 1.75098956 1.60458883\n",
            " 1.76226986 1.65486267 1.72673645 1.84997479 1.29265838 1.70020193\n",
            " 1.71964353 1.59843642 1.71698923 1.87719822 2.02791454 1.68252179\n",
            " 1.6492192  1.84291339 1.91756487 1.5721966  1.88816613 1.83704306\n",
            " 1.8239255  1.88854077 1.77716655 1.78356329 1.59117418 1.71485835\n",
            " 1.56751388 1.92385825 1.44681618 1.63735556 1.76977377 1.95662986\n",
            " 1.56463876 1.78442863 1.6685088  1.50798728 1.85731588 1.87979443\n",
            " 1.37394244 1.51158718 1.55283729 1.62242393 1.64723748 1.65071292\n",
            " 1.3684388  1.62052606 1.83966969 1.73354972 1.75167711 1.60370113\n",
            " 1.59758308 1.51962215 1.91205031 1.71690303 1.69142292 1.90974384\n",
            " 1.64061055 1.87607569 1.95051499 1.59657502 1.44071236 1.65189999\n",
            " 1.88783333 1.34286414 1.70917275 1.7679822  1.71966778 1.53152429\n",
            " 2.11995201 1.79241777 1.81693421 1.49868856 1.52810593 1.49006979\n",
            " 1.76029246 1.5866279  1.74742341 1.68616636 1.47207747 1.83305694\n",
            " 1.89933495 1.76151187 1.23355098 1.66911095 1.80596529 1.78353381\n",
            " 1.77193533 1.64888101 1.62465452 1.7211792  1.98192257 1.79078556\n",
            " 1.84389351 1.72483545 1.58742939 1.7895996  1.85510292 1.77677342\n",
            " 1.70493174 1.65105732 1.58243656 1.52630972 1.68100115 1.71996878\n",
            " 1.7282342  1.62204793 1.62247294 1.68587707 1.50718896 1.84415592\n",
            " 1.57623588 1.85404986 1.89191066 1.86387914 1.84829554 1.78956093\n",
            " 1.74158362 1.89836249 1.79943581 1.9463208  2.26082514 1.89697331\n",
            " 1.57267052 1.76082207 1.94742158 1.63889754 1.66347321 1.59998626\n",
            " 1.75744315 1.67982218 1.69239988 1.70656633 1.59082971 1.62635436\n",
            " 1.55990106 1.87639009 1.54254861 1.68592627 1.83799668 1.830961\n",
            " 1.92061555 1.48743385 1.77758606 1.51949198 1.36224524 1.72657844\n",
            " 1.86520906 1.81912655 1.77466516 1.90189328 1.96442055 1.65398407\n",
            " 1.78003881 1.84188341 1.78792099 1.83239007 1.64883293 1.78272882\n",
            " 1.94292191 1.85767585 1.88027412 1.80760449 1.73220175 1.74644025\n",
            " 1.5397453  1.71898985 1.70632233 1.65521092 2.0068131  1.47978158\n",
            " 1.7464807  1.75627878 1.79274636 1.85263747 1.60326315 1.70502289\n",
            " 1.81850101 1.53656429 1.69680548 1.4909076  1.77016329 1.60969282\n",
            " 1.83812206 1.75254969 1.82406353 1.68726633 1.82575645 1.81291319\n",
            " 1.51309627 1.56392664 2.04605666 1.93000231 1.93704223 1.47482034\n",
            " 1.69123722 2.01288515 1.73192849 1.8222571  1.98214006 1.70762187\n",
            " 1.53666771 1.84159657 1.92064942 2.09597694 1.72420633 1.78869258\n",
            " 1.92179498 1.99483481 1.77829033 1.85765735 1.81252488 1.72877266\n",
            " 1.94818832 1.91991651 1.7150226  1.69500844 1.52816545 1.86378618\n",
            " 1.81473177 1.77591583 1.72640857 1.90604209 1.61349005 1.50889685\n",
            " 1.71713255 1.8262819  1.90508321 1.55748079 1.83878684 1.73637967\n",
            " 1.63411656 1.84409925 1.67108609 1.49697055 1.60927369 1.82617258\n",
            " 1.81793088 1.87125623 1.93032562 1.49405246 2.0414656  1.80111943\n",
            " 1.81700774 1.8143152  1.65448666 1.84249451 1.63906828 1.83006822\n",
            " 1.79750851 1.7969264  1.8476185  1.75757551 1.59611268 1.92362068\n",
            " 1.68656114 1.67215553 1.98223117 1.54639535 1.94429055 1.55467075\n",
            " 1.81901949 1.77626675 1.82808214 1.63536789 1.734574   1.80997786\n",
            " 1.70675665 1.77341731 1.82574393 1.70583466 1.45674904 1.71286793\n",
            " 1.95716789 1.68768552 1.87406487 1.44116302 1.49441499 1.64638646\n",
            " 1.56878666 1.5905512  1.84623875 1.78143767 1.88246807 1.99233486\n",
            " 1.63460873 1.42644831 1.80144105 1.84836189 1.81721087 1.90179078\n",
            " 1.69577812 1.79364222 1.87648787 1.67545199 1.70462157 1.55239787\n",
            " 1.71477086 1.58585295 1.7249637  1.70362086 1.90418238 1.54630532\n",
            " 1.9056884  1.62066138 1.74844249 1.95324664 1.90757119 1.86132499\n",
            " 1.71934238 1.90448615 1.81574752 1.64560853 1.5180923  1.64951172\n",
            " 1.65267119 1.69443281 1.83949306 1.62233003 1.6505586  1.72161948\n",
            " 2.04133663 1.55459772 2.0376556  1.64001497 1.72394347 1.50834754\n",
            " 1.65643254 1.79497693 1.68140343 1.78470422 1.91231012 1.71893701\n",
            " 1.81508777 1.53429246 2.0077864  1.78809896 1.7292176  1.67257161\n",
            " 1.59356617 1.92107925 1.65976745 1.57753401 2.07522043 1.80518258\n",
            " 1.7474475  1.56457195 1.77363966 1.99962854 1.67279361 1.67584857\n",
            " 1.54926218 1.87876577 1.54446315 1.96785254 1.67326065 1.83943937\n",
            " 1.60787795 1.87541847 1.68356867 1.73909993 1.8784794  1.80250131\n",
            " 2.01049264 1.85423496 1.85975708 1.98255494 1.82046375 1.57614906\n",
            " 1.613815   1.55704095 1.91359689 1.41662752 1.67132745 1.41651147\n",
            " 1.79825403 1.60592222 1.7588918  1.7293903  1.83527611 2.02278873\n",
            " 1.74138316 1.72051822 1.58100648 1.76084563 1.64017602 1.936193\n",
            " 1.51478056 1.87571828 1.70682929 1.9457225  1.83745348 1.85444944\n",
            " 1.89563089 1.58044961 1.99949783 1.79942747 1.72139145 1.85341399\n",
            " 1.5424099  1.9295045  1.83014039 1.72182229 1.70779397 1.74891391\n",
            " 1.92523513 1.55999402 1.68757322 1.83689612 1.77142686 1.63402833\n",
            " 1.91164061 1.78820606 1.82470267 1.88445095 1.83221498 1.67543013\n",
            " 1.43263915 1.77240762 1.95341668 1.55142908 1.57483921 1.63208424\n",
            " 1.80447966 1.70768049 1.61751371 1.62331182 1.86711629 1.70257983\n",
            " 1.77384211 2.05323747 1.58965638 1.78937357 1.79610544 1.72211249\n",
            " 1.54409514 1.95274908 1.95200869 1.62223417 1.77607093 1.69755405\n",
            " 2.05142822 1.49811825 1.57657767 1.89573211 1.73330381 1.68272549\n",
            " 1.75465096 1.72904565 1.72452937 2.04104701 1.9429156  1.65781946\n",
            " 1.95811085 1.56567208 1.53091768 2.18837007]\n"
          ],
          "name": "stdout"
        }
      ]
    },
    {
      "cell_type": "markdown",
      "metadata": {
        "id": "PiBtzyz1C2uh"
      },
      "source": [
        "¿Cómo comenzamos a caracterizar la distribución de datos? Representandolos gráficamente mediante un histograma. Un histograma básico simplemente cuenta la cantidad de veces que la variable aleatoria cae dentro del intervalo definido por cada *bin*:"
      ]
    },
    {
      "cell_type": "code",
      "metadata": {
        "id": "lI-f3Z34boFD",
        "colab": {
          "base_uri": "https://localhost:8080/",
          "height": 265
        },
        "outputId": "76c82fc8-3411-493c-fef1-ec93eac843fc"
      },
      "source": [
        "# Los parámetros que seteo en principio son:\n",
        "# - Número de bins\n",
        "# - Rango de los datos que voy a representar (sin especificar nada, toma el mínimo y el máximo)\n",
        "# - rwidth es solo para visualizar, en vez de dibujar toda la barra, la angosta un poquito\n",
        "plt.hist(muestra, bins = 20, range = [1.00, 2.50], rwidth = 0.80)\n",
        "plt.ylabel('Frecuencia')\n",
        "plt.show()"
      ],
      "execution_count": null,
      "outputs": [
        {
          "output_type": "display_data",
          "data": {
            "image/png": "[encoded data removed]",
            "text/plain": [
              "<Figure size 432x288 with 1 Axes>"
            ]
          },
          "metadata": {
            "tags": [],
            "needs_background": "light"
          }
        }
      ]
    },
    {
      "cell_type": "markdown",
      "metadata": {
        "id": "m4n4eN9QDmGK"
      },
      "source": [
        "Ya un histograma nos dá una buena idea de cómo se distribuyen los datos. Sin embargo, la visualización puede ser engañosa, por lo que está bueno ver cómo se modifica la distribución al variar el número de bins."
      ]
    },
    {
      "cell_type": "code",
      "metadata": {
        "colab": {
          "base_uri": "https://localhost:8080/",
          "height": 227
        },
        "id": "HEFHT44VVfVr",
        "outputId": "8b8a3840-214f-4f34-9d92-a909f4ca27fe"
      },
      "source": [
        "fig, ax = plt.subplots(nrows = 1, ncols = 4, figsize = (15, 3))\n",
        "fig_index = 0\n",
        "\n",
        "# Barro en número de bins\n",
        "for nbins in [5, 10, 20, 100]:\n",
        "\n",
        "  ax[fig_index].hist(muestra, bins = nbins, range = [1.00, 2.50], rwidth = 0.80)\n",
        "  ax[fig_index].set_title('{} bins'.format(nbins))\n",
        "  fig_index += 1\n",
        "\n",
        "ax[0].set_ylabel('Frecuencia')\n",
        "plt.show()"
      ],
      "execution_count": null,
      "outputs": [
        {
          "output_type": "display_data",
          "data": {
            "image/png": "[encoded data removed]",
            "text/plain": [
              "<Figure size 1080x216 with 4 Axes>"
            ]
          },
          "metadata": {
            "tags": [],
            "needs_background": "light"
          }
        }
      ]
    },
    {
      "cell_type": "markdown",
      "metadata": {
        "id": "sUdv6vzMVNlR"
      },
      "source": [
        "#### Normalización y comparación con distribución teórica\n",
        "\n",
        "Muchas veces vamos a querer comparar la distribución de nuestros datos con alguna distribución teórica (si tiene parámetros, quizás inferidos de la misma muestra, pero eso ya se va de tema). Como toda distribución está normalizada, para comparar con un histograma este mismo también tiene que estarlo. Esto significa que el área que cubren los bins es igual a 1."
      ]
    },
    {
      "cell_type": "code",
      "metadata": {
        "colab": {
          "base_uri": "https://localhost:8080/",
          "height": 265
        },
        "id": "Mc_uf9dWWnIG",
        "outputId": "51c889ed-eed9-4c46-f5e6-2cd50af56bb2"
      },
      "source": [
        "# Density = True -> histograma normalizado\n",
        "plt.hist(muestra, bins = 20, range = [1.00, 2.50], rwidth = 0.80, density = True)\n",
        "\n",
        "# Lo comparamos con la distribución teórica (esto es trampa, es muy probable que nunca la sepamos)\n",
        "x = np.arange(1.00, 2.50, 0.01)\n",
        "plt.plot(x, stats.norm.pdf(x, loc = 1.75, scale = 0.15), label = 'Teórica')\n",
        "\n",
        "plt.ylabel('Densidad de probabilidad')\n",
        "plt.legend(loc = 'best')\n",
        "plt.show()"
      ],
      "execution_count": null,
      "outputs": [
        {
          "output_type": "display_data",
          "data": {
            "image/png": "[encoded data removed]",
            "text/plain": [
              "<Figure size 432x288 with 1 Axes>"
            ]
          },
          "metadata": {
            "tags": [],
            "needs_background": "light"
          }
        }
      ]
    },
    {
      "cell_type": "markdown",
      "metadata": {
        "id": "4MxC43s8GAwA"
      },
      "source": [
        "Por otro lado, podemos estudiar la distribución acumulada:"
      ]
    },
    {
      "cell_type": "code",
      "metadata": {
        "colab": {
          "base_uri": "https://localhost:8080/",
          "height": 265
        },
        "id": "blWzLqboXndc",
        "outputId": "08a839c4-0013-403f-b5bb-5756b8645454"
      },
      "source": [
        "# Cumulative = True -> acumulada\n",
        "plt.hist(muestra, bins = 20, range = [1.00, 2.50], rwidth = 0.80, density = True, cumulative = True)\n",
        "\n",
        "x = np.arange(1.00, 2.50, 0.01)\n",
        "plt.plot(x, stats.norm.cdf(x, loc = 1.75, scale = 0.15), label = 'Teórica')\n",
        "\n",
        "plt.ylabel('Probablidad acumulada')\n",
        "plt.legend(loc = 'best')\n",
        "plt.show()"
      ],
      "execution_count": null,
      "outputs": [
        {
          "output_type": "display_data",
          "data": {
            "image/png": "[encoded data removed]",
            "text/plain": [
              "<Figure size 432x288 with 1 Axes>"
            ]
          },
          "metadata": {
            "tags": [],
            "needs_background": "light"
          }
        }
      ]
    },
    {
      "cell_type": "markdown",
      "metadata": {
        "id": "XBQSJIPijcQ5"
      },
      "source": [
        "#### Observables estadísticos\n",
        "\n",
        "Además de la visualización, otra forma de cuantificar la distribución es mediante el cálculo de ciertos observables tales como: \n",
        "\n",
        "- Media $ \\bar X = \\frac{1}{N} \\sum_i^N X_i $\n",
        "\n",
        "- Varianza $S^2 = \\frac{1}{N-1} \\sum_i^N (X_i - \\bar X)^2$\n",
        "\n",
        "- Desviación $S = \\sqrt{S^2}$\n",
        "\n",
        "- Mediana $m$ / $P(X \\leq m) = 0.5$\n",
        "\n",
        "- $\\alpha$-cuantil: $c$ / $P(X \\leq c) = \\alpha$"
      ]
    },
    {
      "cell_type": "code",
      "metadata": {
        "colab": {
          "base_uri": "https://localhost:8080/"
        },
        "id": "odmVoNusYynt",
        "outputId": "ced4482c-4b38-4b8a-b713-545eac2a4bbb"
      },
      "source": [
        "# Cálculo de los observables con numpy\n",
        "\n",
        "media = np.mean(muestra)\n",
        "varianza = np.var(muestra)\n",
        "desviacion = np.std(muestra)\n",
        "\n",
        "mediana = np.median(muestra)\n",
        "cuartiles = np.quantile(muestra, [0.25, 0.50, 0.75])\n",
        "\n",
        "print('Media = {:.3f}'.format(media))\n",
        "print('Desviacion = {:.3f}'.format(desviacion))\n",
        "print('Varianza = {:.3f}'.format(varianza))\n",
        "\n",
        "print('Mediana = {:.3f}'.format(mediana))\n",
        "print('Cuartiles 25%, 50%, 75% = {:.3f}, {:.3f}, {:.3f}'.format(*cuartiles))"
      ],
      "execution_count": null,
      "outputs": [
        {
          "output_type": "stream",
          "text": [
            "Media = 1.751\n",
            "Desviacion = 0.149\n",
            "Varianza = 0.022\n",
            "Mediana = 1.756\n",
            "Cuartiles 25%, 50%, 75% = 1.649, 1.756, 1.848\n"
          ],
          "name": "stdout"
        }
      ]
    },
    {
      "cell_type": "markdown",
      "metadata": {
        "id": "omCUWIt8KVF-"
      },
      "source": [
        "Los cuantiles dividen nuestros datos en la cantidad que le especifiquemos. Por ejemplo, la mediana es el punto donde la mitad de los datos son mayores (o menores) o iguales a esta.\n",
        "Si los cuantiles se refieren al 25%, 50% y 75%, se denominan cuartiles. El cuantil del 50% es exactamente igual a la mediana."
      ]
    },
    {
      "cell_type": "code",
      "metadata": {
        "colab": {
          "base_uri": "https://localhost:8080/",
          "height": 265
        },
        "id": "xdAxZRTglNMX",
        "outputId": "961fdcbf-e7b5-45fa-bfd1-46cd70c42f99"
      },
      "source": [
        "### Visualizacion de los cuantiles\n",
        "plt.hist(muestra, bins = 50, range = [1.2, 2.4], density = True, cumulative = True, rwidth = 0.80)\n",
        "\n",
        "# Cambiar aqui lo cuantiles que se quieran visualizar\n",
        "for c in [0.20, 0.80]:\n",
        "\n",
        "  plt.hlines(y = c, xmin = 1.2, xmax = np.quantile(muestra, c), linestyle = '--', color = 'r', alpha = 0.65, linewidth = 3)\n",
        "  plt.vlines(x = np.quantile(muestra, c), ymin = 0.00, ymax = c, linestyles= '--', color = 'r', alpha = 0.65, linewidth = 3)\n",
        "\n",
        "plt.ylabel('Probabilidad acumulada')\n",
        "plt.ylim([0.00, 1.05])\n",
        "plt.xlim([1.2, 2.4])\n",
        "plt.show()"
      ],
      "execution_count": null,
      "outputs": [
        {
          "output_type": "display_data",
          "data": {
            "image/png": "[encoded data removed]",
            "text/plain": [
              "<Figure size 432x288 with 1 Axes>"
            ]
          },
          "metadata": {
            "tags": [],
            "needs_background": "light"
          }
        }
      ]
    },
    {
      "cell_type": "markdown",
      "metadata": {
        "id": "p69UhS1dY0Wo"
      },
      "source": [
        "#### Otras distribuciones de variables aleatorias continuas\n",
        "\n",
        "Veamos un poco datos generados con otras distribuciones, representemos en histogramas y calculemos los distintos observables."
      ]
    },
    {
      "cell_type": "code",
      "metadata": {
        "colab": {
          "base_uri": "https://localhost:8080/",
          "height": 283
        },
        "id": "fA66byUgfnxY",
        "outputId": "c82d5b7e-80d2-4559-f79c-90ca2767a0b2"
      },
      "source": [
        "# Distribucion uniforme entre 0 y 1\n",
        "distribucion = stats.uniform()\n",
        "\n",
        "# Muestra de numeros aleatorios\n",
        "N = 1000\n",
        "muestra = distribucion.rvs(size = N)\n",
        "\n",
        "# Rango de la variable x \n",
        "x = np.arange(0.00, 1.01, 0.01)\n",
        "\n",
        "fig, ax = plt.subplots(nrows=1, ncols = 2, figsize = (15, 3))\n",
        "\n",
        "# Histograma de los datos  \n",
        "ax[0].hist(muestra, bins = 20, range = [0, 1], rwidth = 0.8, density = True)\n",
        "\n",
        "# Densidad de probabilidad teórica\n",
        "ax[0].plot(x, distribucion.pdf(x))\n",
        "ax[0].set_ylabel('Densidad de probabilidad')\n",
        "\n",
        "# Histograma acumulado de los datos  \n",
        "ax[1].hist(muestra, bins = 20, range = [0, 1], rwidth = 0.8, cumulative = True, density = True)\n",
        "\n",
        "# Probabilidad acumulada teórica\n",
        "ax[1].plot(x, distribucion.cdf(x))\n",
        "ax[1].set_ylabel('Probabilidad acumulada')\n",
        "  \n",
        "plt.show()\n",
        "\n",
        "print('Media = {:.3f}'.format(np.mean(muestra)))\n",
        "print('Desviacion = {:.3f}'.format(np.std(muestra)))\n",
        "print('Mediana = {:.3f}'.format(np.median(muestra)))\n",
        "print('90% central = [{:.3f} - {:.3f}]'.format(*np.quantile(muestra, [0.05, 0.95])))"
      ],
      "execution_count": null,
      "outputs": [
        {
          "output_type": "display_data",
          "data": {
            "image/png": "[encoded data removed]",
            "text/plain": [
              "<Figure size 1080x216 with 2 Axes>"
            ]
          },
          "metadata": {
            "tags": [],
            "needs_background": "light"
          }
        },
        {
          "output_type": "stream",
          "text": [
            "Media = 0.501\n",
            "Desviacion = 0.281\n",
            "Mediana = 0.509\n",
            "90% central = [0.068 - 0.950]\n"
          ],
          "name": "stdout"
        }
      ]
    },
    {
      "cell_type": "code",
      "metadata": {
        "colab": {
          "base_uri": "https://localhost:8080/",
          "height": 283
        },
        "id": "yZBtE3teY3v3",
        "outputId": "c42225da-6f39-46a7-c8e4-979af36d94e8"
      },
      "source": [
        "# Distribucion exponencial\n",
        "distribucion = stats.expon()\n",
        "\n",
        "# Muestra de numeros aleatorios\n",
        "N = 1000\n",
        "muestra = distribucion.rvs(size = N)\n",
        "\n",
        "# Rango de la variable x \n",
        "x = np.arange(0.00, 8.01, 0.01)\n",
        "\n",
        "fig, ax = plt.subplots(nrows=1, ncols = 2, figsize = (15, 3))\n",
        "\n",
        "# Histograma de los datos  \n",
        "ax[0].hist(muestra, bins = 20, range = [0, 8], rwidth = 0.8, density = True)\n",
        "\n",
        "# Densidad de probabilidad teórica\n",
        "ax[0].plot(x, distribucion.pdf(x))\n",
        "ax[0].set_ylabel('Densidad de probabilidad')\n",
        "\n",
        "# Histograma acumulado de los datos  \n",
        "ax[1].hist(muestra, bins = 20, range = [0, 8], rwidth = 0.8, cumulative = True, density = True)\n",
        "\n",
        "# Probabilidad acumulada teórica\n",
        "ax[1].plot(x, distribucion.cdf(x))\n",
        "ax[1].set_ylabel('Probabilidad acumulada')\n",
        "  \n",
        "plt.show()\n",
        "\n",
        "print('Media = {:.3f}'.format(np.mean(muestra)))\n",
        "print('Desviacion = {:.3f}'.format(np.std(muestra)))\n",
        "print('Mediana = {:.3f}'.format(np.median(muestra)))\n",
        "print('90% central = [{:.3f} - {:.3f}]'.format(*np.quantile(muestra, [0.05, 0.95])))"
      ],
      "execution_count": null,
      "outputs": [
        {
          "output_type": "display_data",
          "data": {
            "image/png": "[encoded data removed]",
            "text/plain": [
              "<Figure size 1080x216 with 2 Axes>"
            ]
          },
          "metadata": {
            "tags": [],
            "needs_background": "light"
          }
        },
        {
          "output_type": "stream",
          "text": [
            "Media = 1.001\n",
            "Desviacion = 0.988\n",
            "Mediana = 0.713\n",
            "90% central = [0.050 - 3.036]\n"
          ],
          "name": "stdout"
        }
      ]
    },
    {
      "cell_type": "markdown",
      "metadata": {
        "id": "PwhdqGTbdsct"
      },
      "source": [
        "#### Variables discretas \n",
        "\n",
        "Tener presente la [documentación](https://docs.scipy.org/doc/scipy/reference/stats.html#discrete-distributions) de scipy para variables discretas para ver algunos cambios sútiles respecto de las de variables continuas (por ejemplo, el cambio del método .pdf() por .pmf()).\n",
        "\n"
      ]
    },
    {
      "cell_type": "code",
      "metadata": {
        "colab": {
          "base_uri": "https://localhost:8080/",
          "height": 302
        },
        "id": "i8jis8HUdrym",
        "outputId": "08fdbc91-4593-4674-9a92-fd762cbacf45"
      },
      "source": [
        "# Distribucion binomial\n",
        "distribucion = stats.binom(n = 10, p = 0.25)\n",
        "\n",
        "# Muestra de numeros aleatorios\n",
        "N = 1000\n",
        "muestra = distribucion.rvs(size = N)\n",
        "\n",
        "# Rango de la variable x \n",
        "x = range(0, 11)\n",
        "\n",
        "fig, ax = plt.subplots(nrows=1, ncols = 2, figsize = (15, 3))\n",
        "\n",
        "# Histograma de los datos  \n",
        "ax[0].hist(muestra, bins = 11, range = [0, 11], rwidth = 0.8, density = True)\n",
        "\n",
        "# Masa de probabilidad teórica (notar el cambio aquí respecto de las distribuciones continuas)\n",
        "ax[0].plot(x, distribucion.pmf(x), '.-', markersize = 15)\n",
        "\n",
        "# Histograma acumulado de los datos  \n",
        "ax[1].hist(muestra, bins = 11, range = [0, 11], rwidth = 0.8, cumulative = True, density = True)\n",
        "\n",
        "# Probabilidad acumulada teórica\n",
        "ax[1].plot(x, distribucion.cdf(x), '.-', markersize = 15)\n",
        "  \n",
        "plt.show()\n",
        "\n",
        "print('Media = {:.3f}'.format(np.mean(muestra)))\n",
        "print('Desviacion = {:.3f}'.format(np.std(muestra)))\n",
        "print('Mediana = {:.3f}'.format(np.median(muestra)))\n",
        "print('90% central = [{:.3f} - {:.3f}]'.format(*np.quantile(muestra, [0.05, 0.95])))\n",
        "\n",
        "# Para variables discretas podemos calcular la moda\n",
        "print('Moda: {} - freq: {}'.format(stats.mode(muestra)[0][0], stats.mode(muestra)[1][0]))"
      ],
      "execution_count": null,
      "outputs": [
        {
          "output_type": "display_data",
          "data": {
            "image/png": "[encoded data removed]",
            "text/plain": [
              "<Figure size 1080x216 with 2 Axes>"
            ]
          },
          "metadata": {
            "tags": [],
            "needs_background": "light"
          }
        },
        {
          "output_type": "stream",
          "text": [
            "Media = 2.469\n",
            "Desviacion = 1.364\n",
            "Mediana = 2.000\n",
            "90% central = [0.000 - 5.000]\n",
            "Moda: 2 - freq: 291\n"
          ],
          "name": "stdout"
        }
      ]
    },
    {
      "cell_type": "markdown",
      "metadata": {
        "id": "WJHFfU_KfBh5"
      },
      "source": [
        "Como otro ejemplo de distribución discreta se puede estudiar la distribución de Poisson."
      ]
    },
    {
      "cell_type": "markdown",
      "metadata": {
        "id": "Vn6jmvhUbE5n"
      },
      "source": [
        "#### Atajos en Numpy y Pandas para estadística descriptiva\n",
        "\n",
        "Si nuestros datos están en un array de numpy o bien un dataframe en pandas, estos objetos tienen métodos para calcular rápidamente ciertos observables."
      ]
    },
    {
      "cell_type": "code",
      "metadata": {
        "colab": {
          "base_uri": "https://localhost:8080/"
        },
        "id": "dHfHUmZuHSnY",
        "outputId": "e333958f-2518-4366-f69d-f41952390bd7"
      },
      "source": [
        "# Array de numpy \n",
        "A = np.array([[1, 2, 3, 3], [3, 1, 3, 9], [0, 0, 1, 2]])\n",
        "\n",
        "# Observables por fila o columnas\n",
        "print('Media: {}'.format(A.mean(axis = 0)))\n",
        "print('Desviacion: {}'.format(A.std(axis = 0)))"
      ],
      "execution_count": null,
      "outputs": [
        {
          "output_type": "stream",
          "text": [
            "Media: [1.33333333 1.         2.33333333 4.66666667]\n",
            "Desviacion: [1.24721913 0.81649658 0.94280904 3.09120617]\n"
          ],
          "name": "stdout"
        }
      ]
    },
    {
      "cell_type": "code",
      "metadata": {
        "colab": {
          "base_uri": "https://localhost:8080/"
        },
        "id": "T9p-kpROpvpa",
        "outputId": "d313cef1-bf5b-42be-908b-6ef93e93de11"
      },
      "source": [
        "# Histrogramas\n",
        "\n",
        "data = np.random.normal(loc = 0.00, scale = 1.00, size = 1000)\n",
        "freq, bin_limits = np.histogram(data, bins = 10)\n",
        "\n",
        "print('Frecuencia por bin: {}'.format(freq))\n",
        "print('Límite de los bins: {}'.format(bin_limits))"
      ],
      "execution_count": null,
      "outputs": [
        {
          "output_type": "stream",
          "text": [
            "Frecuencia por bin: [  2  25  73 155 253 229 168  67  20   8]\n",
            "Límite de los bins: [-3.14157849 -2.51834675 -1.89511501 -1.27188327 -0.64865153 -0.02541978\n",
            "  0.59781196  1.2210437   1.84427544  2.46750718  3.09073892]\n"
          ],
          "name": "stdout"
        }
      ]
    },
    {
      "cell_type": "code",
      "metadata": {
        "id": "kKX291iaz6gr",
        "colab": {
          "base_uri": "https://localhost:8080/",
          "height": 623
        },
        "outputId": "3bef9c13-cae5-4a64-88a2-1d2ecc82ef72"
      },
      "source": [
        "# Atajos en pandas \n",
        "\n",
        "import pandas as pd \n",
        "\n",
        "dataframe = pd.DataFrame()\n",
        "dataframe['x'] = np.random.normal(loc = 3.00, scale = 1.00, size = 100)\n",
        "dataframe['y'] = np.random.exponential(scale = 2.00, size = 100)\n",
        "dataframe['z'] = np.random.binomial(n = 10, p = 0.75, size = 100)\n",
        "\n",
        "print('Media:')\n",
        "print(dataframe.mean())\n",
        "\n",
        "print('Desviacion:')\n",
        "print(dataframe.std())\n",
        "\n",
        "print('90% central:')\n",
        "print(dataframe.quantile([0.5, 0.95]))\n",
        "\n",
        "print('Mediana:')\n",
        "print(dataframe.median())\n",
        "\n",
        "print('Moda de la variable discreta: ')\n",
        "print(dataframe['z'].mode())\n",
        "\n",
        "# Histogramas \n",
        "fig, ax = plt.subplots(1, 3, figsize = (15, 3))\n",
        "dataframe.hist(ax = ax, bins = 20, rwidth = 0.8, grid = False, cumulative = False, density = True)\n",
        "plt.show()"
      ],
      "execution_count": null,
      "outputs": [
        {
          "output_type": "stream",
          "text": [
            "Media:\n",
            "x    2.999271\n",
            "y    2.097894\n",
            "z    7.600000\n",
            "dtype: float64\n",
            "Desviacion:\n",
            "x    0.991073\n",
            "y    2.299977\n",
            "z    1.370689\n",
            "dtype: float64\n",
            "90% central:\n",
            "             x         y     z\n",
            "0.50  2.945449  1.367255  8.00\n",
            "0.95  4.522569  5.704590  9.05\n",
            "Mediana:\n",
            "x    2.945449\n",
            "y    1.367255\n",
            "z    8.000000\n",
            "dtype: float64\n",
            "Moda de la variable discreta: \n",
            "0    8\n",
            "dtype: int64\n"
          ],
          "name": "stdout"
        },
        {
          "output_type": "display_data",
          "data": {
            "image/png": "[encoded data removed]",
            "text/plain": [
              "<Figure size 1080x216 with 3 Axes>"
            ]
          },
          "metadata": {
            "tags": [],
            "needs_background": "light"
          }
        }
      ]
    },
    {
      "cell_type": "markdown",
      "metadata": {
        "id": "AUN0gliHqSth"
      },
      "source": [
        "### Algunos comentarios finales\n",
        "\n",
        "#### Log-normal y power-law\n",
        "\n",
        "Muchas veces los histogramas de datos que provengan de una log-normal o de una power-law pueden confundirse al presentar, por ejemplo, una gran probabilidad de que la variable aleatoria sea cercana a 0, al mismo tiempo de una probabilidad baja, pero no nula, para valores altos (lo que se denomina a veces como *cola pesada*)."
      ]
    },
    {
      "cell_type": "code",
      "metadata": {
        "colab": {
          "base_uri": "https://localhost:8080/",
          "height": 241
        },
        "id": "VlG_rx3zbdJu",
        "outputId": "13c8bd32-accd-4474-c005-d2c6d562e9aa"
      },
      "source": [
        "# Histogramas log-normal y power-law\n",
        "distribucion_lognormal = stats.lognorm(s = 2.00)\n",
        "distribucion_powerlaw = stats.powerlaw(0.10, scale = 1000)\n",
        "\n",
        "muestra_lognormal = distribucion_lognormal.rvs(size = 1000)\n",
        "muestra_powerlaw = distribucion_powerlaw.rvs(size = 1000)\n",
        "\n",
        "fig, ax = plt.subplots(1, 2, figsize = (15, 3))\n",
        "ax[0].hist(muestra_lognormal, bins = 20, density = True, rwidth = 0.80)\n",
        "ax[0].set_xlabel('x')\n",
        "ax[0].set_title('Log-normal')\n",
        "ax[1].hist(muestra_powerlaw, bins = 20, density = True, rwidth = 0.80)\n",
        "ax[1].set_xlabel('x')\n",
        "ax[1].set_title('Power-law')\n",
        "plt.show()"
      ],
      "execution_count": null,
      "outputs": [
        {
          "output_type": "display_data",
          "data": {
            "image/png": "[encoded data removed]",
            "text/plain": [
              "<Figure size 1080x216 with 2 Axes>"
            ]
          },
          "metadata": {
            "tags": [],
            "needs_background": "light"
          }
        }
      ]
    },
    {
      "cell_type": "markdown",
      "metadata": {
        "id": "BwmaWRWi5hrB"
      },
      "source": [
        "Sin embargo son dos distribuciones muy distintas: mientras la log-normal tiene una escala bien definida (es decir, sabemos a partir de qué valor las probabilidades de que ocurran valores mayores o menores son prácticamente nulas), una powerlaw puede presentar eventos extremos con una probabilidad no despreciable.\n",
        "\n",
        "Una solución para ver sus particularidades es realizar los histogramas en la escala log-log. Para simplicidad, lo que hacemos es hacer el histograma para el logaritmo de los datos y a su vez graficar el eje $y$ en escala logarítmica (otra solución creo más compleja es hacer un bineo logarítmico, bines más finos para valores bajos y bines más anchos para valores altos)."
      ]
    },
    {
      "cell_type": "code",
      "metadata": {
        "colab": {
          "base_uri": "https://localhost:8080/",
          "height": 241
        },
        "id": "cr3mpidIb3xn",
        "outputId": "d2e9a4e3-1cfa-46ea-fc69-15d3f9963390"
      },
      "source": [
        "# Histrogramas log-log\n",
        "\n",
        "fig, ax = plt.subplots(1, 2, figsize = (15, 3))\n",
        "ax[0].hist(np.log(muestra_lognormal), bins = 20, density = True, rwidth = 0.80, log = True)\n",
        "ax[0].set_xlabel('log(x)')\n",
        "ax[0].set_title('Log-normal')\n",
        "\n",
        "ax[1].hist(np.log(muestra_powerlaw), bins = 20, density = True, rwidth = 0.80, log = True)\n",
        "ax[1].set_xlabel('log(x)')\n",
        "ax[1].set_title('Power-law')\n",
        "\n",
        "plt.show()"
      ],
      "execution_count": null,
      "outputs": [
        {
          "output_type": "display_data",
          "data": {
            "image/png": "[encoded data removed]",
            "text/plain": [
              "<Figure size 1080x216 with 2 Axes>"
            ]
          },
          "metadata": {
            "tags": [],
            "needs_background": "light"
          }
        }
      ]
    },
    {
      "cell_type": "markdown",
      "metadata": {
        "id": "fgmJ4HWs6H3h"
      },
      "source": [
        "Esto nos muestra dos cosas:\n",
        "- La log-normal es prácticamente idéntica a una distribución normal viendo todo en escala logarítmica (en realidad, si $x$ es distribuído por una log-normal, entonces $log(x)$ está normalmente distribuído).\n",
        "- Por otro lado, un distintivo de las distribuciones power-law es que en escala log-log presentan una gráfico lineal (si $P(x) \\sim x^\\nu$ entonces $log(P(x)) \\sim \\nu log(x)$).\n",
        "\n",
        "La distinción es importante porque las power-law son conocidas también como leyes libre de escala. Teóricamente no tienen una dispersión bien definida (depende en realidad del exponente de la distribución) y por lo tanto carecen de una escala con la cual comparar la distancia al valor medio."
      ]
    },
    {
      "cell_type": "markdown",
      "metadata": {
        "id": "KiRm55S6qYBK"
      },
      "source": [
        "#### Normal multivariada\n",
        "\n",
        "Es importante mencionar que lamentablemente (o por suerte) no todo en la vida es unidimensional y por supuesto existen distribuciones de dos o más variables. Un ejemplo típico es una [normal multivariada](https://es.wikipedia.org/wiki/Distribuci%C3%B3n_normal_multivariada), que es la generalización de la distribución normal a varias dimensiones.\n",
        "\n",
        "Para el caso de dos variables estandarizadas, la función densidad es: $$f(x_1, x_2) = \\frac{1}{2\\pi |\\Sigma|^{1/2}} e^{-\\frac{1}{2} \\bar x^T \\Sigma^{-1} \\bar x}$$\n",
        "donde $\\bar x = (x_1, x_2)$ y $\\Sigma = \\Big(\\begin{matrix} 1 & \\rho\\\\\n",
        "\\rho & 1 \\end{matrix}\\Big)$. \n",
        "\n",
        "Lo interesante de esta distribución es que el coeficiente de correlación $\\rho$ aparece explícitamente es la función densidad, análogo a como aparecen los valores medios y desviaciones en la normal. Esta sería entonces una de las formas más sencillas de crear variables correlacionadas."
      ]
    },
    {
      "cell_type": "code",
      "metadata": {
        "colab": {
          "base_uri": "https://localhost:8080/",
          "height": 297
        },
        "id": "HO-Li3esfnKC",
        "outputId": "9b6c27cb-9815-4df1-f5e1-08ed6a4620ad"
      },
      "source": [
        "### Distribuciones multivariadas\n",
        "\n",
        "# Coeficiente de correlacion\n",
        "corr_x12 = 0.80\n",
        "\n",
        "distribucion = stats.multivariate_normal(mean = [0.00, 0.00], cov = np.array(([1.00, corr_x12], [corr_x12, 1.00])))\n",
        "muestra = distribucion.rvs(size = 1000) \n",
        "\n",
        "# Histograma 2D, notar que la muestra tiene dos columnas\n",
        "plt.hist2d(muestra[:,0], muestra[:,1], bins = 20)\n",
        "\n",
        "# Calculamos la correlacion de Pearson de los datos a modo de chequeo\n",
        "plt.title('Pearson r = {:.3f}'.format(stats.pearsonr(muestra[:,0], muestra[:,1])[0]))\n",
        "\n",
        "plt.xlabel('$x_1$')\n",
        "plt.ylabel('$x_2$')\n",
        "plt.colorbar(label = 'Frecuencia')\n",
        "plt.show()"
      ],
      "execution_count": null,
      "outputs": [
        {
          "output_type": "display_data",
          "data": {
            "image/png": "[encoded data removed]",
            "text/plain": [
              "<Figure size 432x288 with 2 Axes>"
            ]
          },
          "metadata": {
            "tags": [],
            "needs_background": "light"
          }
        }
      ]
    },
    {
      "cell_type": "code",
      "metadata": {
        "id": "z1g7yFMdXQL8"
      },
      "source": [
        ""
      ],
      "execution_count": null,
      "outputs": []
    }
  ]
}