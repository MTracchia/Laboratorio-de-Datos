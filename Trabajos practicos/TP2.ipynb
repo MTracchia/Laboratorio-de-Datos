{
  "nbformat": 4,
  "nbformat_minor": 0,
  "metadata": {
    "colab": {
      "name": "Ejercitación 2, Marcos Tracchia.ipynb",
      "provenance": [],
      "collapsed_sections": []
    },
    "kernelspec": {
      "name": "python3",
      "display_name": "Python 3"
    },
    "language_info": {
      "name": "python"
    }
  },
  "cells": [
    {
      "cell_type": "code",
      "metadata": {
        "id": "c5t35I7Wr732",
        "colab": {
          "base_uri": "https://localhost:8080/"
        },
        "outputId": "e473ef07-2158-4bee-a65a-3c1fae3acbe3"
      },
      "source": [
        "#Importo los datos desde mi cuenta de drive\n",
        "import pandas as pd\n",
        "from google.colab import drive\n",
        "drive.mount('/content/drive')\n",
        "filename = '/content/drive/My Drive/anticoncepcion_indonesia.csv' \n",
        "df = pd.read_csv(filename)\n",
        "print(df)"
      ],
      "execution_count": null,
      "outputs": [
        {
          "output_type": "stream",
          "text": [
            "Drive already mounted at /content/drive; to attempt to forcibly remount, call drive.mount(\"/content/drive\", force_remount=True).\n",
            "     edad_mujer  educacion_mujer  ...  exposicion_medios  metodo_anticonceptivo\n",
            "0            35                3  ...                  0                      2\n",
            "1            29                4  ...                  0                      2\n",
            "2            21                4  ...                  0                      3\n",
            "3            26                3  ...                  0                      3\n",
            "4            45                3  ...                  0                      1\n",
            "..          ...              ...  ...                ...                    ...\n",
            "291          29                2  ...                  0                      1\n",
            "292          38                4  ...                  0                      3\n",
            "293          47                4  ...                  0                      2\n",
            "294          44                3  ...                  1                      1\n",
            "295          39                4  ...                  0                      2\n",
            "\n",
            "[296 rows x 10 columns]\n"
          ],
          "name": "stdout"
        }
      ]
    },
    {
      "cell_type": "code",
      "metadata": {
        "colab": {
          "base_uri": "https://localhost:8080/"
        },
        "id": "U8fxihZcurw2",
        "outputId": "ba748599-2433-4212-ba0c-6bb48367389b"
      },
      "source": [
        "#Binarizé el campo \"metodo_anticonceptivo\" 1 == 0 y, 2 y 3 == 1 \n",
        "df.loc[df['metodo_anticonceptivo'] == 1, 'metodo_anticonceptivo'] = 0\n",
        "df.loc[(df['metodo_anticonceptivo'] == 2) | (df['metodo_anticonceptivo'] == 3), 'metodo_anticonceptivo'] = 1\n",
        "df_bin = df\n",
        "\n",
        "#Imprimo las primeras 25 filas\n",
        "print(df_bin[:25])"
      ],
      "execution_count": null,
      "outputs": [
        {
          "output_type": "stream",
          "text": [
            "    edad_mujer  educacion_mujer  ...  exposicion_medios  metodo_anticonceptivo\n",
            "0           35                3  ...                  0                      1\n",
            "1           29                4  ...                  0                      1\n",
            "2           21                4  ...                  0                      1\n",
            "3           26                3  ...                  0                      1\n",
            "4           45                3  ...                  0                      0\n",
            "5           41                1  ...                  1                      0\n",
            "6           26                2  ...                  0                      1\n",
            "7           26                3  ...                  0                      0\n",
            "8           34                3  ...                  0                      1\n",
            "9           42                2  ...                  0                      0\n",
            "10          45                3  ...                  0                      1\n",
            "11          28                1  ...                  0                      1\n",
            "12          32                4  ...                  0                      1\n",
            "13          36                4  ...                  0                      1\n",
            "14          27                4  ...                  0                      1\n",
            "15          32                3  ...                  0                      1\n",
            "16          25                2  ...                  0                      1\n",
            "17          42                4  ...                  0                      1\n",
            "18          48                3  ...                  0                      0\n",
            "19          30                4  ...                  0                      1\n",
            "20          18                3  ...                  0                      0\n",
            "21          28                2  ...                  0                      1\n",
            "22          25                1  ...                  1                      0\n",
            "23          21                3  ...                  0                      0\n",
            "24          26                2  ...                  0                      0\n",
            "\n",
            "[25 rows x 10 columns]\n"
          ],
          "name": "stdout"
        }
      ]
    },
    {
      "cell_type": "code",
      "metadata": {
        "colab": {
          "base_uri": "https://localhost:8080/",
          "height": 348
        },
        "id": "Ec8gFNAf0vnX",
        "outputId": "388ab566-67cd-431a-ab33-b626829edad7"
      },
      "source": [
        "\n",
        "#Importo módulos de scikit learn para el entrenamiento y ajuste de parámetros\n",
        "from sklearn.linear_model import LogisticRegression\n",
        "from sklearn.model_selection import train_test_split\n",
        "from sklearn.preprocessing import MinMaxScaler\n",
        "\n",
        "campos=[\"educacion_mujer\",\"educacion_hombre\",\"mujer_trabaja\"]\n",
        "X = df_bin[campos].values\n",
        "y = df_bin['metodo_anticonceptivo']\n",
        "\n",
        "\n",
        "X_train, X_test, y_train, y_test = train_test_split(X, y, test_size=0.3)\n",
        "\n",
        "\n",
        "scaler = MinMaxScaler() # primero creo un objeto MinMaxScaler. Por defecto, esto normaliza los datos al intervalo [0,1]\n",
        "scaler.fit(X_train) # encuentro los parametros para el escaleo\n",
        "X_train = scaler.transform(X_train) # aplico la transformacion\n",
        "\n",
        "scaler = MinMaxScaler() # primero creo un objeto MinMaxScaler. Por defecto, esto normaliza los datos al intervalo [0,1]\n",
        "scaler.fit(X_test) # encuentro los parametros para el escaleo\n",
        "X_test = scaler.transform(X_test) # aplico la transformacion\n",
        "\n",
        "\n",
        "regLog = LogisticRegression(penalty = 'l2', class_weight='balanced', max_iter=10000) # Inicializamos nuevamente el modelo\n",
        "regLog.fit(X, y) # Ajustamos el modelo con los parámetros\n",
        "\n",
        "score_train = regLog.score(X_train,y_train)\n",
        "ypred_train = regLog.predict(X_train)\n",
        "ypred_test= regLog.predict(X_test)\n",
        "proba = regLog.predict_proba(X_test)\n",
        "print(ypred_test)\n",
        "print(proba[:,1])\n",
        "\n",
        "'''\n",
        "-Terminar de ver bien lo de regLog\n",
        "-Ver qué atributos elegir para el mejor ajuste, cuidado con lo de los datos categoricos\n",
        "-Si queda tiempo, ver cómo optimizar los hiperparametros\n",
        "'''\n"
      ],
      "execution_count": null,
      "outputs": [
        {
          "output_type": "stream",
          "text": [
            "[0 0 0 0 0 0 0 0 0 0 0 0 0 0 0 0 0 0 0 0 0 0 0 0 0 0 0 0 0 0 0 0 0 0 0 0 0\n",
            " 0 0 0 0 0 0 0 0 0 0 0 0 0 0 0 0 0 0 0 0 0 0 0 0 0 0 0 0 0 0 0 0 0 0 0 0 0\n",
            " 0 0 0 0 0 0 0 0 0 0 0 0 0 0 0]\n",
            "[0.29387364 0.22701754 0.33943719 0.22701754 0.32338887 0.33943719\n",
            " 0.33943719 0.27906943 0.2514824  0.23938985 0.38741326 0.33943719\n",
            " 0.30843569 0.27906943 0.22701754 0.33943719 0.30843569 0.23938985\n",
            " 0.33943719 0.30843569 0.26612198 0.26612198 0.26612198 0.26536183\n",
            " 0.29387364 0.33943719 0.29387364 0.29387364 0.26536183 0.33943719\n",
            " 0.33943719 0.33943719 0.26612198 0.33943719 0.29387364 0.33943719\n",
            " 0.26612198 0.30843569 0.16152685 0.30843569 0.2514824  0.25209209\n",
            " 0.26536183 0.22701754 0.22701754 0.33943719 0.25209209 0.18116\n",
            " 0.23938985 0.27906943 0.32338887 0.22645012 0.25209209 0.33943719\n",
            " 0.33943719 0.33943719 0.35512155 0.29387364 0.29387364 0.32338887\n",
            " 0.27906943 0.29387364 0.19215465 0.22633463 0.26612198 0.29387364\n",
            " 0.27906943 0.29387364 0.26536183 0.33943719 0.25209209 0.33943719\n",
            " 0.20312625 0.26612198 0.29387364 0.26612198 0.29387364 0.33943719\n",
            " 0.33943719 0.29387364 0.23938985 0.30843569 0.33943719 0.33943719\n",
            " 0.22701754 0.2654904  0.33943719 0.26612198 0.23868122]\n"
          ],
          "name": "stdout"
        },
        {
          "output_type": "execute_result",
          "data": {
            "application/vnd.google.colaboratory.intrinsic+json": {
              "type": "string"
            },
            "text/plain": [
              "'\\n-Terminar de ver bien lo de regLog\\n-Ver qué atributos elegir para el mejor ajuste, cuidado con lo de los datos categoricos\\n-Si queda tiempo, ver cómo optimizar los hiperparametros\\n'"
            ]
          },
          "metadata": {
            "tags": []
          },
          "execution_count": 13
        }
      ]
    },
    {
      "cell_type": "code",
      "metadata": {
        "colab": {
          "base_uri": "https://localhost:8080/"
        },
        "id": "G1OgXXfplPr8",
        "outputId": "145d9952-38bc-44e9-9b6d-0d56a3912b26"
      },
      "source": [
        "#'/content/drive/My Drive/LaboDatos2021/coronadelicos_safe.csv' \n",
        "path = '/content/drive/My Drive/LaboDatos2021/anticoncepcion_indonesia_test.csv'\n",
        "df_test = pd.read_csv(path)\n",
        "df_test.columns"
      ],
      "execution_count": null,
      "outputs": [
        {
          "output_type": "execute_result",
          "data": {
            "text/plain": [
              "Index(['edad_mujer', 'educacion_mujer', 'educacion_hombre', 'numero_hijos',\n",
              "       'religion_mujer', 'mujer_trabaja', 'ocupacion_hombre', 'nivel_vida',\n",
              "       'exposicion_medios'],\n",
              "      dtype='object')"
            ]
          },
          "metadata": {
            "tags": []
          },
          "execution_count": 14
        }
      ]
    },
    {
      "cell_type": "code",
      "metadata": {
        "colab": {
          "base_uri": "https://localhost:8080/"
        },
        "id": "WrMZiLeYlUbu",
        "outputId": "921cdec6-c9b9-4f4e-cf22-2ce3af648442"
      },
      "source": [
        "campos=[\"educacion_mujer\",\"educacion_hombre\",\"mujer_trabaja\"]\n",
        "X = df_test[campos].values\n",
        "\n",
        "proba = regLog.predict_proba(X)\n",
        "\n",
        "print(proba)"
      ],
      "execution_count": null,
      "outputs": [
        {
          "output_type": "stream",
          "text": [
            "[[0.61028005 0.38971995]\n",
            " [0.5919798  0.4080202 ]\n",
            " [0.70545434 0.29454566]\n",
            " ...\n",
            " [0.70545434 0.29454566]\n",
            " [0.80683859 0.19316141]\n",
            " [0.61028005 0.38971995]]\n"
          ],
          "name": "stdout"
        }
      ]
    },
    {
      "cell_type": "code",
      "metadata": {
        "id": "vIaZ7Nb7mkN9"
      },
      "source": [
        "import numpy as np\n",
        "save_path= '/content/drive/My Drive/Marcos_Tracchia.csv'\n",
        "np.savetxt(save_path, proba, delimiter=\",\")"
      ],
      "execution_count": null,
      "outputs": []
    }
  ]
}